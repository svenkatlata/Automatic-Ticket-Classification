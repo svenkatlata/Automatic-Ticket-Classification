{
 "cells": [
  {
   "cell_type": "markdown",
   "id": "e81dbe34",
   "metadata": {
    "id": "e81dbe34"
   },
   "source": [
    "\n",
    "## How to Interact with this Jupyter Notebook\n",
    "In this activity, you will use a Jupyter Notebook, which integrates both text and code.\n",
    "The gray boxes contain executable code, which you will run in order to view its output.\n",
    "The text in between the code provides instructions.\n",
    "\n",
    "### Scenario: Taming Temperature Data with Python\n",
    "You're a data analyst working on a weather project. You've collected a series of temperature readings in Celsius,\n",
    "but your analysis tools and reports require temperatures in Fahrenheit.\n",
    "It's time to put your Python skills to work!\n",
    "You’ll create a program that efficiently converts a list of Celsius temperatures into their Fahrenheit equivalents,\n",
    "demonstrating the power of loops and variables in handling real-world data transformations.\n",
    "\n",
    "### Activity Summary:\n",
    "- Create and initialize lists to store temperature data.\n",
    "- Use a loop to iterate through Celsius temperatures.\n",
    "- Apply the Celsius-to-Fahrenheit conversion formula.\n",
    "- Store converted Fahrenheit temperatures in a new list.\n"
   ]
  },
  {
   "cell_type": "code",
   "execution_count": null,
   "id": "832b9aab",
   "metadata": {
    "colab": {
     "base_uri": "https://localhost:8080/"
    },
    "executionInfo": {
     "elapsed": 8,
     "status": "ok",
     "timestamp": 1739878615373,
     "user": {
      "displayName": "Cliff Chirchir",
      "userId": "09196587370671306804"
     },
     "user_tz": -180
    },
    "id": "832b9aab",
    "outputId": "47860edf-e64a-49a4-a953-0641f946c79a"
   },
   "outputs": [
    {
     "name": "stdout",
     "output_type": "stream",
     "text": [
      "Celsius Temperatures: [0, 10, 25, 32, 100]\n",
      "Fahrenheit Temperatures: []\n"
     ]
    }
   ],
   "source": [
    "\n",
    "# Step 1: Store temperature data\n",
    "celsius_temperatures = [0, 10, 25, 32, 100]  # Celsius temperatures list\n",
    "fahrenheit_temperatures = []  # Empty list for Fahrenheit temperatures\n",
    "\n",
    "# Printing initial state of lists\n",
    "print(\"Celsius Temperatures:\", celsius_temperatures)\n",
    "print(\"Fahrenheit Temperatures:\", fahrenheit_temperatures)\n"
   ]
  },
  {
   "cell_type": "markdown",
   "id": "1bb357b5",
   "metadata": {
    "id": "1bb357b5"
   },
   "source": [
    "\n",
    "### Step 2: Convert temperatures\n",
    "It's time to convert your Celsius temperatures to Fahrenheit:\n",
    "- A for loop to iterate through each celsius value in the celsius_temperatures list has been provided for you.\n",
    "- Inside the loop:\n",
    "  - Apply the Celsius to Fahrenheit conversion formula: F = (C * 9/5) + 32, where F is the Fahrenheit temperature and C is the Celsius temperature.\n",
    "  - The code to store each calculated fahrenheit value in the fahrenheit_temperatures list using the append() method has been provided for you.\n",
    "- Print the results\n"
   ]
  },
  {
   "cell_type": "markdown",
   "id": "dMl2AGKsI26k",
   "metadata": {
    "id": "dMl2AGKsI26k"
   },
   "source": [
    "# New Section"
   ]
  },
  {
   "cell_type": "code",
   "execution_count": null,
   "id": "8e886c2c",
   "metadata": {
    "colab": {
     "base_uri": "https://localhost:8080/"
    },
    "executionInfo": {
     "elapsed": 4,
     "status": "ok",
     "timestamp": 1739878616873,
     "user": {
      "displayName": "Cliff Chirchir",
      "userId": "09196587370671306804"
     },
     "user_tz": -180
    },
    "id": "8e886c2c",
    "outputId": "281a31ce-0876-406a-c1af-bcec5a668f68"
   },
   "outputs": [
    {
     "name": "stdout",
     "output_type": "stream",
     "text": [
      "Celsius Temperatures: [0, 10, 25, 32, 100]\n",
      "Fahrenheit Temperatures: [32.0, 50.0, 77.0, 89.6, 212.0]\n"
     ]
    }
   ],
   "source": [
    "\n",
    "# Convert each Celsius temperature to Fahrenheit\n",
    "for celsius in celsius_temperatures:  #Start the loop\n",
    "    fahrenheit = (celsius * 9/5) + 32  # Celsius to Fahrenheit conversion formula\n",
    "    fahrenheit_temperatures.append(fahrenheit)  # Append to the list\n",
    "\n",
    "# Print the results (including the output from Step 1)\n",
    "print(\"Celsius Temperatures:\", celsius_temperatures)\n",
    "print(\"Fahrenheit Temperatures:\", fahrenheit_temperatures)\n"
   ]
  },
  {
   "cell_type": "markdown",
   "id": "ZwnrrAwc3_uf",
   "metadata": {
    "id": "ZwnrrAwc3_uf"
   },
   "source": [
    "Let's break down those key concepts within the context of a function that calculates the area of a rectangle called calculate_area:"
   ]
  },
  {
   "cell_type": "code",
   "execution_count": null,
   "id": "293-kn013-gZ",
   "metadata": {
    "colab": {
     "base_uri": "https://localhost:8080/"
    },
    "executionInfo": {
     "elapsed": 8,
     "status": "ok",
     "timestamp": 1739191249968,
     "user": {
      "displayName": "Rooldy Alphonse",
      "userId": "16715067766107628705"
     },
     "user_tz": -60
    },
    "id": "293-kn013-gZ",
    "outputId": "5d14b195-ab11-4760-d3ad-f85de078c700"
   },
   "outputs": [
    {
     "name": "stdout",
     "output_type": "stream",
     "text": [
      "The area of the rectangle is: 15\n"
     ]
    }
   ],
   "source": [
    "def calculate_area(length, width):\n",
    "  area = length * width\n",
    "  return area\n",
    "\n",
    "# Example usage:\n",
    "length = 5\n",
    "width = 3\n",
    "rectangle_area = calculate_area(length, width) # Function call, providing inputs\n",
    "print(f\"The area of the rectangle is: {rectangle_area}\") # Using the output"
   ]
  },
  {
   "cell_type": "code",
   "execution_count": null,
   "id": "4j3etfDY4Ity",
   "metadata": {
    "colab": {
     "base_uri": "https://localhost:8080/"
    },
    "executionInfo": {
     "elapsed": 14,
     "status": "ok",
     "timestamp": 1739192400886,
     "user": {
      "displayName": "Rooldy Alphonse",
      "userId": "16715067766107628705"
     },
     "user_tz": -60
    },
    "id": "4j3etfDY4Ity",
    "outputId": "57e050b4-9b81-4aa6-e584-234d6ed4948f"
   },
   "outputs": [
    {
     "name": "stdout",
     "output_type": "stream",
     "text": [
      "Highest temperature: -23.8 °C\n",
      "Lowest temperature: -29.2 °C\n",
      "Average temperature: -26.4 °C\n",
      "The coldest temperature was 29.2 °C below freezing.\n"
     ]
    }
   ],
   "source": [
    "antarctic_temperatures = [-25.5, -28.0, -26.3, -23.8, -27.1, -24.9, -29.2]\n",
    "\n",
    "# Trouver la température la plus élevée et la plus basse\n",
    "highest_temp = max(antarctic_temperatures)\n",
    "lowest_temp = min(antarctic_temperatures)\n",
    "\n",
    "print(\"Highest temperature:\", highest_temp, \"°C\")\n",
    "print(\"Lowest temperature:\", lowest_temp, \"°C\")\n",
    "\n",
    "# Calculer la température moyenne et l'arrondir à une décimale\n",
    "average_temp = round(sum(antarctic_temperatures) / len(antarctic_temperatures), 1)\n",
    "print(\"Average temperature:\", average_temp, \"°C\")\n",
    "\n",
    "# Trouver la valeur absolue de la température la plus froide\n",
    "coldest_temp_abs = abs(lowest_temp)\n",
    "print(\"The coldest temperature was\", coldest_temp_abs, \"°C below freezing.\")"
   ]
  },
  {
   "cell_type": "code",
   "execution_count": null,
   "id": "wIQ9QS5V8fs9",
   "metadata": {
    "colab": {
     "base_uri": "https://localhost:8080/"
    },
    "executionInfo": {
     "elapsed": 9,
     "status": "ok",
     "timestamp": 1739192416869,
     "user": {
      "displayName": "Rooldy Alphonse",
      "userId": "16715067766107628705"
     },
     "user_tz": -60
    },
    "id": "wIQ9QS5V8fs9",
    "outputId": "b5b1c4c6-c2e5-4429-b227-45b0c1836f1d"
   },
   "outputs": [
    {
     "name": "stdout",
     "output_type": "stream",
     "text": [
      "Length of sentence 1: 67\n",
      "Length of sentence 2: 66\n",
      "Uppercase sentence 1: I'M READING A BOOK ABOUT ANTI-GRAVITY. IT'S IMPOSSIBLE TO PUT DOWN!\n",
      "Lowercase sentence 2: why don't scientists trust atoms? because they make up everything!\n"
     ]
    }
   ],
   "source": [
    "sentence1 = \"I'm reading a book about anti-gravity. It's impossible to put down!\"\n",
    "sentence2 = \"Why don't scientists trust atoms? Because they make up everything!\"\n",
    "\n",
    "# Trouver la longueur de chaque phrase\n",
    "length_sentence1 = len(sentence1)\n",
    "length_sentence2 = len(sentence2)\n",
    "\n",
    "print(\"Length of sentence 1:\", length_sentence1)\n",
    "print(\"Length of sentence 2:\", length_sentence2)\n",
    "\n",
    "# Convertir la casse\n",
    "uppercase_sentence1 = sentence1.upper()  # Correction : .upper() et non .Uppercase()\n",
    "lowercase_sentence2 = sentence2.lower()  # Correction : .lower() et non .Lowercase()\n",
    "\n",
    "print(\"Uppercase sentence 1:\", uppercase_sentence1)\n",
    "print(\"Lowercase sentence 2:\", lowercase_sentence2)\n"
   ]
  },
  {
   "cell_type": "code",
   "execution_count": null,
   "id": "ACwtc1488jm5",
   "metadata": {
    "colab": {
     "base_uri": "https://localhost:8080/"
    },
    "executionInfo": {
     "elapsed": 41,
     "status": "ok",
     "timestamp": 1739192431089,
     "user": {
      "displayName": "Rooldy Alphonse",
      "userId": "16715067766107628705"
     },
     "user_tz": -60
    },
    "id": "ACwtc1488jm5",
    "outputId": "0976c921-a521-4948-97c5-9fa837918521"
   },
   "outputs": [
    {
     "name": "stdout",
     "output_type": "stream",
     "text": [
      "Modified sentence 1: I'm reading a book about anti-gravity. It's challenging to put down!\n",
      "Words in sentence 2: ['Why', \"don't\", 'scientists', 'trust', 'atoms?', 'Because', 'they', 'make', 'up', 'everything!']\n"
     ]
    }
   ],
   "source": [
    "sentence1 = \"I'm reading a book about anti-gravity. It's impossible to put down!\"\n",
    "sentence2 = \"Why don't scientists trust atoms? Because they make up everything!\"\n",
    "\n",
    "# Replace a word in sentence1\n",
    "modified_sentence1 = sentence1.replace(\"impossible\", \"challenging\")  ### Insert code here\n",
    "print(\"Modified sentence 1:\", modified_sentence1)\n",
    "\n",
    "# Split sentence2 into a list of words\n",
    "words_list = sentence2.split() ### Insert code here\n",
    "\n",
    "print(\"Words in sentence 2:\", words_list)"
   ]
  },
  {
   "cell_type": "markdown",
   "id": "IJwxXJKFWGNG",
   "metadata": {
    "id": "IJwxXJKFWGNG"
   },
   "source": [
    "Local scope: Variables with limited reach"
   ]
  },
  {
   "cell_type": "code",
   "execution_count": null,
   "id": "zBKb2d4_8nEl",
   "metadata": {
    "colab": {
     "base_uri": "https://localhost:8080/"
    },
    "executionInfo": {
     "elapsed": 226,
     "status": "ok",
     "timestamp": 1739678150772,
     "user": {
      "displayName": "Ezekiel Ibem",
      "userId": "11756248235350615133"
     },
     "user_tz": -60
    },
    "id": "zBKb2d4_8nEl",
    "outputId": "ce07ec96-41a3-407e-ebe2-4b7fd598de19"
   },
   "outputs": [
    {
     "name": "stdout",
     "output_type": "stream",
     "text": [
      "3.0\n"
     ]
    }
   ],
   "source": [
    "def calculate_average(numbers):\n",
    "    total = 0  # Local variable\n",
    "    count = len(numbers)  # Local variable\n",
    "    for num in numbers:\n",
    "        total += num\n",
    "    average = total / count\n",
    "    return average\n",
    "\n",
    "print(calculate_average([2, 5, 4, 1]))"
   ]
  },
  {
   "cell_type": "markdown",
   "id": "RvYjHBlmWDbT",
   "metadata": {
    "id": "RvYjHBlmWDbT"
   },
   "source": [
    "Global scope: Variables with universal access"
   ]
  },
  {
   "cell_type": "code",
   "execution_count": null,
   "id": "5f7_gv7wVu9V",
   "metadata": {
    "colab": {
     "base_uri": "https://localhost:8080/"
    },
    "executionInfo": {
     "elapsed": 14,
     "status": "ok",
     "timestamp": 1739199147229,
     "user": {
      "displayName": "Rooldy Alphonse",
      "userId": "16715067766107628705"
     },
     "user_tz": -60
    },
    "id": "5f7_gv7wVu9V",
    "outputId": "e1184d38-0ad7-45f7-8dd2-b300c6de07e1"
   },
   "outputs": [
    {
     "name": "stdout",
     "output_type": "stream",
     "text": [
      "Welcome to Global Tech Solutions\n",
      "Contact us at info@ global tech solutions\n"
     ]
    }
   ],
   "source": [
    "# Global variable\n",
    "COMPANY_NAME = \"Global Tech Solutions\"\n",
    "def print_welcome_message():\n",
    "    print(\"Welcome to\", COMPANY_NAME)\n",
    "def print_contact_info():\n",
    "    print(\"Contact us at info@\", COMPANY_NAME.lower())\n",
    "print_welcome_message()\n",
    "# Output: Welcome to Global Tech Solutions\n",
    "print_contact_info()\n",
    "# Output: Contact us at info@globaltechsolutions"
   ]
  },
  {
   "cell_type": "markdown",
   "id": "75H2iPQSWgWy",
   "metadata": {
    "id": "75H2iPQSWgWy"
   },
   "source": [
    "Nested scopes and the enclosing scope"
   ]
  },
  {
   "cell_type": "code",
   "execution_count": null,
   "id": "lXMxULE-WOwe",
   "metadata": {
    "colab": {
     "base_uri": "https://localhost:8080/"
    },
    "executionInfo": {
     "elapsed": 38,
     "status": "ok",
     "timestamp": 1739199233897,
     "user": {
      "displayName": "Rooldy Alphonse",
      "userId": "16715067766107628705"
     },
     "user_tz": -60
    },
    "id": "lXMxULE-WOwe",
    "outputId": "c0a14f5c-147f-4f25-b3d1-be09175f0a66"
   },
   "outputs": [
    {
     "name": "stdout",
     "output_type": "stream",
     "text": [
      "Hello from the outer function!\n"
     ]
    }
   ],
   "source": [
    "def outer_function():\n",
    "    outer_var = \"Hello from the outer function!\"\n",
    "    def inner_function():\n",
    "        print(outer_var)  # Accessible from the enclosing scope\n",
    "    inner_function()\n",
    "outer_function()\n",
    "# Two nested functions, the outer one labeled outer_function and the inner one inner_function"
   ]
  },
  {
   "cell_type": "markdown",
   "id": "1S39VRlJYb_6",
   "metadata": {
    "id": "1S39VRlJYb_6"
   },
   "source": [
    "Encapsulation"
   ]
  },
  {
   "cell_type": "code",
   "execution_count": null,
   "id": "DQmHHuZcWj6e",
   "metadata": {
    "id": "DQmHHuZcWj6e"
   },
   "outputs": [],
   "source": [
    "class BankAccount:\n",
    "    def __init__(self, balance):\n",
    "        self._balance = balance  # Private attribute\n",
    "\n",
    "    def deposit(self, amount):\n",
    "        self._balance += amount\n",
    "\n",
    "    def get_balance(self):\n",
    "        return self._balance"
   ]
  },
  {
   "cell_type": "markdown",
   "id": "e6FZ5aiaYdke",
   "metadata": {
    "id": "e6FZ5aiaYdke"
   },
   "source": [
    "Abstraction"
   ]
  },
  {
   "cell_type": "code",
   "execution_count": null,
   "id": "QXG_MYFSYUOl",
   "metadata": {
    "id": "QXG_MYFSYUOl"
   },
   "outputs": [],
   "source": [
    "from abc import ABC, abstractmethod\n",
    "\n",
    "class Animal(ABC):  # Abstract base class\n",
    "    @abstractmethod\n",
    "    def make_sound(self):\n",
    "        pass\n",
    "\n",
    "class Dog(Animal):  # Concrete subclass\n",
    "    def make_sound(self):\n",
    "        return \"Bark!\""
   ]
  },
  {
   "cell_type": "code",
   "execution_count": null,
   "id": "PjwjziIiYmWk",
   "metadata": {
    "colab": {
     "base_uri": "https://localhost:8080/"
    },
    "executionInfo": {
     "elapsed": 44,
     "status": "ok",
     "timestamp": 1739200321476,
     "user": {
      "displayName": "Rooldy Alphonse",
      "userId": "16715067766107628705"
     },
     "user_tz": -60
    },
    "id": "PjwjziIiYmWk",
    "outputId": "af8de517-64f3-45f8-ee25-265a2894374b"
   },
   "outputs": [
    {
     "name": "stdout",
     "output_type": "stream",
     "text": [
      "Woof! My name is Buddy and I'm a Golden Retriever.\n"
     ]
    }
   ],
   "source": [
    "# Add your code here\n",
    "class Dog:\n",
    "    def __init__(self, name, breed):\n",
    "        self.name = name  # Private attribute\n",
    "        self.breed = breed\n",
    "\n",
    "    def bark(self):\n",
    "        print(f\"Woof! My name is {self.name} and I'm a {self.breed}.\")\n",
    "\n",
    "my_dog = Dog(\"Buddy\", \"Golden Retriever\")\n",
    "\n",
    "my_dog.bark()"
   ]
  },
  {
   "cell_type": "code",
   "execution_count": null,
   "id": "oPYp-Vx7atbm",
   "metadata": {
    "colab": {
     "base_uri": "https://localhost:8080/"
    },
    "executionInfo": {
     "elapsed": 10,
     "status": "ok",
     "timestamp": 1739200976893,
     "user": {
      "displayName": "Rooldy Alphonse",
      "userId": "16715067766107628705"
     },
     "user_tz": -60
    },
    "id": "oPYp-Vx7atbm",
    "outputId": "c1e826f6-92f7-4d78-caa7-9d02ca3509ec"
   },
   "outputs": [
    {
     "name": "stdout",
     "output_type": "stream",
     "text": [
      "Radius: 7, Diameter: 14\n",
      "Radius: 0, Diameter: 0\n",
      "Radius: -3, Error: Radius cannot be negative.\n",
      "Radius: 1000000, Diameter: 2000000\n"
     ]
    }
   ],
   "source": [
    "def calculate_diameter_circle(radius: float) -> float:\n",
    "    \"\"\"\n",
    "    Calcule le diamètre d'un cercle à partir de son rayon.\n",
    "\n",
    "    Args:\n",
    "        radius (float): Le rayon du cercle (doit être positif ou nul).\n",
    "\n",
    "    Returns:\n",
    "        float: Le diamètre du cercle (2 fois le rayon).\n",
    "\n",
    "    Raises:\n",
    "        ValueError: Si le rayon est négatif.\n",
    "    \"\"\"\n",
    "    if radius < 0:\n",
    "        raise ValueError(\"Radius cannot be negative.\")\n",
    "\n",
    "    return radius * 2\n",
    "\n",
    "# Test de la fonction avec différents cas\n",
    "test_values = [7, 0, -3, 1000000]\n",
    "\n",
    "for value in test_values:\n",
    "    try:\n",
    "        result = calculate_diameter_circle(value)\n",
    "        print(f\"Radius: {value}, Diameter: {result}\")\n",
    "    except ValueError as e:\n",
    "        print(f\"Radius: {value}, Error: {e}\")\n"
   ]
  },
  {
   "cell_type": "code",
   "execution_count": null,
   "id": "wUWtq-kodNcq",
   "metadata": {
    "colab": {
     "base_uri": "https://localhost:8080/"
    },
    "executionInfo": {
     "elapsed": 11,
     "status": "ok",
     "timestamp": 1739205729230,
     "user": {
      "displayName": "Rooldy Alphonse",
      "userId": "16715067766107628705"
     },
     "user_tz": -60
    },
    "id": "wUWtq-kodNcq",
    "outputId": "ac45d556-4992-4695-9c9c-1bd61fe6d16b"
   },
   "outputs": [
    {
     "name": "stdout",
     "output_type": "stream",
     "text": [
      "Happy Birthday!\n"
     ]
    }
   ],
   "source": [
    "# EXERCISE 1: SOLUTION\n",
    "\n",
    "def happy_birthday():\n",
    "    print(\"Happy Birthday!\")\n",
    "\n",
    "# Code to call the function\n",
    "happy_birthday()"
   ]
  },
  {
   "cell_type": "code",
   "execution_count": null,
   "id": "6eXZfeVFvVsJ",
   "metadata": {
    "colab": {
     "base_uri": "https://localhost:8080/"
    },
    "executionInfo": {
     "elapsed": 5,
     "status": "ok",
     "timestamp": 1739205740909,
     "user": {
      "displayName": "Rooldy Alphonse",
      "userId": "16715067766107628705"
     },
     "user_tz": -60
    },
    "id": "6eXZfeVFvVsJ",
    "outputId": "0e61e30b-f7fb-4f81-b9a9-bfe6fd9960ff"
   },
   "outputs": [
    {
     "name": "stdout",
     "output_type": "stream",
     "text": [
      "Happy Birthday Nora and congratulations on turning 22 years old!\n"
     ]
    }
   ],
   "source": [
    "# EXERCISE 2: SOLUTION\n",
    "def happy_birthday(age, name):\n",
    "    print(\"Happy Birthday\",name,\"and congratulations on turning\",age,\"years old!\")\n",
    "\n",
    "# Code to call the function\n",
    "happy_birthday(22, \"Nora\")\n"
   ]
  },
  {
   "cell_type": "code",
   "execution_count": null,
   "id": "7i-JlKSFvYi0",
   "metadata": {
    "colab": {
     "base_uri": "https://localhost:8080/"
    },
    "executionInfo": {
     "elapsed": 4,
     "status": "ok",
     "timestamp": 1739205753327,
     "user": {
      "displayName": "Rooldy Alphonse",
      "userId": "16715067766107628705"
     },
     "user_tz": -60
    },
    "id": "7i-JlKSFvYi0",
    "outputId": "603be4fa-2537-48fc-ef63-5de9a2bada48"
   },
   "outputs": [
    {
     "name": "stdout",
     "output_type": "stream",
     "text": [
      "Your lucky number is: 23\n"
     ]
    }
   ],
   "source": [
    "# EXERCISE 3: SOLUTION\n",
    "import random\n",
    "\n",
    "def get_lucky_number():\n",
    "  lucky_num = random.randint(1,100)\n",
    "  return lucky_num\n",
    "\n",
    "# Get a lucky number between 1 and 100\n",
    "lucky_number = get_lucky_number()\n",
    "\n",
    "print(\"Your lucky number is:\", lucky_number)"
   ]
  },
  {
   "cell_type": "code",
   "execution_count": null,
   "id": "Md0m-Ke_vblA",
   "metadata": {
    "colab": {
     "base_uri": "https://localhost:8080/"
    },
    "executionInfo": {
     "elapsed": 41,
     "status": "ok",
     "timestamp": 1739205768423,
     "user": {
      "displayName": "Rooldy Alphonse",
      "userId": "16715067766107628705"
     },
     "user_tz": -60
    },
    "id": "Md0m-Ke_vblA",
    "outputId": "e4c5def7-a5a3-4f5f-96b1-a7ad41f6013f"
   },
   "outputs": [
    {
     "name": "stdout",
     "output_type": "stream",
     "text": [
      "Member price: 127.92\n",
      "Non-member price: 142.97\n"
     ]
    }
   ],
   "source": [
    "# EXERCISE 4: SOLUTION\n",
    "def calc_sale_price(amount, member):\n",
    "    if member:\n",
    "        # Members receive a 15% discount (0.15)\n",
    "        amount = amount - (amount * 0.15)\n",
    "    else:\n",
    "        # Non-members get a 5% discount (0.05)\n",
    "        amount = amount - (amount * 0.05)\n",
    "    amount = round(amount,2)\n",
    "\n",
    "    # Insert code here\n",
    "    return amount\n",
    "\n",
    "# Example price (already provided)\n",
    "full_price = 150.50\n",
    "\n",
    "# Call function for members\n",
    "member_price = calc_sale_price(full_price, True)\n",
    "print(\"Member price:\",member_price)\n",
    "\n",
    "# Call function for non-members\n",
    "non_member_price = calc_sale_price(full_price, False)\n",
    "print(\"Non-member price:\",non_member_price)\n"
   ]
  },
  {
   "cell_type": "code",
   "execution_count": null,
   "id": "tXSFasP4vfQG",
   "metadata": {
    "colab": {
     "base_uri": "https://localhost:8080/"
    },
    "executionInfo": {
     "elapsed": 4,
     "status": "ok",
     "timestamp": 1739205782154,
     "user": {
      "displayName": "Rooldy Alphonse",
      "userId": "16715067766107628705"
     },
     "user_tz": -60
    },
    "id": "tXSFasP4vfQG",
    "outputId": "665225a8-efbe-4770-b43a-f7118da44694"
   },
   "outputs": [
    {
     "name": "stdout",
     "output_type": "stream",
     "text": [
      "First shirt color is: Pink\n"
     ]
    }
   ],
   "source": [
    "# EXERCISE 5: SOLUTION\n",
    "def display_color_failure():\n",
    "  # Try to access 'color' directly (this will cause an error)\n",
    "  print(\"Your shirt color is:\", shirt_color)\n",
    "\n",
    "def display_color_works():\n",
    "  shirt_color = \"Pink\"\n",
    "  print(\"First shirt color is:\", shirt_color)\n",
    "\n",
    "# The shirt_color variable is in scope in this function\n",
    "display_color_works()\n",
    "\n",
    "# The shirt_color variable is not in scope in this function\n",
    "#display_color_failure()"
   ]
  },
  {
   "cell_type": "code",
   "execution_count": null,
   "id": "FE0PF7JIvinY",
   "metadata": {
    "colab": {
     "base_uri": "https://localhost:8080/",
     "height": 393
    },
    "executionInfo": {
     "elapsed": 148,
     "status": "error",
     "timestamp": 1739205794117,
     "user": {
      "displayName": "Rooldy Alphonse",
      "userId": "16715067766107628705"
     },
     "user_tz": -60
    },
    "id": "FE0PF7JIvinY",
    "outputId": "d954dbfb-729e-47d3-f454-381e35e6cd87"
   },
   "outputs": [
    {
     "ename": "ModuleNotFoundError",
     "errorDetails": {
      "actions": [
       {
        "action": "open_url",
        "actionText": "Open Examples",
        "url": "/notebooks/snippets/importing_libraries.ipynb"
       }
      ]
     },
     "evalue": "No module named 'menus'",
     "output_type": "error",
     "traceback": [
      "\u001b[0;31m---------------------------------------------------------------------------\u001b[0m",
      "\u001b[0;31mModuleNotFoundError\u001b[0m                       Traceback (most recent call last)",
      "\u001b[0;32m<ipython-input-17-75a2dda997b7>\u001b[0m in \u001b[0;36m<cell line: 0>\u001b[0;34m()\u001b[0m\n\u001b[1;32m      1\u001b[0m \u001b[0;31m# EXERCISE 6: SOLUTION\u001b[0m\u001b[0;34m\u001b[0m\u001b[0;34m\u001b[0m\u001b[0m\n\u001b[1;32m      2\u001b[0m \u001b[0;31m# import the menus module (menus.py needs to exist)\u001b[0m\u001b[0;34m\u001b[0m\u001b[0;34m\u001b[0m\u001b[0m\n\u001b[0;32m----> 3\u001b[0;31m \u001b[0;32mimport\u001b[0m \u001b[0mmenus\u001b[0m\u001b[0;34m\u001b[0m\u001b[0;34m\u001b[0m\u001b[0m\n\u001b[0m\u001b[1;32m      4\u001b[0m \u001b[0;34m\u001b[0m\u001b[0m\n\u001b[1;32m      5\u001b[0m \u001b[0;31m# Call the display_menu function in the menus module\u001b[0m\u001b[0;34m\u001b[0m\u001b[0;34m\u001b[0m\u001b[0m\n",
      "\u001b[0;31mModuleNotFoundError\u001b[0m: No module named 'menus'",
      "",
      "\u001b[0;31m---------------------------------------------------------------------------\u001b[0;32m\nNOTE: If your import is failing due to a missing package, you can\nmanually install dependencies using either !pip or !apt.\n\nTo view examples of installing some common dependencies, click the\n\"Open Examples\" button below.\n\u001b[0;31m---------------------------------------------------------------------------\u001b[0m\n"
     ]
    }
   ],
   "source": [
    "# EXERCISE 6: SOLUTION\n",
    "# import the menus module (menus.py needs to exist)\n",
    "import menus\n",
    "\n",
    "# Call the display_menu function in the menus module\n",
    "user_choice = menus.display_menu()"
   ]
  },
  {
   "cell_type": "code",
   "execution_count": null,
   "id": "LfRYWs_tvlfr",
   "metadata": {
    "id": "LfRYWs_tvlfr"
   },
   "outputs": [],
   "source": [
    "def validate_tweet(tweet_text, media_files=None):\n",
    "    \"\"\"Validates the tweet text and media files.\"\"\"\n",
    "    if not is_valid_tweet(tweet_text):\n",
    "        raise ValueError(\"Invalid tweet: Text exceeds character limit or contains prohibited content.\")\n",
    "    if media_files and not are_valid_media_files(media_files):\n",
    "        raise ValueError(\"Invalid tweet: Unsupported media type or size limit exceeded.\")\n",
    "\n",
    "def store_tweet(user_id, tweet_text, media_files=None):\n",
    "    \"\"\"Stores the tweet data in the database, handling media uploads if necessary.\"\"\"\n",
    "    tweet_data = {\n",
    "        \"user_id\": user_id,\n",
    "        \"text\": tweet_text,\n",
    "        \"media_ids\": [],  # Initialize empty list for media IDs\n",
    "        \"timestamp\": datetime.datetime.now(),  # Add timestamp for sorting\n",
    "    }\n",
    "\n",
    "    if media_files:\n",
    "        for media_file in media_files:\n",
    "            media_id = upload_media(media_file)\n",
    "            tweet_data[\"media_ids\"].append(media_id)\n",
    "\n",
    "    return store_tweet_in_database(tweet_data)\n",
    "\n",
    "def post_tweet(user_id, tweet_text, media_files=None):\n",
    "    \"\"\"Orchestrates the tweet posting process.\"\"\"\n",
    "    validate_tweet(tweet_text, media_files)\n",
    "\n",
    "    tweet_id = store_tweet(user_id, tweet_text, media_files)\n",
    "\n",
    "    update_followers_feeds(user_id, tweet_id)\n",
    "\n",
    "    if hashtags := extract_hashtags(tweet_text):\n",
    "        index_tweet_for_hashtags(tweet_id, hashtags)\n",
    "\n",
    "    return tweet_id"
   ]
  },
  {
   "cell_type": "code",
   "execution_count": null,
   "id": "ZrFTkWQ4iZ4q",
   "metadata": {
    "id": "ZrFTkWQ4iZ4q"
   },
   "outputs": [],
   "source": [
    "from textblob import TextBlob\n",
    "from nltk.corpus import stopwords\n",
    "from collections import Counter\n",
    "\n",
    "def preprocess_review(review):\n",
    "    \"\"\"Removes stopwords, punctuation, and converts to lowercase.\"\"\"\n",
    "    # ... (Implementation details)\n",
    "    return preprocessed_review\n",
    "\n",
    "def analyze_sentiment(preprocessed_review):\n",
    "    \"\"\"Calculates polarity and subjectivity using TextBlob.\"\"\"\n",
    "    # ... (Implementation details)\n",
    "    return polarity, subjectivity\n",
    "\n",
    "def extract_keywords(preprocessed_review):\n",
    "    \"\"\"Identifies the most frequent nouns and adjectives.\"\"\"\n",
    "    # ... (Implementation details using NLTK)\n",
    "    return keywords\n",
    "\n",
    "def categorize_review(polarity, subjectivity, keywords):\n",
    "    \"\"\"Classifies reviews based on polarity, subjectivity, and keywords.\"\"\"\n",
    "    # ... (Implementation details with custom rules)\n",
    "    return category"
   ]
  },
  {
   "cell_type": "code",
   "execution_count": null,
   "id": "ep05o_eljPHd",
   "metadata": {
    "colab": {
     "base_uri": "https://localhost:8080/"
    },
    "executionInfo": {
     "elapsed": 54,
     "status": "ok",
     "timestamp": 1739270310848,
     "user": {
      "displayName": "Rooldy Alphonse",
      "userId": "16715067766107628705"
     },
     "user_tz": -60
    },
    "id": "ep05o_eljPHd",
    "outputId": "dba6dbb7-44d0-4710-e587-305d84ba4a6c"
   },
   "outputs": [
    {
     "name": "stdout",
     "output_type": "stream",
     "text": [
      "25°C is equal to 77.0°F\n",
      "77°F is equal to 25.0°C\n"
     ]
    }
   ],
   "source": [
    "def celsius_to_fahrenheit(celsius: float) -> float:\n",
    "    \"\"\"\n",
    "    Convertit une température de Celsius en Fahrenheit.\n",
    "\n",
    "    :param celsius: Température en degrés Celsius.\n",
    "    :return: Température convertie en degrés Fahrenheit.\n",
    "    \"\"\"\n",
    "    return (celsius * 9/5) + 32\n",
    "\n",
    "def fahrenheit_to_celsius(fahrenheit: float) -> float:\n",
    "    \"\"\"\n",
    "    Convertit une température de Fahrenheit en Celsius.\n",
    "\n",
    "    :param fahrenheit: Température en degrés Fahrenheit.\n",
    "    :return: Température convertie en degrés Celsius.\n",
    "    \"\"\"\n",
    "    return (fahrenheit - 32) * 5/9\n",
    "\n",
    "def convert_temperature(temperature: float, unit: str) -> float:\n",
    "    \"\"\"\n",
    "    Convertit une température en fonction de l'unité fournie.\n",
    "\n",
    "    :param temperature: La température à convertir.\n",
    "    :param unit: L'unité actuelle de la température ('C' pour Celsius, 'F' pour Fahrenheit).\n",
    "    :return: La température convertie dans l'autre unité.\n",
    "    :raises ValueError: Si l'unité fournie est invalide.\n",
    "    \"\"\"\n",
    "    if unit.upper() == 'C':\n",
    "        return celsius_to_fahrenheit(temperature)\n",
    "    elif unit.upper() == 'F':\n",
    "        return fahrenheit_to_celsius(temperature)\n",
    "    else:\n",
    "        raise ValueError(\"Unité invalide. Utilisez 'C' pour Celsius ou 'F' pour Fahrenheit.\")\n",
    "\n",
    "# Exemple d'utilisation\n",
    "temperature_c = 25\n",
    "temperature_f = 77\n",
    "\n",
    "converted_f = convert_temperature(temperature_c, 'C')\n",
    "converted_c = convert_temperature(temperature_f, 'F')\n",
    "\n",
    "print(f\"{temperature_c}°C is equal to {converted_f}°F\")\n",
    "print(f\"{temperature_f}°F is equal to {converted_c}°C\")\n"
   ]
  },
  {
   "cell_type": "code",
   "execution_count": null,
   "id": "_f69tgwzlsql",
   "metadata": {
    "colab": {
     "base_uri": "https://localhost:8080/"
    },
    "executionInfo": {
     "elapsed": 14,
     "status": "ok",
     "timestamp": 1739270908087,
     "user": {
      "displayName": "Rooldy Alphonse",
      "userId": "16715067766107628705"
     },
     "user_tz": -60
    },
    "id": "_f69tgwzlsql",
    "outputId": "150c4c60-a8e3-4484-b758-ffa0770331fb"
   },
   "outputs": [
    {
     "name": "stdout",
     "output_type": "stream",
     "text": [
      "{'name': 'Alice', 'age': 25, 'occupation': 'Software Engineer', 'interests': ['Coding', 'Hiking']}\n",
      "{'name': 'Bob', 'age': 18, 'occupation': 'Student', 'interests': []}\n",
      "{'name': 'Carol', 'age': 30, 'occupation': 'Student', 'interests': ['Gardening', 'Reading']}\n"
     ]
    }
   ],
   "source": [
    "def create_user_profile(name, age, occupation=\"Student\", interests=None): # Use None as default\n",
    "    \"\"\"\n",
    "    Creates a user profile with optional interests.\n",
    "\n",
    "    Args:\n",
    "        name (str): The user's name (required).\n",
    "        age (int): The user's age (required).\n",
    "        occupation (str, optional): The user's occupation (defaults to \"Student\").\n",
    "        interests (list, optional): A list of the user's interests (defaults to None).\n",
    "    \"\"\"\n",
    "    if interests is None:  # Initialize if None\n",
    "        interests = []\n",
    "\n",
    "    profile = {\n",
    "        \"name\": name,\n",
    "        \"age\": age,\n",
    "        \"occupation\": occupation,\n",
    "        \"interests\": interests\n",
    "    }\n",
    "\n",
    "    return profile\n",
    "\n",
    "# Usage\n",
    "user1 = create_user_profile(\"Alice\", 25, \"Software Engineer\", [\"Coding\", \"Hiking\"])\n",
    "user2 = create_user_profile(\"Bob\", 18)  # Uses default occupation and no interests\n",
    "user3 = create_user_profile(\"Carol\", 30, interests=[\"Gardening\", \"Reading\"])\n",
    "\n",
    "print(user1)\n",
    "print(user2)\n",
    "print(user3)"
   ]
  },
  {
   "cell_type": "code",
   "execution_count": null,
   "id": "OTRkrLz9n-fD",
   "metadata": {
    "colab": {
     "base_uri": "https://localhost:8080/"
    },
    "executionInfo": {
     "elapsed": 11,
     "status": "ok",
     "timestamp": 1739271382766,
     "user": {
      "displayName": "Rooldy Alphonse",
      "userId": "16715067766107628705"
     },
     "user_tz": -60
    },
    "id": "OTRkrLz9n-fD",
    "outputId": "e2bc0df8-964b-452f-ddcf-e68c0912a1ea"
   },
   "outputs": [
    {
     "name": "stdout",
     "output_type": "stream",
     "text": [
      "Making a toasted wheat sandwich with turkey and cheddar cheese.\n",
      "Making a rye sandwich with ham.\n"
     ]
    }
   ],
   "source": [
    "def make_sandwich(bread_type: str, filling: str, cheese: str = \"none\", toasted: bool = False) -> str:\n",
    "    \"\"\"\n",
    "    Construit une phrase descriptive du sandwich préparé.\n",
    "\n",
    "    :param bread_type: Type de pain utilisé.\n",
    "    :param filling: Garniture principale du sandwich.\n",
    "    :param cheese: Type de fromage ajouté (par défaut \"none\").\n",
    "    :param toasted: Indique si le sandwich est toasté (par défaut False).\n",
    "    :return: Une phrase décrivant le sandwich.\n",
    "    \"\"\"\n",
    "    toast_text = \"toasted \" if toasted else \"\"\n",
    "    cheese_text = f\" and {cheese} cheese\" if cheese.lower() != \"none\" else \"\"\n",
    "\n",
    "    return f\"Making a {toast_text}{bread_type} sandwich with {filling}{cheese_text}.\"\n",
    "\n",
    "# Exemples d'utilisation\n",
    "print(make_sandwich(\"wheat\", \"turkey\", \"cheddar\", True))\n",
    "print(make_sandwich(\"rye\", \"ham\"))\n"
   ]
  },
  {
   "cell_type": "code",
   "execution_count": null,
   "id": "TMZ-5x1ZpyYT",
   "metadata": {
    "id": "TMZ-5x1ZpyYT"
   },
   "outputs": [],
   "source": [
    "class TemperatureData:\n",
    "    # Constructor to create object\n",
    "    def __init__(self, name, readings):\n",
    "        self.name = name\n",
    "        self.readings = readings\n",
    "\n",
    "    # Calculate average temperatures\n",
    "    def calculate_average_temp(self):\n",
    "        return sum(self.readings) / len(self.readings)\n",
    "\n",
    "    # Find highest temperature\n",
    "    def find_high_temp(self):\n",
    "        return max(self.readings)\n",
    "\n",
    "    # Find lowest temperature\n",
    "    def find_low_temp(self):\n",
    "        return min(self.readings)"
   ]
  },
  {
   "cell_type": "code",
   "execution_count": null,
   "id": "dBRS3_yNLPMd",
   "metadata": {
    "colab": {
     "base_uri": "https://localhost:8080/"
    },
    "executionInfo": {
     "elapsed": 55,
     "status": "ok",
     "timestamp": 1739280221617,
     "user": {
      "displayName": "Rooldy Alphonse",
      "userId": "16715067766107628705"
     },
     "user_tz": -60
    },
    "id": "dBRS3_yNLPMd",
    "outputId": "41e0ad75-166d-4645-8be6-514d69f1c521"
   },
   "outputs": [
    {
     "name": "stdout",
     "output_type": "stream",
     "text": [
      "Average temperature for sensor East Forest Road Sensor: 73.2 degrees Fahrenheit\n",
      "Temperature extremes for sensor East Forest Road Sensor: Highest 88, Lowest 64\n",
      "Temperature range for sensor East Forest Road Sensor: 24 degrees Fahrenheit\n"
     ]
    }
   ],
   "source": [
    "def calc_range(first, second):\n",
    "    if (first > second):\n",
    "        return first - second\n",
    "    else:\n",
    "        return second - first\n",
    "\n",
    "# Example Usage\n",
    "# Create a name for a sensor\n",
    "sensor_name = \"East Forest Road Sensor\"\n",
    "\n",
    "sensor = TemperatureData(sensor_name, [75, 71, 68, 64, 88])\n",
    "\n",
    "average_temp = sensor.calculate_average_temp()\n",
    "print(f\"Average temperature for sensor {sensor_name}: {average_temp} degrees Fahrenheit\")\n",
    "\n",
    "highest = sensor.find_high_temp()\n",
    "lowest = sensor.find_low_temp()\n",
    "print(f\"Temperature extremes for sensor {sensor_name}: Highest {highest}, Lowest {lowest}\")\n",
    "\n",
    "range = calc_range(lowest, highest)\n",
    "print(f\"Temperature range for sensor {sensor_name}: {range} degrees Fahrenheit\")"
   ]
  },
  {
   "cell_type": "code",
   "execution_count": null,
   "id": "BLVIvflvLgSZ",
   "metadata": {
    "id": "BLVIvflvLgSZ"
   },
   "outputs": [],
   "source": [
    "class TemperatureData:\n",
    "    # Constructor to create object\n",
    "    def __init__(self, name, readings):\n",
    "        self.name = name\n",
    "        self.readings = readings\n",
    "\n",
    "    # Calculate average temperatures\n",
    "    def calculate_average_temp(self):\n",
    "        return sum(self.readings) / len(self.readings)\n",
    "\n",
    "    # Find highest temperature\n",
    "    def find_high_temp(self):\n",
    "        return max(self.readings)\n",
    "\n",
    "    # Find lowest temperature\n",
    "    def find_low_temp(self):\n",
    "        return min(self.readings)\n",
    "\n",
    "    # Find temperature range (max-min)\n",
    "    def calc_range(self):\n",
    "        return max(self.readings) - min(self.readings)"
   ]
  },
  {
   "cell_type": "code",
   "execution_count": null,
   "id": "fKaTOm29MRE_",
   "metadata": {
    "colab": {
     "base_uri": "https://localhost:8080/"
    },
    "executionInfo": {
     "elapsed": 54,
     "status": "ok",
     "timestamp": 1739280434719,
     "user": {
      "displayName": "Rooldy Alphonse",
      "userId": "16715067766107628705"
     },
     "user_tz": -60
    },
    "id": "fKaTOm29MRE_",
    "outputId": "f7124366-2bca-4275-a81c-85e3223923c6"
   },
   "outputs": [
    {
     "name": "stdout",
     "output_type": "stream",
     "text": [
      "Average temperature for sensor East Forest Road Sensor: 73.2 degrees Fahrenheit\n",
      "Temperature extremes for sensor East Forest Road Sensor: Highest 88, Lowest 64\n",
      "Temperature range for sensor East Forest Road Sensor: 24 degrees Fahrenheit\n"
     ]
    }
   ],
   "source": [
    "# Create a name for a sensor\n",
    "sensor_name = \"East Forest Road Sensor\"\n",
    "\n",
    "sensor = TemperatureData(sensor_name, [75, 71, 68, 64, 88])\n",
    "\n",
    "average_temp = sensor.calculate_average_temp()\n",
    "print(f\"Average temperature for sensor {sensor_name}: {average_temp} degrees Fahrenheit\")\n",
    "\n",
    "highest = sensor.find_high_temp()\n",
    "lowest = sensor.find_low_temp()\n",
    "print(f\"Temperature extremes for sensor {sensor_name}: Highest {highest}, Lowest {lowest}\")\n",
    "# Code above this point is unchanged, except for removing the function\n",
    "\n",
    "# New call to method in TemperatureData\n",
    "range = sensor.calc_range()\n",
    "print(f\"Temperature range for sensor {sensor_name}: {range} degrees Fahrenheit\")"
   ]
  },
  {
   "cell_type": "code",
   "execution_count": null,
   "id": "8VXig4I8MUUb",
   "metadata": {
    "id": "8VXig4I8MUUb"
   },
   "outputs": [],
   "source": [
    "# File: geometry_calculations.py\n",
    "\n",
    "import math\n",
    "\n",
    "def calculate_area_circle(radius):\n",
    "    \"\"\"Calculates the area of a circle given its radius.\"\"\"\n",
    "    return math.pi * radius**2\n",
    "\n",
    "def calculate_circumference_circle(radius):\n",
    "    \"\"\"Calculates the circumference of a circle given its radius.\"\"\"\n",
    "    return 2 * math.pi * radius\n",
    "\n",
    "class Rectangle:\n",
    "    \"\"\"Represents a rectangle with width and height.\"\"\"\n",
    "\n",
    "    def __init__(self, width, height):\n",
    "        self.width = width\n",
    "        self.height = height\n",
    "\n",
    "    def calculate_area(self):\n",
    "        \"\"\"Calculates the area of the rectangle.\"\"\"\n",
    "        return self.width * self.height\n",
    "\n",
    "    def calculate_perimeter(self):\n",
    "        \"\"\"Calculates the perimeter of the rectangle.\"\"\"\n",
    "        return 2 * (self.width + self.height)"
   ]
  },
  {
   "cell_type": "code",
   "execution_count": null,
   "id": "7ECf24-6xWOW",
   "metadata": {
    "colab": {
     "base_uri": "https://localhost:8080/",
     "height": 393
    },
    "executionInfo": {
     "elapsed": 15,
     "status": "error",
     "timestamp": 1739307009629,
     "user": {
      "displayName": "Rooldy Alphonse",
      "userId": "16715067766107628705"
     },
     "user_tz": -60
    },
    "id": "7ECf24-6xWOW",
    "outputId": "866499e1-6845-4b6d-cefd-914b87a3cde2"
   },
   "outputs": [
    {
     "ename": "ModuleNotFoundError",
     "errorDetails": {
      "actions": [
       {
        "action": "open_url",
        "actionText": "Open Examples",
        "url": "/notebooks/snippets/importing_libraries.ipynb"
       }
      ]
     },
     "evalue": "No module named 'geometry_calculations'",
     "output_type": "error",
     "traceback": [
      "\u001b[0;31m---------------------------------------------------------------------------\u001b[0m",
      "\u001b[0;31mModuleNotFoundError\u001b[0m                       Traceback (most recent call last)",
      "\u001b[0;32m<ipython-input-3-84ea6dea0e8e>\u001b[0m in \u001b[0;36m<cell line: 0>\u001b[0;34m()\u001b[0m\n\u001b[1;32m      1\u001b[0m \u001b[0;31m# File: main.py\u001b[0m\u001b[0;34m\u001b[0m\u001b[0;34m\u001b[0m\u001b[0m\n\u001b[1;32m      2\u001b[0m \u001b[0;34m\u001b[0m\u001b[0m\n\u001b[0;32m----> 3\u001b[0;31m \u001b[0;32mimport\u001b[0m \u001b[0mgeometry_calculations\u001b[0m \u001b[0;32mas\u001b[0m \u001b[0mgeo\u001b[0m\u001b[0;34m\u001b[0m\u001b[0;34m\u001b[0m\u001b[0m\n\u001b[0m\u001b[1;32m      4\u001b[0m \u001b[0;34m\u001b[0m\u001b[0m\n\u001b[1;32m      5\u001b[0m \u001b[0mradius\u001b[0m \u001b[0;34m=\u001b[0m \u001b[0;36m5\u001b[0m\u001b[0;34m\u001b[0m\u001b[0;34m\u001b[0m\u001b[0m\n",
      "\u001b[0;31mModuleNotFoundError\u001b[0m: No module named 'geometry_calculations'",
      "",
      "\u001b[0;31m---------------------------------------------------------------------------\u001b[0;32m\nNOTE: If your import is failing due to a missing package, you can\nmanually install dependencies using either !pip or !apt.\n\nTo view examples of installing some common dependencies, click the\n\"Open Examples\" button below.\n\u001b[0;31m---------------------------------------------------------------------------\u001b[0m\n"
     ]
    }
   ],
   "source": [
    "# File: main.py\n",
    "\n",
    "import geometry_calculations as geo\n",
    "\n",
    "radius = 5\n",
    "area = geometry_calculations.calculate_area_circle(radius)\n",
    "circumference = geometry_calculations.calculate_circumference_circle(radius)\n",
    "\n",
    "print(f\"Area of circle: {area}\")\n",
    "print(f\"Circumference of circle: {circumference}\")\n",
    "\n",
    "rect = geometry_calculations.Rectangle(4, 6)\n",
    "rect_area = rect.calculate_area()\n",
    "rect_perimeter = rect.calculate_perimeter()\n",
    "\n",
    "print(f\"Area of rectangle: {rect_area}\")\n",
    "print(f\"Perimeter of rectangle: {rect_perimeter}\")"
   ]
  },
  {
   "cell_type": "code",
   "execution_count": null,
   "id": "pcw_V_16xbDJ",
   "metadata": {
    "id": "pcw_V_16xbDJ"
   },
   "outputs": [],
   "source": [
    "def count_vowels(text):\n",
    "    vowels = \"aeiouAEIOU\"\n",
    "    count = 0\n",
    "    for char in text:\n",
    "        if char in vowels:\n",
    "            count += 1\n",
    "    return count"
   ]
  },
  {
   "cell_type": "code",
   "execution_count": null,
   "id": "QO4sOogwyteK",
   "metadata": {
    "id": "QO4sOogwyteK"
   },
   "outputs": [],
   "source": [
    "sentence = \"This is a test sentence to count vowels.\"\n",
    "vowel_count = string_utils.count_vowels(sentence)\n",
    "print(\"Number of vowels:\", vowel_count)"
   ]
  },
  {
   "cell_type": "code",
   "execution_count": null,
   "id": "MylPQMMh5fKN",
   "metadata": {
    "colab": {
     "base_uri": "https://localhost:8080/"
    },
    "executionInfo": {
     "elapsed": 10,
     "status": "ok",
     "timestamp": 1739309056024,
     "user": {
      "displayName": "Rooldy Alphonse",
      "userId": "16715067766107628705"
     },
     "user_tz": -60
    },
    "id": "MylPQMMh5fKN",
    "outputId": "8c84b89d-0c2d-401a-a016-34ad1e7a082c"
   },
   "outputs": [
    {
     "name": "stdout",
     "output_type": "stream",
     "text": [
      "['bananas', 'milk', 'eggs']\n",
      "{'bananas': 3, 'eggs': 12}\n"
     ]
    }
   ],
   "source": [
    "shopping_list = [\"apples\", \"bananas\", \"milk\"]  # List for items\n",
    "item_quantities = {\"apples\": 3, \"bananas\": 1}  # Dictionary for quantities\n",
    "\n",
    "# User adds an item\n",
    "shopping_list.append(\"eggs\")\n",
    "item_quantities[\"eggs\"] = 12\n",
    "\n",
    "# User increases the quantity of bananas\n",
    "item_quantities[\"bananas\"] += 2\n",
    "\n",
    "# User removes apples\n",
    "shopping_list.remove(\"apples\")\n",
    "del item_quantities[\"apples\"]\n",
    "\n",
    "# Print updated list and dictionary\n",
    "print(shopping_list)\n",
    "print(item_quantities)"
   ]
  },
  {
   "cell_type": "code",
   "execution_count": null,
   "id": "c2kEreko5f9s",
   "metadata": {
    "id": "c2kEreko5f9s"
   },
   "outputs": [],
   "source": [
    "# Tuples\n",
    "coordinates = (37.7749, -122.4194)  # Latitude, longitude of San Francisco\n",
    "birth_date = (1990, 12, 25)       # Year, month, day\n",
    "\n",
    "# Sets\n",
    "unique_colors = {\"red\", \"green\", \"blue\"}\n",
    "numbers = [1, 2, 2, 3, 4, 4, 5]\n",
    "unique_numbers = set(numbers)    # Removes duplicates"
   ]
  },
  {
   "cell_type": "code",
   "execution_count": null,
   "id": "nCgqjDqU5jW7",
   "metadata": {
    "colab": {
     "base_uri": "https://localhost:8080/"
    },
    "executionInfo": {
     "elapsed": 8,
     "status": "ok",
     "timestamp": 1739310640582,
     "user": {
      "displayName": "Rooldy Alphonse",
      "userId": "16715067766107628705"
     },
     "user_tz": -60
    },
    "id": "nCgqjDqU5jW7",
    "outputId": "73bc6694-9262-481b-8db8-71848f544651"
   },
   "outputs": [
    {
     "name": "stdout",
     "output_type": "stream",
     "text": [
      "Shopping Cart:\n",
      "apple\n",
      "banana\n",
      "milk\n"
     ]
    }
   ],
   "source": [
    "# Créer une liste vide pour stocker les articles du panier\n",
    "shopping_cart = []\n",
    "\n",
    "# Ajouter des articles au panier\n",
    "shopping_cart.append(\"apple\")\n",
    "shopping_cart.append(\"banana\")\n",
    "shopping_cart.append(\"milk\")\n",
    "\n",
    "# Afficher le contenu du panier\n",
    "print(\"Shopping Cart:\")\n",
    "for item in shopping_cart:\n",
    "    print(item)\n"
   ]
  },
  {
   "cell_type": "code",
   "execution_count": null,
   "id": "GmUDabSw_PJA",
   "metadata": {
    "colab": {
     "base_uri": "https://localhost:8080/"
    },
    "executionInfo": {
     "elapsed": 46,
     "status": "ok",
     "timestamp": 1739311885436,
     "user": {
      "displayName": "Rooldy Alphonse",
      "userId": "16715067766107628705"
     },
     "user_tz": -60
    },
    "id": "GmUDabSw_PJA",
    "outputId": "80aa0965-dd21-42e2-d673-e0705f8acf5b"
   },
   "outputs": [
    {
     "name": "stdout",
     "output_type": "stream",
     "text": [
      "The price of Widget A is $19.99\n"
     ]
    }
   ],
   "source": [
    "# Création du dictionnaire de produits\n",
    "product_catalog = {\n",
    "    \"SKU123\": {\"name\": \"Widget A\", \"price\": 19.99, \"quantity\": 50},\n",
    "    \"SKU456\": {\"name\": \"Gadget B\", \"price\": 34.95, \"quantity\": 25},\n",
    "    \"SKU789\": {\"name\": \"Gizmo C\", \"price\": 9.99, \"quantity\": 100},\n",
    "}\n",
    "\n",
    "# SKU à récupérer\n",
    "sku_to_retrieve = \"SKU123\"\n",
    "\n",
    "# Récupération et affichage du prix du produit\n",
    "if sku_to_retrieve in product_catalog:\n",
    "    product = product_catalog[sku_to_retrieve]\n",
    "    print(f\"The price of {product['name']} is ${product['price']:.2f}\")\n",
    "else:\n",
    "    print(\"Product not found.\")\n"
   ]
  },
  {
   "cell_type": "code",
   "execution_count": null,
   "id": "-0DZWXO3ESul",
   "metadata": {
    "colab": {
     "base_uri": "https://localhost:8080/"
    },
    "executionInfo": {
     "elapsed": 6,
     "status": "ok",
     "timestamp": 1739313127945,
     "user": {
      "displayName": "Rooldy Alphonse",
      "userId": "16715067766107628705"
     },
     "user_tz": -60
    },
    "id": "-0DZWXO3ESul",
    "outputId": "e895331b-50aa-4ec1-9bd0-3b22a9682976"
   },
   "outputs": [
    {
     "name": "stdout",
     "output_type": "stream",
     "text": [
      "555-5678\n",
      "{'Bob': '555-5678', 'Carol': '555-2468', 'David': '555-4321'}\n"
     ]
    }
   ],
   "source": [
    "# Create a dictionary to store contact information\n",
    "contacts = {\"Alice\": \"555-1234\", \"Bob\": \"555-5678\", \"Carol\": \"555-9012\"}\n",
    "\n",
    "# Look up Bob's phone number\n",
    "bobs_phone = contacts[\"Bob\"]\n",
    "print(bobs_phone)\n",
    "# Output: 555-5678\n",
    "\n",
    "# Add a new contact\n",
    "contacts[\"David\"] = \"555-4321\"\n",
    "\n",
    "# Update Carol's phone number\n",
    "contacts[\"Carol\"] = \"555-2468\"\n",
    "\n",
    "# Remove Alice's contact information\n",
    "del contacts[\"Alice\"]\n",
    "\n",
    "# Print updated contacts\n",
    "print(contacts)"
   ]
  },
  {
   "cell_type": "code",
   "execution_count": null,
   "id": "VjI8JhQxJCFg",
   "metadata": {
    "colab": {
     "base_uri": "https://localhost:8080/"
    },
    "executionInfo": {
     "elapsed": 49,
     "status": "ok",
     "timestamp": 1739313170013,
     "user": {
      "displayName": "Rooldy Alphonse",
      "userId": "16715067766107628705"
     },
     "user_tz": -60
    },
    "id": "VjI8JhQxJCFg",
    "outputId": "ebfd77a8-15a0-4c1f-87bd-1ff67206fe7f"
   },
   "outputs": [
    {
     "name": "stdout",
     "output_type": "stream",
     "text": [
      "{'Java', 'JavaScript', 'C++', 'Python'}\n",
      "{'JavaScript'}\n"
     ]
    }
   ],
   "source": [
    "# Create a set of favorite programming languages\n",
    "languages = {\"Python\", \"JavaScript\", \"Java\"}\n",
    "# Add \"C++\" to the set\n",
    "languages.add(\"C++\")\n",
    "# Try to add \"Python\" again (it won't be added because it's a duplicate)\n",
    "languages.add(\"Python\")\n",
    "print(languages)  # Output: {'Python', 'C++', 'JavaScript', 'Java'} (order may vary)\n",
    "# Remove \"Java\"\n",
    "languages.remove(\"Java\")\n",
    "# Create another set of languages\n",
    "web_languages = {\"JavaScript\", \"HTML\", \"CSS\"}\n",
    "# Find common languages between the two sets\n",
    "common_languages = languages.intersection(web_languages)\n",
    "print(common_languages)  # Output: {'JavaScript'}"
   ]
  },
  {
   "cell_type": "code",
   "execution_count": null,
   "id": "xivCLdCmJMWN",
   "metadata": {
    "colab": {
     "base_uri": "https://localhost:8080/"
    },
    "executionInfo": {
     "elapsed": 40,
     "status": "ok",
     "timestamp": 1739313277427,
     "user": {
      "displayName": "Rooldy Alphonse",
      "userId": "16715067766107628705"
     },
     "user_tz": -60
    },
    "id": "xivCLdCmJMWN",
    "outputId": "5ade20c1-e869-4f4e-c960-05b2a43de237"
   },
   "outputs": [
    {
     "name": "stdout",
     "output_type": "stream",
     "text": [
      "[1, 2, 3, 4, 5]\n"
     ]
    }
   ],
   "source": [
    "def get_unique_numbers(numbers):\n",
    "    \"\"\"\n",
    "    Retourne une liste contenant uniquement les nombres uniques de la liste d'entrée,\n",
    "    tout en conservant leur ordre d'apparition.\n",
    "\n",
    "    :param numbers: Liste d'entiers\n",
    "    :return: Liste contenant uniquement les valeurs uniques dans l'ordre d'apparition\n",
    "    \"\"\"\n",
    "    seen = set()\n",
    "    unique_numbers = []\n",
    "\n",
    "    for num in numbers:\n",
    "        if num not in seen:\n",
    "            seen.add(num)\n",
    "            unique_numbers.append(num)\n",
    "\n",
    "    return unique_numbers\n",
    "\n",
    "# Exemple d'entrée\n",
    "numbers = [1, 2, 2, 3, 1, 4, 5, 3]\n",
    "\n",
    "# Appel de la fonction et affichage du résultat\n",
    "print(get_unique_numbers(numbers))\n"
   ]
  },
  {
   "cell_type": "code",
   "execution_count": null,
   "id": "ImS0FcpHJmks",
   "metadata": {
    "id": "ImS0FcpHJmks"
   },
   "outputs": [],
   "source": [
    "# Import a powerful tool called \"pandas\" that you'll use to work with and organize data easily\n",
    "import pandas as pd\n",
    "\n",
    "# Load the inventory from the CSV file\n",
    "inventory_df = pd.read_csv('insert code here')\n",
    "\n",
    "# Extract the product names from the DataFrame and store them in a list\n",
    "inventory = inventory_df['product_name'].tolist()\n",
    "\n",
    "# Print the inventory list and inspect the output\n",
    "print(inventory)"
   ]
  },
  {
   "cell_type": "code",
   "execution_count": null,
   "id": "lgewF93xN_Z3",
   "metadata": {
    "id": "lgewF93xN_Z3"
   },
   "outputs": [],
   "source": [
    "# Remove the \"Cheesy Chompers\"\n",
    "inventory.remove(\"insert code here\")\n",
    "\n",
    "print(\"\\nUpdated inventory:\")\n",
    "print(inventory)"
   ]
  },
  {
   "cell_type": "code",
   "execution_count": null,
   "id": "q6Zju-9sOCMr",
   "metadata": {
    "id": "q6Zju-9sOCMr"
   },
   "outputs": [],
   "source": [
    "print(\"A new shipment of gourmet goodies has arrived!\")\n",
    "\n",
    "# New shipment of goodies! (provided as a string)\n",
    "new_items_str = \"Squeaky Sausages, Tuna Tidbits, Crunchy Carrots\"\n",
    "\n",
    "# Convert the string to a list and stores them in the variable new_items\n",
    "new_items = new_items_str.split(\", \")\n",
    "\n",
    "# Update the inventory list by adding \"new_items\" to the extend() method\n",
    "inventory.extend(insert code here)\n",
    "\n",
    "print(\"\\nUpdated inventory:\")\n",
    "print(inventory)"
   ]
  },
  {
   "cell_type": "code",
   "execution_count": null,
   "id": "kg6zksZjOGLa",
   "metadata": {
    "id": "kg6zksZjOGLa"
   },
   "outputs": [],
   "source": [
    "# Create some product IDs as tuples\n",
    "product_id1 = (\"Salmon Snacks\", \"Small\")\n",
    "product_id2 = (\"Cheesy Chompers\", \"Medium\")\n",
    "product_id3 = (\"Peanut Butter Biscuits\", \"Large\")\n",
    "\n",
    "# Print the product IDs\n",
    "print(\"Product IDs:\")\n",
    "print(product_id1)\n",
    "print(product_id2)\n",
    "print(product_id3)\n",
    "\n",
    "# Try to modify a tuple by removing the \"#\" in front of the line below (this will cause an error)\n",
    "# product_id1[0] = \"Tuna Treats\"  # Uncomment this line to see the TypeError"
   ]
  },
  {
   "cell_type": "code",
   "execution_count": null,
   "id": "9R1DhKeDOJuN",
   "metadata": {
    "id": "9R1DhKeDOJuN"
   },
   "outputs": [],
   "source": [
    "import pandas as pd\n",
    "\n",
    "# Load inventory data from CSV\n",
    "inventory_df = pd.read_csv('inventory.csv')\n",
    "\n",
    "# Set the 'product_name' column as the index\n",
    "inventory_df.set_index('product_name', inplace=True)\n",
    "\n",
    "# Convert the DataFrame directly to a dictionary, selecting only the 'stock_level' column\n",
    "inventory_dict = inventory_df['stock_level'].to_dict()\n",
    "\n",
    "# Print the inventory\n",
    "print(\"Initial Inventory:\")\n",
    "print(inventory_dict)\n"
   ]
  },
  {
   "cell_type": "code",
   "execution_count": null,
   "id": "R4KBGgqqOMwN",
   "metadata": {
    "id": "R4KBGgqqOMwN"
   },
   "outputs": [],
   "source": [
    "# Add \"Puppy Snacks\" to the inventory\n",
    "inventory_dict[\"insert code here\"] = insert code here\n",
    "\n",
    "# Update \"Cheesy Chompers\" in the inventory and assign it the value of 20\n",
    "inventory_dict[\"insert code here\"] = insert code here\n",
    "\n",
    "print(\"\\nUpdated Inventory:\")\n",
    "print(inventory_dict)"
   ]
  },
  {
   "cell_type": "code",
   "execution_count": null,
   "id": "jpFZQ2HaOQhz",
   "metadata": {
    "id": "jpFZQ2HaOQhz"
   },
   "outputs": [],
   "source": [
    "# We've discontinued \"Peanut Butter Biscuits\". Remove it from the inventory\n",
    "\n",
    "# Remove item\n",
    "\"insert code here\" inventory_dict[\"insert code here\"]\n",
    "\n",
    "print(\"\\nUpdated Inventory after Discontinuation:\")\n",
    "print(inventory_dict)\n"
   ]
  },
  {
   "cell_type": "code",
   "execution_count": null,
   "id": "PBS8L6YsOTgp",
   "metadata": {
    "id": "PBS8L6YsOTgp"
   },
   "outputs": [],
   "source": [
    "# It's time to generate a nicely formatted inventory report!\n",
    "\n",
    "print(\"\\nInventory Report:\")\n",
    "for product, stock in inventory_dict.items():\n",
    "    print(f\"Product: {product}, Stock: {stock}\")\n"
   ]
  },
  {
   "cell_type": "code",
   "execution_count": null,
   "id": "aytHjmeaSs5O",
   "metadata": {
    "id": "aytHjmeaSs5O"
   },
   "outputs": [],
   "source": [
    "# Import a powerful tool called \"pandas\" that you'll use to work with and organize data easily\n",
    "import pandas as pd\n",
    "\n",
    "# Load the book catalog from the CSV file\n",
    "book_catalog_df = pd.read_csv('book_catalog_10.csv')"
   ]
  },
  {
   "cell_type": "code",
   "execution_count": null,
   "id": "x41o1yD0SznB",
   "metadata": {
    "id": "x41o1yD0SznB"
   },
   "outputs": [],
   "source": [
    "# Convert the DataFrame to a list of dictionaries\n",
    "book_catalog = book_catalog_df.to_dict(orient='records')\n",
    "\n",
    "# Print the list of dictionaries\n",
    "print(book_catalog)"
   ]
  },
  {
   "cell_type": "code",
   "execution_count": null,
   "id": "rQgPBxy3S3dH",
   "metadata": {
    "id": "rQgPBxy3S3dH"
   },
   "outputs": [],
   "source": [
    "# Helper function 1:\n",
    "def get_title(book):\n",
    "  \"\"\"Helper function to extract the title from a book dictionary.\"\"\"\n",
    "  return book['title']\n",
    "\n",
    "# Helper function 2:\n",
    "def sort_catalog_by_title(catalog):\n",
    "  \"\"\"Sorts the book catalog alphabetically by title.\"\"\"\n",
    "  catalog.sort(key=get_title)\n",
    "\n",
    "# Sort the catalog\n",
    "sort_catalog_by_title(book_catalog)\n",
    "\n",
    "# Display the sorted catalog\n",
    "for book in book_catalog:\n",
    "  print(f\"Title: {book['title']}, Author: {book['author']}, Publication Year: {book['publication_year']}\")\n"
   ]
  },
  {
   "cell_type": "code",
   "execution_count": null,
   "id": "zwd8BFgCS7Fi",
   "metadata": {
    "id": "zwd8BFgCS7Fi"
   },
   "outputs": [],
   "source": [
    "# Helper function: Linear Search\n",
    "def search_books(catalog, query):\n",
    "  \"\"\"Searches for books by title or author using linear search.\"\"\"\n",
    "  results = []\n",
    "  for book in catalog:\n",
    "    if query.lower() in book['title'].lower() or query.lower() in book['author'].lower():\n",
    "      results.append(book)\n",
    "  return results"
   ]
  },
  {
   "cell_type": "code",
   "execution_count": null,
   "id": "t9fz6_zAS_-D",
   "metadata": {
    "id": "t9fz6_zAS_-D"
   },
   "outputs": [],
   "source": [
    "# Search for \"The Great Gatsby\"\n",
    "query = \"________\"\n",
    "search_results = search_books(book_catalog, query)\n",
    "\n",
    "if search_results:\n",
    "  print(\"\\nSearch results:\")\n",
    "  for book in search_results:\n",
    "    print(f\"Title: {book['title']}, Author: {book['author']}, Publication Year: {book['publication_year']}\")\n",
    "else:\n",
    "  print(\"No books found matching your query.\")"
   ]
  },
  {
   "cell_type": "code",
   "execution_count": null,
   "id": "p9Pyf-UxTDaf",
   "metadata": {
    "id": "p9Pyf-UxTDaf"
   },
   "outputs": [],
   "source": [
    "# Search for \"Dune\"\n",
    "query = \"________\"\n",
    "search_results = search_books(book_catalog, query)\n",
    "\n",
    "if search_results:\n",
    "  print(\"\\nSearch results:\")\n",
    "  for book in search_results:\n",
    "    print(f\"Title: {book['title']}, Author: {book['author']}, Publication Year: {book['publication_year']}\")\n",
    "else:\n",
    "  print(\"No books found matching your query.\")"
   ]
  },
  {
   "cell_type": "code",
   "execution_count": null,
   "id": "kZl1WQDTTG1G",
   "metadata": {
    "id": "kZl1WQDTTG1G"
   },
   "outputs": [],
   "source": [
    "# Search for author\n",
    "query = \"_______\"\n",
    "search_results = search_books(book_catalog, query)\n",
    "\n",
    "if search_results:\n",
    "  print(\"\\nSearch results:\")\n",
    "  for book in search_results:\n",
    "    print(f\"Title: {book['title']}, Author: {book['author']}, Publication Year: {book['publication_year']}\")\n",
    "else:\n",
    "  print(\"No books found matching your query.\")"
   ]
  },
  {
   "cell_type": "code",
   "execution_count": null,
   "id": "Twru5NEOTJzN",
   "metadata": {
    "id": "Twru5NEOTJzN"
   },
   "outputs": [],
   "source": [
    "def binary_search_books(catalog, query):\n",
    "  \"\"\"Searches for books by title using binary search (assuming sorted catalog).\"\"\"\n",
    "  low = 0\n",
    "  high = len(catalog) - 1\n",
    "\n",
    "  while low <= high:\n",
    "    mid = (low + high) // 2\n",
    "    if catalog[mid]['title'].lower() == query.lower():\n",
    "      return catalog[mid]\n",
    "    elif catalog[mid]['title'].lower() < query.lower():\n",
    "      low = mid + 1\n",
    "    else:\n",
    "      high = mid - 1\n",
    "\n",
    "  return None  # Book not found"
   ]
  },
  {
   "cell_type": "code",
   "execution_count": null,
   "id": "X2Ld9SLxTObS",
   "metadata": {
    "id": "X2Ld9SLxTObS"
   },
   "outputs": [],
   "source": [
    "# This is like using a stopwatch to see how long it takes to find the books.\n",
    "# We start the timer, do the search, then stop the timer and calculate how much time passed.\n",
    "import time\n",
    "start_time = time.time()  # Record start time\n",
    "search_results = search_books(book_catalog, query)\n",
    "end_time = time.time()    # Record end time\n",
    "elapsed_time_linear = end_time - start_time\n",
    "\n",
    "# Loads the big_book_catalog which has which has ~271,380 rows!\n",
    "big_book_catalog_df = pd.read_csv('big_book_catalog.csv', low_memory=False)\n",
    "big_book_catalog = book_catalog_df.to_dict(orient='records')\n",
    "\n",
    "# Search for \"The Great Gatsby\" using Linear Search\n",
    "query = \"The Great Gatsby\"\n",
    "search_results = search_books(big_book_catalog, query)\n",
    "\n",
    "if search_results:\n",
    "  print(\"\\nSearch results:\")\n",
    "  for book in search_results:\n",
    "    print(f\"Title: {book['title']}, Author: {book['author']}, Publication Year: {book['publication_year']}\")\n",
    "else:\n",
    "  print(\"No books found matching your query.\")\n",
    "\n",
    "print(f\"\\nLinear search took {elapsed_time_linear:.5f} seconds.\")\n"
   ]
  },
  {
   "cell_type": "code",
   "execution_count": null,
   "id": "zyLPQxO1TRqE",
   "metadata": {
    "id": "zyLPQxO1TRqE"
   },
   "outputs": [],
   "source": [
    "# This is like using a stopwatch to see how long it takes to find the books.\n",
    "# We start the timer, do the search, then stop the timer and calculate how much time passed.\n",
    "import time\n",
    "start_time = time.time()\n",
    "search_result = binary_search_books(book_catalog, query)\n",
    "end_time = time.time()\n",
    "elapsed_time_binary = end_time - start_time\n",
    "\n",
    "# Loads the big_book_catalog which has which has ~271,380 rows!\n",
    "big_book_catalog_df = pd.read_csv('big_book_catalog.csv', low_memory=False)\n",
    "big_book_catalog = book_catalog_df.to_dict(orient='records')\n",
    "\n",
    "# Search for \"The Great Gatsby\" using Binary Search\n",
    "query = \"The Great Gatsby\"\n",
    "search_result = binary_search_books(big_book_catalog, query)\n",
    "\n",
    "if search_result:\n",
    "  print(\"\\nBinary Search Result for 'The Great Gatsby':\")\n",
    "  print(f\"Title: {search_result['title']}, Author: {search_result['author']}, Publication Year: {search_result['publication_year']}\")\n",
    "else:\n",
    "  print(\"Binary Search: Book not found\")\n",
    "\n",
    "print(f\"\\nBinary search took {elapsed_time_binary:.5f} seconds.\")\n"
   ]
  },
  {
   "cell_type": "code",
   "execution_count": null,
   "id": "QgAFcJYiTUu6",
   "metadata": {
    "id": "QgAFcJYiTUu6"
   },
   "outputs": [],
   "source": [
    "def simple_sort(cards):\n",
    "  sorted_cards = []\n",
    "  while cards:\n",
    "    lowest_card = min(cards)\n",
    "    sorted_cards.append(lowest_card)\n",
    "    cards.remove(lowest_card)\n",
    "  return sorted_cards"
   ]
  },
  {
   "cell_type": "code",
   "execution_count": null,
   "id": "9ZjKvyWQVeTf",
   "metadata": {
    "id": "9ZjKvyWQVeTf"
   },
   "outputs": [],
   "source": [
    "def quicksort(cards):\n",
    "  if len(cards) < 2:\n",
    "    return cards  # Base case: Already sorted if 0 or 1 element\n",
    "  else:\n",
    "    pivot = cards[0]  # Choose first card as pivot\n",
    "    less = [i for i in cards[1:] if i <= pivot]\n",
    "    greater = [i for i in cards[1:] if i > pivot]\n",
    "    return quicksort(less) + [pivot] + quicksort(greater)"
   ]
  },
  {
   "cell_type": "code",
   "execution_count": null,
   "id": "O-MDfwOSViEK",
   "metadata": {
    "colab": {
     "base_uri": "https://localhost:8080/"
    },
    "executionInfo": {
     "elapsed": 1710,
     "status": "ok",
     "timestamp": 1739316875228,
     "user": {
      "displayName": "Rooldy Alphonse",
      "userId": "16715067766107628705"
     },
     "user_tz": -60
    },
    "id": "O-MDfwOSViEK",
    "outputId": "2f7a01cc-1dd4-4f45-8c23-eee396a88227"
   },
   "outputs": [
    {
     "name": "stdout",
     "output_type": "stream",
     "text": [
      "List lookup time: 1.691586715000085\n",
      "Dictionary lookup time: 8.735099982004613e-05\n"
     ]
    }
   ],
   "source": [
    "import timeit\n",
    "\n",
    "# List lookup\n",
    "list_data = list(range(100000))\n",
    "lookup_value = 99999\n",
    "list_time = timeit.timeit(lambda: lookup_value in list_data, number=1000)\n",
    "\n",
    "# Dictionary lookup\n",
    "dict_data = {i: i for i in range(100000)}\n",
    "dict_time = timeit.timeit(lambda: lookup_value in dict_data, number=1000)\n",
    "\n",
    "print(\"List lookup time:\", list_time)\n",
    "print(\"Dictionary lookup time:\", dict_time)"
   ]
  },
  {
   "cell_type": "code",
   "execution_count": null,
   "id": "2FcSmMalXUiC",
   "metadata": {
    "colab": {
     "base_uri": "https://localhost:8080/"
    },
    "executionInfo": {
     "elapsed": 43,
     "status": "ok",
     "timestamp": 1739316900019,
     "user": {
      "displayName": "Rooldy Alphonse",
      "userId": "16715067766107628705"
     },
     "user_tz": -60
    },
    "id": "2FcSmMalXUiC",
    "outputId": "0d228841-7dc3-4862-e1de-945f9755f73e"
   },
   "outputs": [
    {
     "name": "stdout",
     "output_type": "stream",
     "text": [
      "task1\n",
      "Counter({'words': 2, 'This': 1, 'is': 1, 'a': 1, 'sample': 1, 'text': 1, 'with': 1, 'some': 1, 'repeated': 1})\n"
     ]
    }
   ],
   "source": [
    "from collections import deque, Counter\n",
    "\n",
    "# Deque example\n",
    "queue = deque()\n",
    "queue.append(\"task1\")\n",
    "queue.append(\"task2\")\n",
    "print(queue.popleft())  # Output: task1\n",
    "\n",
    "# Counter example\n",
    "text = \"This is a sample text with some repeated words words\"\n",
    "word_counts = Counter(text.split())\n",
    "print(word_counts)  # Output: Counter({'words': 2, 'This': 1, 'is': 1, ...})"
   ]
  },
  {
   "cell_type": "code",
   "execution_count": null,
   "id": "qWnH3rEIXa_l",
   "metadata": {
    "colab": {
     "base_uri": "https://localhost:8080/"
    },
    "executionInfo": {
     "elapsed": 45,
     "status": "ok",
     "timestamp": 1739317992680,
     "user": {
      "displayName": "Rooldy Alphonse",
      "userId": "16715067766107628705"
     },
     "user_tz": -60
    },
    "id": "qWnH3rEIXa_l",
    "outputId": "687a528e-c306-4bbd-afcc-f98655500033"
   },
   "outputs": [
    {
     "name": "stdout",
     "output_type": "stream",
     "text": [
      "1\n",
      "2\n",
      "3\n"
     ]
    }
   ],
   "source": [
    "my_list = [1, 2, 3]\n",
    "for i in range(len(my_list)):\n",
    "    print(my_list[i])"
   ]
  },
  {
   "cell_type": "code",
   "execution_count": null,
   "id": "lmQb6n3KblwH",
   "metadata": {
    "colab": {
     "base_uri": "https://localhost:8080/"
    },
    "executionInfo": {
     "elapsed": 24,
     "status": "ok",
     "timestamp": 1739318032073,
     "user": {
      "displayName": "Rooldy Alphonse",
      "userId": "16715067766107628705"
     },
     "user_tz": -60
    },
    "id": "lmQb6n3KblwH",
    "outputId": "f5c40ab5-349f-4a98-a97c-ff2f9d4a9596"
   },
   "outputs": [
    {
     "name": "stdout",
     "output_type": "stream",
     "text": [
      "Key not found in dictionary.\n"
     ]
    }
   ],
   "source": [
    "my_dict = {\"a\": 1, \"b\": 2}\n",
    "try:\n",
    "    print(my_dict[\"c\"])\n",
    "except KeyError:\n",
    "    print(\"Key not found in dictionary.\")"
   ]
  },
  {
   "cell_type": "code",
   "execution_count": null,
   "id": "VHK27zWsbvXy",
   "metadata": {
    "colab": {
     "base_uri": "https://localhost:8080/"
    },
    "executionInfo": {
     "elapsed": 47,
     "status": "ok",
     "timestamp": 1739318168668,
     "user": {
      "displayName": "Rooldy Alphonse",
      "userId": "16715067766107628705"
     },
     "user_tz": -60
    },
    "id": "VHK27zWsbvXy",
    "outputId": "fdaf0c82-86d7-466e-ccfb-205f2654b897"
   },
   "outputs": [
    {
     "name": "stdout",
     "output_type": "stream",
     "text": [
      "'City \"Tampa\" not found in population data.'\n"
     ]
    }
   ],
   "source": [
    "def get_city_population(populations, city):\n",
    "    \"\"\"\n",
    "    Retourne la population d'une ville donnée si elle est présente dans le dictionnaire.\n",
    "    Sinon, lève une KeyError avec un message d'erreur clair.\n",
    "\n",
    "    :param populations: Dictionnaire contenant les populations des villes.\n",
    "    :param city: Nom de la ville à rechercher.\n",
    "    :return: Population de la ville.\n",
    "    \"\"\"\n",
    "    try:\n",
    "        return populations[city]  # Accès direct au dictionnaire\n",
    "    except KeyError:\n",
    "        raise KeyError(f'City \"{city}\" not found in population data.')\n",
    "\n",
    "# Exemple de données\n",
    "city_populations = {\n",
    "    \"New York\": 8336817,\n",
    "    \"Los Angeles\": 3979576,\n",
    "    \"Chicago\": 2679044\n",
    "}\n",
    "\n",
    "# Test avec une ville absente\n",
    "city_name = \"Tampa\"\n",
    "\n",
    "try:\n",
    "    print(get_city_population(city_populations, city_name))\n",
    "except KeyError as e:\n",
    "    print(e)  # Affichage du message d'erreur\n"
   ]
  },
  {
   "cell_type": "code",
   "execution_count": null,
   "id": "o70kau87cBhP",
   "metadata": {
    "id": "o70kau87cBhP"
   },
   "outputs": [],
   "source": [
    "def calculate_average(numbers):\n",
    "    print(\"Input numbers:\", numbers)\n",
    "    total = sum(numbers)\n",
    "    print(\"Total:\", total)\n",
    "    count = len(numbers)\n",
    "    print(\"Count:\", count)\n",
    "    average = total / count\n",
    "    print(\"Average:\", average)\n",
    "    return average"
   ]
  },
  {
   "cell_type": "code",
   "execution_count": null,
   "id": "aWmSHcv0hJHB",
   "metadata": {
    "colab": {
     "base_uri": "https://localhost:8080/"
    },
    "executionInfo": {
     "elapsed": 18,
     "status": "ok",
     "timestamp": 1739353037875,
     "user": {
      "displayName": "Rooldy Alphonse",
      "userId": "16715067766107628705"
     },
     "user_tz": -60
    },
    "id": "aWmSHcv0hJHB",
    "outputId": "4caa3c7b-345a-4565-9900-b254899e04f3"
   },
   "outputs": [
    {
     "name": "stderr",
     "output_type": "stream",
     "text": [
      "WARNING:root:This is a warning message\n",
      "ERROR:root:This is an error message\n"
     ]
    }
   ],
   "source": [
    "import logging\n",
    "\n",
    "logging.basicConfig(filename='app.log', level=logging.DEBUG)\n",
    "logging.debug('This is a debug message')\n",
    "logging.info('This is an informational   message')\n",
    "logging.warning('This is a warning message')\n",
    "logging.error('This is an error message')"
   ]
  },
  {
   "cell_type": "code",
   "execution_count": null,
   "id": "BHox9gYbhRt0",
   "metadata": {
    "id": "BHox9gYbhRt0"
   },
   "outputs": [],
   "source": [
    "def calculate_area(length, width):\n",
    "    assert length > 0, \"Length must be positive\"\n",
    "    assert width > 0, \"Width must be positive\"\n",
    "    return length * width"
   ]
  },
  {
   "cell_type": "code",
   "execution_count": null,
   "id": "e5sG1NyThWt_",
   "metadata": {
    "id": "e5sG1NyThWt_"
   },
   "outputs": [],
   "source": [
    "# Import a powerful tool called \"pandas\" that you'll use to work with and organize data easily\n",
    "import pandas as pd\n",
    "\n",
    "# Deliberate Error: Incorrect filename\n",
    "insects_df = pd.read_csv('insects.csv')\n",
    "\n",
    "# Correct approach (commented out for reference)\n",
    "#insects_df = pd.read_csv('insect_collection.csv')"
   ]
  },
  {
   "cell_type": "code",
   "execution_count": null,
   "id": "4YKfbPwVi9wd",
   "metadata": {
    "id": "4YKfbPwVi9wd"
   },
   "outputs": [],
   "source": [
    "# Deliberate Error: Trying to access an element within an integer\n",
    "first_insect = all_insects_data[0]\n",
    "first_digit_of_legs = first_insect['legs'][0]\n",
    "\n",
    "# Correct approach (commented out for reference)\n",
    "# first_digit_of_legs = str(first_insect['legs'])[0]\n",
    "\n",
    "print(f\"The first digit of the number of legs the {first_insect['name']} has is: {first_digit_of_legs}\")"
   ]
  },
  {
   "cell_type": "code",
   "execution_count": null,
   "id": "6xDSbtzHjBAZ",
   "metadata": {
    "id": "6xDSbtzHjBAZ"
   },
   "outputs": [],
   "source": [
    "# Deliberate Error: Trying to concatenate a string and an integer directly\n",
    "first_insect = all_insects_data[0]\n",
    "sentence = \"The \" + first_insect['name'] + \" has \" + first_insect['legs'] + \" legs.\"\n",
    "\n",
    "# Correct approach (commented out for reference)\n",
    "# sentence = f\"The {first_insect['name']} has {first_insect['legs']} legs.\"\n",
    "\n",
    "print(sentence)"
   ]
  },
  {
   "cell_type": "code",
   "execution_count": null,
   "id": "p3ApU3kXjDm1",
   "metadata": {
    "id": "p3ApU3kXjDm1"
   },
   "outputs": [],
   "source": [
    "# Deliberate Error: Accessing an index that's out of bounds\n",
    "tenth_insect = all_insects_data[10]\n",
    "\n",
    "# Correct approach (commented out for reference)\n",
    "# if len(all_insects_data) > 9:  # Check if the 10th insect exists\n",
    "#     tenth_insect = all_insects_data[9]  # Access the 10th insect (index 9)\n",
    "# else:\n",
    "#     print(\"There are not enough insects in the collection.\")\n",
    "\n",
    "print(tenth_insect)"
   ]
  },
  {
   "cell_type": "code",
   "execution_count": null,
   "id": "_OH49MGTjGpF",
   "metadata": {
    "id": "_OH49MGTjGpF"
   },
   "outputs": [],
   "source": [
    "# Deliberate Error: Accessing a non-existent key\n",
    "first_insect = all_insects_data[0]\n",
    "color = first_insect['color']\n",
    "\n",
    "# Correct approach (commented out for reference)\n",
    "# if 'color' in first_insect:\n",
    "#     color = first_insect['color']\n",
    "# else:\n",
    "#     print(\"Color information is not available for this insect.\")\n",
    "\n",
    "print(f\"The color of the {first_insect['name']} is: {color}\")"
   ]
  },
  {
   "cell_type": "code",
   "execution_count": null,
   "id": "Yw2zR372jJ4J",
   "metadata": {
    "id": "Yw2zR372jJ4J"
   },
   "outputs": [],
   "source": [
    "# Deliberate Error: Trying to use .append() on a dictionary\n",
    "first_insect = all_insects_data[0]\n",
    "first_insect.append('color', 'brown')\n",
    "\n",
    "# Correct approach (commented out for reference)\n",
    "# first_insect['color'] = 'brown'\n",
    "\n",
    "print(first_insect)"
   ]
  },
  {
   "cell_type": "code",
   "execution_count": null,
   "id": "6CMoYDA-jNNY",
   "metadata": {
    "id": "6CMoYDA-jNNY"
   },
   "outputs": [],
   "source": [
    "# Deliberate Error: Potential division by zero\n",
    "for insect in all_insects_data:\n",
    "    leg_to_wing_ratio = insect['legs'] / insect['wings']\n",
    "\n",
    "    # Correct approach (commented out for reference)\n",
    "    # if insect['wings'] != 0:\n",
    "    #     leg_to_wing_ratio = insect['legs'] / insect['wings']\n",
    "    # else:\n",
    "    #     leg_to_wing_ratio = \"N/A (Insect has no wings)\"\n",
    "\n",
    "    print(f\"The leg-to-wing ratio for the {insect['name']} is: {leg_to_wing_ratio}\")"
   ]
  },
  {
   "cell_type": "code",
   "execution_count": null,
   "id": "iZa24Y--jP4w",
   "metadata": {
    "id": "iZa24Y--jP4w"
   },
   "outputs": [],
   "source": [
    "def read_file_contents(file_path):\n",
    "    \"\"\"\n",
    "    Reads and prints the contents of a file, handling potential errors gracefully.\n",
    "\n",
    "    Args:\n",
    "        file_path (str): The path to the file to be read.\n",
    "    \"\"\"\n",
    "\n",
    "    try:\n",
    "        file = open(file_path, 'r')  # Explicitly open the file\n",
    "        contents = file.read()\n",
    "        print(contents)\n",
    "    except FileNotFoundError:\n",
    "        print(f\"Error: File not found - {file_path}\")\n",
    "    finally:\n",
    "        file.close()  # Ensure the file is closed, even if an error occurred"
   ]
  },
  {
   "cell_type": "code",
   "execution_count": null,
   "id": "igbNx0UEDUrC",
   "metadata": {
    "colab": {
     "base_uri": "https://localhost:8080/",
     "height": 108
    },
    "executionInfo": {
     "elapsed": 41,
     "status": "error",
     "timestamp": 1739362174424,
     "user": {
      "displayName": "Rooldy Alphonse",
      "userId": "16715067766107628705"
     },
     "user_tz": -60
    },
    "id": "igbNx0UEDUrC",
    "outputId": "713e9922-1217-4015-ff4c-0bf0f35b2d13"
   },
   "outputs": [
    {
     "ename": "IndentationError",
     "evalue": "expected an indented block after 'try' statement on line 3 (<ipython-input-6-40ea70e938ce>, line 5)",
     "output_type": "error",
     "traceback": [
      "\u001b[0;36m  File \u001b[0;32m\"<ipython-input-6-40ea70e938ce>\"\u001b[0;36m, line \u001b[0;32m5\u001b[0m\n\u001b[0;31m    except Exception as e:\u001b[0m\n\u001b[0m    ^\u001b[0m\n\u001b[0;31mIndentationError\u001b[0m\u001b[0;31m:\u001b[0m expected an indented block after 'try' statement on line 3\n"
     ]
    }
   ],
   "source": [
    "import logging\n",
    "\n",
    "try:\n",
    "    # Your potentially error-prone code here\n",
    "except Exception as e:\n",
    "    logging.error(f\"An error occurred: {e}\")  # Logs the exception with details"
   ]
  },
  {
   "cell_type": "code",
   "execution_count": null,
   "id": "8V1O9a_hEITr",
   "metadata": {
    "colab": {
     "base_uri": "https://localhost:8080/",
     "height": 108
    },
    "executionInfo": {
     "elapsed": 40,
     "status": "error",
     "timestamp": 1739362197968,
     "user": {
      "displayName": "Rooldy Alphonse",
      "userId": "16715067766107628705"
     },
     "user_tz": -60
    },
    "id": "8V1O9a_hEITr",
    "outputId": "b5e42e1c-5bce-4869-bf92-5f55cfe59f22"
   },
   "outputs": [
    {
     "ename": "SyntaxError",
     "evalue": "invalid non-printable character U+00A0 (<ipython-input-7-2cee2a0ee641>, line 2)",
     "output_type": "error",
     "traceback": [
      "\u001b[0;36m  File \u001b[0;32m\"<ipython-input-7-2cee2a0ee641>\"\u001b[0;36m, line \u001b[0;32m2\u001b[0m\n\u001b[0;31m    try:\u001b[0m\n\u001b[0m    ^\u001b[0m\n\u001b[0;31mSyntaxError\u001b[0m\u001b[0;31m:\u001b[0m invalid non-printable character U+00A0\n"
     ]
    }
   ],
   "source": [
    "def calculate_area(shape):\n",
    "    try:\n",
    "        return shape.calculate_area()\n",
    "    except AttributeError:\n",
    "        raise TypeError(\"Object does not have a calculate_area method\")\n"
   ]
  },
  {
   "cell_type": "code",
   "execution_count": null,
   "id": "pWGOw9BBEOD1",
   "metadata": {
    "colab": {
     "base_uri": "https://localhost:8080/"
    },
    "executionInfo": {
     "elapsed": 53,
     "status": "ok",
     "timestamp": 1739362952016,
     "user": {
      "displayName": "Rooldy Alphonse",
      "userId": "16715067766107628705"
     },
     "user_tz": -60
    },
    "id": "pWGOw9BBEOD1",
    "outputId": "93ca9ec1-3742-4999-857b-5cf8702fc5ee"
   },
   "outputs": [
    {
     "name": "stdout",
     "output_type": "stream",
     "text": [
      "Error: File not found - /Users/Example/Documents/my_file.txt\n"
     ]
    }
   ],
   "source": [
    "def read_file_contents(file_path):\n",
    "    \"\"\"\n",
    "    Tente d'ouvrir un fichier et d'afficher son contenu.\n",
    "    Gère l'erreur si le fichier n'existe pas.\n",
    "\n",
    "    :param file_path: Chemin du fichier à lire.\n",
    "    \"\"\"\n",
    "    try:\n",
    "        with open(file_path, 'r') as file:  # Utilisation correcte de 'with open()'\n",
    "            content = file.read()  # Lecture du contenu du fichier\n",
    "            print(content)\n",
    "    except FileNotFoundError:\n",
    "        print(f\"Error: File not found - {file_path}\")\n",
    "\n",
    "# Exemple d'utilisation avec un fichier inexistant\n",
    "read_file_contents(\"/Users/Example/Documents/my_file.txt\")\n"
   ]
  },
  {
   "cell_type": "code",
   "execution_count": null,
   "id": "BR-qj_OEHGJw",
   "metadata": {
    "colab": {
     "base_uri": "https://localhost:8080/"
    },
    "executionInfo": {
     "elapsed": 8,
     "status": "ok",
     "timestamp": 1739365233229,
     "user": {
      "displayName": "Rooldy Alphonse",
      "userId": "16715067766107628705"
     },
     "user_tz": -60
    },
    "id": "BR-qj_OEHGJw",
    "outputId": "0b2a442f-d637-405a-960a-11c9f6edc5e1"
   },
   "outputs": [
    {
     "name": "stdout",
     "output_type": "stream",
     "text": [
      "Invalid discount percentage\n"
     ]
    }
   ],
   "source": [
    "def calculatediscount(price, percentage):\n",
    "\tif percentage < 0 or percentage > 100:\n",
    "\t\treturn \"Invalid discount percentage\" # Incorrect behavior\n",
    "\tdiscountamount = price * (percentage / 100)\n",
    "\treturn price - discountamount\n",
    "print(calculatediscount(100, 150)) # Should be an error"
   ]
  },
  {
   "cell_type": "code",
   "execution_count": null,
   "id": "rDh_QHoSPzF4",
   "metadata": {
    "colab": {
     "base_uri": "https://localhost:8080/"
    },
    "executionInfo": {
     "elapsed": 43,
     "status": "ok",
     "timestamp": 1739365261564,
     "user": {
      "displayName": "Rooldy Alphonse",
      "userId": "16715067766107628705"
     },
     "user_tz": -60
    },
    "id": "rDh_QHoSPzF4",
    "outputId": "135e0952-29ef-47b3-cf56-187211f3dd88"
   },
   "outputs": [
    {
     "name": "stdout",
     "output_type": "stream",
     "text": [
      "Error: Discount percentage must be between 0 and 100\n"
     ]
    }
   ],
   "source": [
    "def calculate_discount(price, percentage):\n",
    "    if percentage < 0 or percentage > 100:\n",
    "        raise ValueError(\"Discount percentage must be between 0 and 100\")\n",
    "    discount_amount = price * (percentage / 100)\n",
    "    return price - discount_amount\n",
    "try:\n",
    "    print(calculate_discount(100, 150))\n",
    "except ValueError as e:\n",
    "    print(f\"Error: {e}\")"
   ]
  },
  {
   "cell_type": "code",
   "execution_count": null,
   "id": "-4Dz2WnLP5_u",
   "metadata": {
    "colab": {
     "base_uri": "https://localhost:8080/"
    },
    "executionInfo": {
     "elapsed": 55,
     "status": "ok",
     "timestamp": 1739365313475,
     "user": {
      "displayName": "Rooldy Alphonse",
      "userId": "16715067766107628705"
     },
     "user_tz": -60
    },
    "id": "-4Dz2WnLP5_u",
    "outputId": "bdcc6aa8-5ca6-444a-b5d9-60aced2ba018"
   },
   "outputs": [
    {
     "name": "stderr",
     "output_type": "stream",
     "text": [
      "ERROR:root:Division by zero attempted!\n"
     ]
    }
   ],
   "source": [
    "import logging\n",
    "logging.basicConfig(filename='myapp.log', level=logging.DEBUG)\n",
    "def divide(x, y):\n",
    "    try:\n",
    "        result = x / y\n",
    "        logging.info(f\"Successfully divided {x} by {y} to get {result}\")\n",
    "        return result\n",
    "    except ZeroDivisionError:\n",
    "        logging.error(\"Division by zero attempted!\")\n",
    "        return None\n",
    "divide(10, 2)\n",
    "divide(5, 0)"
   ]
  },
  {
   "cell_type": "code",
   "execution_count": null,
   "id": "eqoi-SEQQGri",
   "metadata": {
    "colab": {
     "base_uri": "https://localhost:8080/"
    },
    "executionInfo": {
     "elapsed": 34,
     "status": "ok",
     "timestamp": 1739365464706,
     "user": {
      "displayName": "Rooldy Alphonse",
      "userId": "16715067766107628705"
     },
     "user_tz": -60
    },
    "id": "eqoi-SEQQGri",
    "outputId": "e65c5d38-b155-403a-b9c7-fff8cef4e75f"
   },
   "outputs": [
    {
     "name": "stdout",
     "output_type": "stream",
     "text": [
      "40.0\n"
     ]
    }
   ],
   "source": [
    "def calculate_discount(price, discount_percentage):\n",
    "    \"\"\"\n",
    "    Calcule le prix après application d'une réduction.\n",
    "\n",
    "    :param price: Prix initial de l'article.\n",
    "    :param discount_percentage: Pourcentage de réduction.\n",
    "    :return: Prix après réduction.\n",
    "    \"\"\"\n",
    "    if discount_percentage < 0 or discount_percentage > 100:\n",
    "        raise ValueError(\"Le pourcentage de réduction doit être entre 0 et 100.\")\n",
    "\n",
    "    discount_amount = price * (discount_percentage / 100)  # Correction de l'erreur\n",
    "    discounted_price = price - discount_amount  # Calcul correct du prix final\n",
    "\n",
    "    return discounted_price\n",
    "\n",
    "# Exemple d'utilisation\n",
    "price = 50\n",
    "discount_percentage = 20\n",
    "\n",
    "discounted_price = calculate_discount(price, discount_percentage)\n",
    "print(discounted_price)  # Sortie attendue : 40.0\n"
   ]
  },
  {
   "cell_type": "code",
   "execution_count": null,
   "id": "Mk8xX0HAQrmv",
   "metadata": {
    "id": "Mk8xX0HAQrmv"
   },
   "outputs": [],
   "source": [
    "import pytest\n",
    "def calculate_discount(price, percentage):\n",
    "  return price - (price * percentage / 100)\n",
    "\n",
    "class TestDiscountCalculation:\n",
    "  def test_ten_percent_discount(self):\n",
    "    result = calculate_discount(100, 10)\n",
    "    assert result == 90  # Assertion\n",
    "\n",
    "  def test_invalid_input(self):\n",
    "    with pytest.raises(TypeError):\n",
    "      calculate_discount(\"100\", 10)   # Test for incorrect input type"
   ]
  },
  {
   "cell_type": "code",
   "execution_count": null,
   "id": "nN3cKcH0bApG",
   "metadata": {
    "colab": {
     "base_uri": "https://localhost:8080/",
     "height": 393
    },
    "executionInfo": {
     "elapsed": 72,
     "status": "error",
     "timestamp": 1739368279752,
     "user": {
      "displayName": "Rooldy Alphonse",
      "userId": "16715067766107628705"
     },
     "user_tz": -60
    },
    "id": "nN3cKcH0bApG",
    "outputId": "69c0f73b-fa0d-474e-f4d3-2d2183b539ce"
   },
   "outputs": [
    {
     "ename": "ModuleNotFoundError",
     "errorDetails": {
      "actions": [
       {
        "action": "open_url",
        "actionText": "Open Examples",
        "url": "/notebooks/snippets/importing_libraries.ipynb"
       }
      ]
     },
     "evalue": "No module named 'your_flask_app'",
     "output_type": "error",
     "traceback": [
      "\u001b[0;31m---------------------------------------------------------------------------\u001b[0m",
      "\u001b[0;31mModuleNotFoundError\u001b[0m                       Traceback (most recent call last)",
      "\u001b[0;32m<ipython-input-14-7a32389ffd5e>\u001b[0m in \u001b[0;36m<cell line: 0>\u001b[0;34m()\u001b[0m\n\u001b[1;32m      1\u001b[0m \u001b[0;32mimport\u001b[0m \u001b[0mpytest\u001b[0m\u001b[0;34m\u001b[0m\u001b[0;34m\u001b[0m\u001b[0m\n\u001b[0;32m----> 2\u001b[0;31m \u001b[0;32mfrom\u001b[0m \u001b[0myour_flask_app\u001b[0m \u001b[0;32mimport\u001b[0m \u001b[0mapp\u001b[0m  \u001b[0;31m# Import your Flask app\u001b[0m\u001b[0;34m\u001b[0m\u001b[0;34m\u001b[0m\u001b[0m\n\u001b[0m\u001b[1;32m      3\u001b[0m \u001b[0;34m\u001b[0m\u001b[0m\n\u001b[1;32m      4\u001b[0m \u001b[0;34m@\u001b[0m\u001b[0mpytest\u001b[0m\u001b[0;34m.\u001b[0m\u001b[0mfixture\u001b[0m\u001b[0;34m\u001b[0m\u001b[0;34m\u001b[0m\u001b[0m\n\u001b[1;32m      5\u001b[0m \u001b[0;32mdef\u001b[0m \u001b[0mclient\u001b[0m\u001b[0;34m(\u001b[0m\u001b[0;34m)\u001b[0m\u001b[0;34m:\u001b[0m\u001b[0;34m\u001b[0m\u001b[0;34m\u001b[0m\u001b[0m\n",
      "\u001b[0;31mModuleNotFoundError\u001b[0m: No module named 'your_flask_app'",
      "",
      "\u001b[0;31m---------------------------------------------------------------------------\u001b[0;32m\nNOTE: If your import is failing due to a missing package, you can\nmanually install dependencies using either !pip or !apt.\n\nTo view examples of installing some common dependencies, click the\n\"Open Examples\" button below.\n\u001b[0;31m---------------------------------------------------------------------------\u001b[0m\n"
     ]
    }
   ],
   "source": [
    "import pytest\n",
    "from your_flask_app import app  # Import your Flask app\n",
    "\n",
    "@pytest.fixture\n",
    "def client():\n",
    "    \"\"\"Create a test client for interacting with the Flask app.\"\"\"\n",
    "    app.config['TESTING'] = True  # Enable testing mode\n",
    "    with app.test_client() as client:\n",
    "        yield client\n",
    "\n",
    "def test_user_registration(client):\n",
    "    \"\"\"Simulate a user registration and check the response.\"\"\"\n",
    "    data = {'username': 'testuser', 'email': 'testuser@example.com', 'password': 'testpassword'}\n",
    "    response = client.post('/register', data=data)\n",
    "\n",
    "    assert response.status_code == 302  # Expect a redirect after successful registration\n",
    "    # Further checks on database or session data can be added here\n",
    "\n",
    "def test_login(client):\n",
    "    \"\"\"Simulate a user login and verify the response.\"\"\"\n",
    "    data = {'username': 'existinguser', 'password': 'correctpassword'}\n",
    "    response = client.post('/login', data=data)\n",
    "\n",
    "    assert response.status_code == 200  # Expect a successful login\n",
    "    assert b'Welcome, existinguser' in response.data  # Check if welcome message is present\n",
    "\n",
    "# More tests for other routes, form submissions, database interactions, etc. can be added here\n"
   ]
  },
  {
   "cell_type": "code",
   "execution_count": null,
   "id": "MqKnt0EJba3U",
   "metadata": {
    "colab": {
     "base_uri": "https://localhost:8080/",
     "height": 393
    },
    "executionInfo": {
     "elapsed": 436,
     "status": "error",
     "timestamp": 1739368301347,
     "user": {
      "displayName": "Rooldy Alphonse",
      "userId": "16715067766107628705"
     },
     "user_tz": -60
    },
    "id": "MqKnt0EJba3U",
    "outputId": "c71313ad-63ed-4cef-b053-77731dc4abfe"
   },
   "outputs": [
    {
     "ename": "ModuleNotFoundError",
     "errorDetails": {
      "actions": [
       {
        "action": "open_url",
        "actionText": "Open Examples",
        "url": "/notebooks/snippets/importing_libraries.ipynb"
       }
      ]
     },
     "evalue": "No module named 'your_data_science_project'",
     "output_type": "error",
     "traceback": [
      "\u001b[0;31m---------------------------------------------------------------------------\u001b[0m",
      "\u001b[0;31mModuleNotFoundError\u001b[0m                       Traceback (most recent call last)",
      "\u001b[0;32m<ipython-input-15-0391fe86d751>\u001b[0m in \u001b[0;36m<cell line: 0>\u001b[0;34m()\u001b[0m\n\u001b[1;32m      1\u001b[0m \u001b[0;32mimport\u001b[0m \u001b[0mpytest\u001b[0m\u001b[0;34m\u001b[0m\u001b[0;34m\u001b[0m\u001b[0m\n\u001b[1;32m      2\u001b[0m \u001b[0;32mimport\u001b[0m \u001b[0mpandas\u001b[0m \u001b[0;32mas\u001b[0m \u001b[0mpd\u001b[0m\u001b[0;34m\u001b[0m\u001b[0;34m\u001b[0m\u001b[0m\n\u001b[0;32m----> 3\u001b[0;31m \u001b[0;32mfrom\u001b[0m \u001b[0myour_data_science_project\u001b[0m \u001b[0;32mimport\u001b[0m \u001b[0mclean_data\u001b[0m\u001b[0;34m,\u001b[0m \u001b[0mtrain_model\u001b[0m\u001b[0;34m,\u001b[0m \u001b[0mpredict\u001b[0m\u001b[0;34m\u001b[0m\u001b[0;34m\u001b[0m\u001b[0m\n\u001b[0m\u001b[1;32m      4\u001b[0m \u001b[0;34m\u001b[0m\u001b[0m\n\u001b[1;32m      5\u001b[0m \u001b[0;31m# Sample test data\u001b[0m\u001b[0;34m\u001b[0m\u001b[0;34m\u001b[0m\u001b[0m\n",
      "\u001b[0;31mModuleNotFoundError\u001b[0m: No module named 'your_data_science_project'",
      "",
      "\u001b[0;31m---------------------------------------------------------------------------\u001b[0;32m\nNOTE: If your import is failing due to a missing package, you can\nmanually install dependencies using either !pip or !apt.\n\nTo view examples of installing some common dependencies, click the\n\"Open Examples\" button below.\n\u001b[0;31m---------------------------------------------------------------------------\u001b[0m\n"
     ]
    }
   ],
   "source": [
    "import pytest\n",
    "import pandas as pd\n",
    "from your_data_science_project import clean_data, train_model, predict\n",
    "\n",
    "# Sample test data\n",
    "@pytest.fixture\n",
    "def test_data():\n",
    "    data = {'feature1': [1, 2, 3, None], 'feature2': ['A', 'B', 'C', 'D']}\n",
    "    return pd.DataFrame(data)\n",
    "\n",
    "def test_data_cleaning(test_data):\n",
    "    \"\"\"Verify if data cleaning handles missing values correctly.\"\"\"\n",
    "    cleaned_data = clean_data(test_data)\n",
    "    assert cleaned_data['feature1'].isnull().sum() == 0  # Check if missing values are filled\n",
    "\n",
    "def test_model_predictions():\n",
    "    \"\"\"Check if model predictions match expected outcomes.\"\"\"\n",
    "    X_test = ...  # Load your test data\n",
    "    y_test = ...  # Load corresponding ground truth labels\n",
    "    model = train_model(...)\n",
    "    predictions = predict(model, X_test)\n",
    "    accuracy = (predictions == y_test).mean()\n",
    "    assert accuracy > 0.8  # Set your desired accuracy threshold\n",
    "\n",
    "def test_model_performance():\n",
    "    \"\"\"Evaluate model performance using relevant metrics.\"\"\"\n",
    "    # ... Load your evaluation data and calculate metrics (e.g., precision, recall, F1-score)\n",
    "    # Assert that the metrics meet your expectations"
   ]
  },
  {
   "cell_type": "code",
   "execution_count": null,
   "id": "FKanwuNbbgDA",
   "metadata": {
    "id": "FKanwuNbbgDA"
   },
   "outputs": [],
   "source": [
    "import pytest\n",
    "\n",
    "class Calculator:\n",
    "    def add(self, x, y):\n",
    "        return x + y\n",
    "\n",
    "    def subtract(self, x, y):\n",
    "        return x - y\n",
    "\n",
    "    def multiply(self, x, y):\n",
    "        return x * y\n",
    "\n",
    "    def divide(self, x, y):\n",
    "        if y == 0:\n",
    "            raise ValueError(\"Division by zero!\")\n",
    "        return x / y\n",
    "\n",
    "class CalculatorTest:\n",
    "    @pytest.fixture\n",
    "    def calculator(self):\n",
    "        from calculator import Calculator\n",
    "        return Calculator()\n",
    "\n",
    "    def test_add(self, calculator):\n",
    "        result = calculator.add(2, 3)\n",
    "        assert result == 5\n",
    "\n",
    "    def test_subtract(self, calculator):\n",
    "        result = calculator.subtract(5, 2)\n",
    "        assert result == 3\n",
    "\n",
    "    def test_multiply(self, calculator):\n",
    "        result = calculator.multiply(4, 3)\n",
    "        assert result == 12\n",
    "\n",
    "    def test_divide(self, calculator):\n",
    "        result = self.calculator.divide(10, 2)\n",
    "        assert result == 5\n",
    "\n",
    "    def test_divide_by_zero(self, calculator):\n",
    "        with pytest.raises(ValueError):\n",
    "            calculator.divide(5, 0)"
   ]
  },
  {
   "cell_type": "code",
   "execution_count": null,
   "id": "JCnTuFeXeUL3",
   "metadata": {
    "id": "JCnTuFeXeUL3"
   },
   "outputs": [],
   "source": [
    "import pytest\n",
    "\n",
    "class Product:\n",
    "    def __init__(self, name, price, quantity=1):\n",
    "        self.name = name\n",
    "        self.price = price\n",
    "        self.quantity = quantity\n",
    "\n",
    "class Cart:\n",
    "    def __init__(self):\n",
    "        self.items = []\n",
    "\n",
    "    def add_to_cart(self, product):\n",
    "        self.items.append(product)\n",
    "\n",
    "    def calculate_total_price(self, tax_rate=0.0, shipping_fee=0.0):\n",
    "        subtotal = sum(item.price * item.quantity for item in self.items)\n",
    "        tax = subtotal * tax_rate\n",
    "        total = subtotal + tax + shipping_fee\n",
    "        return total\n",
    "\n",
    "    def apply_discount(self, discount_percentage):\n",
    "        for item in self.items:\n",
    "            item.price *= (1 - discount_percentage / 100)\n",
    "\n",
    "    def checkout(self, payment_gateway):\n",
    "        total_price = self.calculate_total_price()\n",
    "        # In a real application, you'd interact with the payment_gateway here\n",
    "        if payment_gateway.process_payment(total_price):\n",
    "            # Place the order (logic not shown here)\n",
    "            return True\n",
    "        else:\n",
    "            return False\n",
    "\n",
    "class TestProductFunctions:\n",
    "    def test_add_to_cart_successful(self):\n",
    "        cart = Cart()\n",
    "        product = Product(\"Widget\", 10.0)\n",
    "        cart.add_to_cart(product)\n",
    "        assert len(cart.items) == 1\n",
    "        assert cart.items[0] == product\n",
    "\n",
    "    def test_calculate_total_price_accuracy(self):\n",
    "        cart = Cart()\n",
    "        cart.add_to_cart(Product(\"Widget A\", 15.0))\n",
    "        cart.add_to_cart(Product(\"Widget B\", 20.0, 2))  # 2 of these\n",
    "        total = cart.calculate_total_price(tax_rate=0.07, shipping_fee=5.0)\n",
    "        expected_total = (15.0 + 20.0 * 2) * 1.07 + 5.0\n",
    "        assert total == expected_total\n",
    "\n",
    "    def test_apply_discount_correctly(self):\n",
    "        cart = Cart()\n",
    "        cart.add_to_cart(Product(\"Discounted Item\", 50.0))\n",
    "        cart.apply_discount(20)  # 20% discount\n",
    "        assert cart.items[0].price == 40\n",
    "\n",
    "    def test_checkout_successful_payment(self, mocker):\n",
    "        # Mocking a payment gateway (would be a real integration in a production app)\n",
    "        mock_payment_gateway = mocker.Mock()\n",
    "        mock_payment_gateway.proces_payment.return_value = True\n",
    "\n",
    "        cart = Cart()\n",
    "        cart.add_to_cart(Product(\"Something\", 100.0))\n",
    "        result = cart.checkout(mock_payment_gateway)\n",
    "        assert result is True # Checkout should be successful"
   ]
  },
  {
   "cell_type": "code",
   "execution_count": null,
   "id": "1Wr8be2deYcA",
   "metadata": {
    "colab": {
     "base_uri": "https://localhost:8080/"
    },
    "executionInfo": {
     "elapsed": 50,
     "status": "ok",
     "timestamp": 1739372555328,
     "user": {
      "displayName": "Rooldy Alphonse",
      "userId": "16715067766107628705"
     },
     "user_tz": -60
    },
    "id": "1Wr8be2deYcA",
    "outputId": "487c3ffa-d3e4-4226-ecb5-b3b2f20cfa9a"
   },
   "outputs": [
    {
     "name": "stdout",
     "output_type": "stream",
     "text": [
      "No discount.\n",
      "Discount applied!\n"
     ]
    }
   ],
   "source": [
    "def send_discount(books_purchased, discount_threshold):\n",
    "    \"\"\"Détermine si un client reçoit une réduction en fonction du nombre de livres achetés.\"\"\"\n",
    "    if books_purchased >= discount_threshold:\n",
    "        print(\"Discount applied!\")\n",
    "    else:\n",
    "        print(\"No discount.\")\n",
    "\n",
    "# Exemples de test\n",
    "send_discount(3, 5)  # Output: 'No discount.'\n",
    "send_discount(7, 5)  # Output: 'Discount applied!'\n"
   ]
  },
  {
   "cell_type": "code",
   "execution_count": null,
   "id": "Y3nnQ3mKrutZ",
   "metadata": {
    "colab": {
     "base_uri": "https://localhost:8080/"
    },
    "executionInfo": {
     "elapsed": 8,
     "status": "ok",
     "timestamp": 1739372699998,
     "user": {
      "displayName": "Rooldy Alphonse",
      "userId": "16715067766107628705"
     },
     "user_tz": -60
    },
    "id": "Y3nnQ3mKrutZ",
    "outputId": "50c1d564-32d2-4c2b-fe91-b1393edb9604"
   },
   "outputs": [
    {
     "name": "stdout",
     "output_type": "stream",
     "text": [
      "No discount.\n",
      "Discount applied!\n",
      "Big discount applied!\n"
     ]
    }
   ],
   "source": [
    "def send_discount(books_purchased, discount_threshold, bonus_threshold):\n",
    "    \"\"\"Détermine le niveau de réduction appliqué en fonction du nombre de livres achetés.\"\"\"\n",
    "    if books_purchased >= bonus_threshold:\n",
    "        print(\"Big discount applied!\")\n",
    "    elif books_purchased >= discount_threshold:\n",
    "        print(\"Discount applied!\")\n",
    "    else:\n",
    "        print(\"No discount.\")\n",
    "\n",
    "# Exemples de test\n",
    "send_discount(3, 5, 10)   # Output: 'No discount.'\n",
    "send_discount(7, 5, 10)   # Output: 'Discount applied!'\n",
    "send_discount(12, 5, 10)  # Output: 'Big discount applied!'\n"
   ]
  },
  {
   "cell_type": "code",
   "execution_count": null,
   "id": "lTCxAx1vsSCv",
   "metadata": {
    "colab": {
     "base_uri": "https://localhost:8080/"
    },
    "executionInfo": {
     "elapsed": 6,
     "status": "ok",
     "timestamp": 1739372834764,
     "user": {
      "displayName": "Rooldy Alphonse",
      "userId": "16715067766107628705"
     },
     "user_tz": -60
    },
    "id": "lTCxAx1vsSCv",
    "outputId": "22efe117-6a68-40d6-bbdb-fc5214b09dc1"
   },
   "outputs": [
    {
     "name": "stdout",
     "output_type": "stream",
     "text": [
      "Low: 2\n",
      "Medium: 2\n",
      "High: 2\n"
     ]
    }
   ],
   "source": [
    "def categorize_ratings(ratings):\n",
    "    \"\"\"Catégorise les évaluations des clients en Low, Medium, et High.\"\"\"\n",
    "    low_count = 0\n",
    "    medium_count = 0\n",
    "    high_count = 0\n",
    "\n",
    "    for rating in ratings:\n",
    "        if 1 <= rating <= 4:\n",
    "            low_count += 1\n",
    "        elif 5 <= rating <= 7:\n",
    "            medium_count += 1\n",
    "        elif 8 <= rating <= 10:\n",
    "            high_count += 1\n",
    "\n",
    "    print(f\"Low: {low_count}\")\n",
    "    print(f\"Medium: {medium_count}\")\n",
    "    print(f\"High: {high_count}\")\n",
    "\n",
    "# Exemple de test\n",
    "categorize_ratings([1, 3, 5, 7, 8, 9])\n",
    "# Output:\n",
    "# Low: 2\n",
    "# Medium: 2\n",
    "# High: 2\n"
   ]
  },
  {
   "cell_type": "code",
   "execution_count": null,
   "id": "_TSRkx0_sy6w",
   "metadata": {
    "colab": {
     "base_uri": "https://localhost:8080/"
    },
    "executionInfo": {
     "elapsed": 9,
     "status": "ok",
     "timestamp": 1739372910931,
     "user": {
      "displayName": "Rooldy Alphonse",
      "userId": "16715067766107628705"
     },
     "user_tz": -60
    },
    "id": "_TSRkx0_sy6w",
    "outputId": "2d17fd72-c656-4383-ebb3-c0d21eaeb6e0"
   },
   "outputs": [
    {
     "name": "stdout",
     "output_type": "stream",
     "text": [
      "['John', 'Lisa', 'Mary', 'Chris', 'Linda', 'Matt']\n"
     ]
    }
   ],
   "source": [
    "# Liste des étudiants\n",
    "students = [\"John\", \"Lisa\", \"Mary\", \"Chris\", \"Linda\", \"Matt\"]\n",
    "\n",
    "# Affichage de la liste des étudiants\n",
    "print(students)\n"
   ]
  },
  {
   "cell_type": "code",
   "execution_count": null,
   "id": "iW-IHQvVtFiI",
   "metadata": {
    "colab": {
     "base_uri": "https://localhost:8080/"
    },
    "executionInfo": {
     "elapsed": 41,
     "status": "ok",
     "timestamp": 1739373068980,
     "user": {
      "displayName": "Rooldy Alphonse",
      "userId": "16715067766107628705"
     },
     "user_tz": -60
    },
    "id": "iW-IHQvVtFiI",
    "outputId": "c0684184-af4b-42cd-c666-3fc5b8857335"
   },
   "outputs": [
    {
     "name": "stdout",
     "output_type": "stream",
     "text": [
      "{'John': 87, 'Lisa': 90, 'Mary': 75, 'Chris': 100, 'Linda': 100, 'Matt': 70}\n"
     ]
    }
   ],
   "source": [
    "### YOUR CODE HERE ###\n",
    "test_performance = {\"John\": 87,\"Lisa\": 90, \"Mary\": 75, \"Chris\": 100, \"Linda\": 100, \"Matt\": 70 }\n",
    "\n",
    "print(test_performance)"
   ]
  },
  {
   "cell_type": "code",
   "execution_count": null,
   "id": "p9prvVR5tsFn",
   "metadata": {
    "colab": {
     "base_uri": "https://localhost:8080/"
    },
    "executionInfo": {
     "elapsed": 52,
     "status": "ok",
     "timestamp": 1739373139002,
     "user": {
      "displayName": "Rooldy Alphonse",
      "userId": "16715067766107628705"
     },
     "user_tz": -60
    },
    "id": "p9prvVR5tsFn",
    "outputId": "7a669695-7057-40a1-8917-addf0a719b76"
   },
   "outputs": [
    {
     "name": "stdout",
     "output_type": "stream",
     "text": [
      "[85, 92, 78, 88, 95, 82]\n"
     ]
    }
   ],
   "source": [
    "# Dictionnaire avec les étudiants et leurs scores\n",
    "student_scores = {\n",
    "    \"John\": 85,\n",
    "    \"Lisa\": 92,\n",
    "    \"Mary\": 78,\n",
    "    \"Chris\": 88,\n",
    "    \"Linda\": 95,\n",
    "    \"Matt\": 82\n",
    "}\n",
    "\n",
    "# Liste des scores extraits du dictionnaire\n",
    "scores = []\n",
    "\n",
    "# Utilisation d'une boucle for pour extraire les scores\n",
    "for student in student_scores:\n",
    "    scores.append(student_scores[student])\n",
    "\n",
    "# Affichage de la liste des scores\n",
    "print(scores)\n"
   ]
  },
  {
   "cell_type": "code",
   "execution_count": null,
   "id": "vQGJfVYXt9Ne",
   "metadata": {
    "colab": {
     "base_uri": "https://localhost:8080/"
    },
    "executionInfo": {
     "elapsed": 153,
     "status": "ok",
     "timestamp": 1739373193301,
     "user": {
      "displayName": "Rooldy Alphonse",
      "userId": "16715067766107628705"
     },
     "user_tz": -60
    },
    "id": "vQGJfVYXt9Ne",
    "outputId": "0c797dbb-e2e0-4e66-ecaa-b1eca7c4852d"
   },
   "outputs": [
    {
     "name": "stdout",
     "output_type": "stream",
     "text": [
      "[78, 82, 85, 88, 92, 95]\n"
     ]
    }
   ],
   "source": [
    "# Fonction de tri à bulles (bubble sort)\n",
    "def bubble_sort(scores):\n",
    "    n = len(scores)\n",
    "    # Parcourir tous les éléments de la liste\n",
    "    for i in range(n):\n",
    "        # Derniers éléments déjà triés\n",
    "        for j in range(0, n-i-1):\n",
    "            # Échanger si l'élément trouvé est plus grand que le suivant\n",
    "            if scores[j] > scores[j+1]:\n",
    "                scores[j], scores[j+1] = scores[j+1], scores[j]\n",
    "\n",
    "# Liste des scores à trier\n",
    "scores = [85, 92, 78, 88, 95, 82]\n",
    "\n",
    "# Appel de la fonction bubble_sort\n",
    "bubble_sort(scores)\n",
    "\n",
    "# Affichage des scores triés\n",
    "print(scores)\n"
   ]
  },
  {
   "cell_type": "code",
   "execution_count": null,
   "id": "0mmxEQjluKcU",
   "metadata": {
    "colab": {
     "base_uri": "https://localhost:8080/"
    },
    "executionInfo": {
     "elapsed": 5,
     "status": "ok",
     "timestamp": 1739373253478,
     "user": {
      "displayName": "Rooldy Alphonse",
      "userId": "16715067766107628705"
     },
     "user_tz": -60
    },
    "id": "0mmxEQjluKcU",
    "outputId": "9b1c492b-1928-4b86-e603-7574aa51b937"
   },
   "outputs": [
    {
     "name": "stdout",
     "output_type": "stream",
     "text": [
      "Sorted scores: [78, 82, 85, 88, 92, 95]\n"
     ]
    }
   ],
   "source": [
    "# Fonction de tri à bulles avec retour de la liste triée\n",
    "def bubble_sort(scores):\n",
    "    n = len(scores)\n",
    "    for i in range(n):\n",
    "        for j in range(0, n-i-1):\n",
    "            if scores[j] > scores[j+1]:\n",
    "                scores[j], scores[j+1] = scores[j+1], scores[j]\n",
    "    return scores  # Renvoie la liste triée\n",
    "\n",
    "# Liste des scores à trier\n",
    "scores = [85, 92, 78, 88, 95, 82]\n",
    "\n",
    "# Appel de la fonction bubble_sort et assignation à sorted_scores\n",
    "sorted_scores = bubble_sort(scores)\n",
    "\n",
    "# Affichage des scores triés\n",
    "print(\"Sorted scores:\", sorted_scores)\n"
   ]
  },
  {
   "cell_type": "code",
   "execution_count": null,
   "id": "gLBwWg_PuZGK",
   "metadata": {
    "colab": {
     "base_uri": "https://localhost:8080/"
    },
    "executionInfo": {
     "elapsed": 16,
     "status": "ok",
     "timestamp": 1739373399635,
     "user": {
      "displayName": "Rooldy Alphonse",
      "userId": "16715067766107628705"
     },
     "user_tz": -60
    },
    "id": "gLBwWg_PuZGK",
    "outputId": "26e10b05-1579-415e-ef15-81598eaa3a8a"
   },
   "outputs": [
    {
     "name": "stdout",
     "output_type": "stream",
     "text": [
      "Highest score: 95\n",
      "Lowest score: 78\n"
     ]
    }
   ],
   "source": [
    "# Liste des scores triés\n",
    "sorted_scores = [78, 82, 85, 88, 92, 95]\n",
    "\n",
    "# Calcul des scores les plus élevés et les plus bas\n",
    "highest_score = sorted_scores[-1]  # Le dernier élément est le plus élevé\n",
    "lowest_score = sorted_scores[0]   # Le premier élément est le plus bas\n",
    "\n",
    "# Affichage des résultats\n",
    "print(\"Highest score:\", highest_score)\n",
    "print(\"Lowest score:\", lowest_score)"
   ]
  },
  {
   "cell_type": "code",
   "execution_count": null,
   "id": "RekVdQgfu80V",
   "metadata": {
    "colab": {
     "base_uri": "https://localhost:8080/"
    },
    "executionInfo": {
     "elapsed": 5,
     "status": "ok",
     "timestamp": 1739373408363,
     "user": {
      "displayName": "Rooldy Alphonse",
      "userId": "16715067766107628705"
     },
     "user_tz": -60
    },
    "id": "RekVdQgfu80V",
    "outputId": "9d203b2f-268a-47de-8eec-a7e7ef4bee9e"
   },
   "outputs": [
    {
     "name": "stdout",
     "output_type": "stream",
     "text": [
      "La moyenne de la classe est : 86.66666666666667\n",
      "Erreur : La liste des scores est vide.\n"
     ]
    }
   ],
   "source": [
    "def average_class_score(scores):\n",
    "    try:\n",
    "        if len(scores) == 0:\n",
    "            raise ValueError(\"La liste des scores est vide.\")\n",
    "\n",
    "        # Calcul de la moyenne des scores\n",
    "        average_score = sum(scores) / len(scores)\n",
    "        return average_score\n",
    "\n",
    "    except ValueError as e:\n",
    "        return f\"Erreur : {e}\"\n",
    "\n",
    "# Exemple d'utilisation avec une liste de scores\n",
    "scores = [78, 82, 85, 88, 92, 95]\n",
    "average_score = average_class_score(scores)\n",
    "print(\"La moyenne de la classe est :\", average_score)\n",
    "\n",
    "# Exemple avec une liste vide\n",
    "empty_scores = []\n",
    "average_score_empty = average_class_score(empty_scores)\n",
    "print(average_score_empty)"
   ]
  },
  {
   "cell_type": "code",
   "execution_count": null,
   "id": "vMl-wlB7u--u",
   "metadata": {
    "colab": {
     "base_uri": "https://localhost:8080/"
    },
    "executionInfo": {
     "elapsed": 6,
     "status": "ok",
     "timestamp": 1739373474673,
     "user": {
      "displayName": "Rooldy Alphonse",
      "userId": "16715067766107628705"
     },
     "user_tz": -60
    },
    "id": "vMl-wlB7u--u",
    "outputId": "b58248a3-1fab-4424-8899-af1cc06ac5ca"
   },
   "outputs": [
    {
     "name": "stdout",
     "output_type": "stream",
     "text": [
      "La moyenne des scores de la classe est : 86.66666666666667\n"
     ]
    }
   ],
   "source": [
    "# Liste des scores des étudiants\n",
    "scores = [78, 82, 85, 88, 92, 95]\n",
    "\n",
    "# Calcul de la moyenne en appelant la fonction average_class_score\n",
    "average_score = average_class_score(scores)\n",
    "\n",
    "# Affichage du résultat\n",
    "print(\"La moyenne des scores de la classe est :\", average_score)"
   ]
  },
  {
   "cell_type": "code",
   "execution_count": null,
   "id": "bvapwBCpvPK1",
   "metadata": {
    "colab": {
     "base_uri": "https://localhost:8080/"
    },
    "executionInfo": {
     "elapsed": 6,
     "status": "ok",
     "timestamp": 1739373598046,
     "user": {
      "displayName": "Rooldy Alphonse",
      "userId": "16715067766107628705"
     },
     "user_tz": -60
    },
    "id": "bvapwBCpvPK1",
    "outputId": "0521e65c-1cfd-4b08-8702-2b03ec780e1b"
   },
   "outputs": [
    {
     "name": "stdout",
     "output_type": "stream",
     "text": [
      "Erreur : La liste des scores est vide.\n"
     ]
    }
   ],
   "source": [
    "def average_class_score(scores):\n",
    "    try:\n",
    "        # Vérifier si la liste des scores est vide\n",
    "        if not scores:\n",
    "            raise ValueError(\"Erreur : La liste des scores est vide.\")\n",
    "\n",
    "        # Calculer la moyenne\n",
    "        total = sum(scores)\n",
    "        average = total / len(scores)\n",
    "        return average\n",
    "\n",
    "    except ValueError as e:\n",
    "        return str(e)\n",
    "\n",
    "# Test avec une liste vide\n",
    "empty_class = []\n",
    "empty_scores = []\n",
    "error_average = average_class_score(empty_class)\n",
    "\n",
    "print(error_average)  # Affiche le message d'erreur\n"
   ]
  },
  {
   "cell_type": "code",
   "execution_count": null,
   "id": "hh1omO-7vtSd",
   "metadata": {
    "colab": {
     "base_uri": "https://localhost:8080/"
    },
    "executionInfo": {
     "elapsed": 40,
     "status": "ok",
     "timestamp": 1739373628936,
     "user": {
      "displayName": "Rooldy Alphonse",
      "userId": "16715067766107628705"
     },
     "user_tz": -60
    },
    "id": "hh1omO-7vtSd",
    "outputId": "3afd1ed1-162c-4f69-f143-6d620eb6a699"
   },
   "outputs": [
    {
     "name": "stdout",
     "output_type": "stream",
     "text": [
      "Highest Score: 95\n",
      "Lowest Score: 78\n",
      "Average Score: 86.66666666666667\n"
     ]
    }
   ],
   "source": [
    "print(f\"Highest Score: {highest_score}\")\n",
    "print(f\"Lowest Score: {lowest_score}\")\n",
    "\n",
    "print(f\"Average Score: {average_score}\")"
   ]
  },
  {
   "cell_type": "code",
   "execution_count": null,
   "id": "xTojydJKv00l",
   "metadata": {
    "colab": {
     "base_uri": "https://localhost:8080/"
    },
    "executionInfo": {
     "elapsed": 39,
     "status": "ok",
     "timestamp": 1739375176720,
     "user": {
      "displayName": "Rooldy Alphonse",
      "userId": "16715067766107628705"
     },
     "user_tz": -60
    },
    "id": "xTojydJKv00l",
    "outputId": "41f1644d-b22d-4fd2-946b-e3243d1ec52c"
   },
   "outputs": [
    {
     "name": "stdout",
     "output_type": "stream",
     "text": [
      "60000.0\n",
      "gender\n",
      "female    2\n",
      "male      2\n",
      "Name: count, dtype: int64\n"
     ]
    }
   ],
   "source": [
    "import pandas as pd\n",
    "\n",
    "# Sample data\n",
    "data = {'age': [25, 30, 35, 40],\n",
    "        'gender': ['male', 'female', 'male', 'female'],\n",
    "        'income': [50000, 60000, 75000, 55000]}\n",
    "\n",
    "# Create a DataFrame\n",
    "df = pd.DataFrame(data)\n",
    "\n",
    "# Convert 'gender' to a categorical variable\n",
    "df['gender'] = df['gender'].astype('category')\n",
    "\n",
    "# Calculate average income\n",
    "average_income = df['income'].mean()\n",
    "\n",
    "# Count the number of males and females\n",
    "gender_counts = df['gender'].value_counts()\n",
    "\n",
    "print(average_income)\n",
    "print(gender_counts)"
   ]
  },
  {
   "cell_type": "code",
   "execution_count": null,
   "id": "Dlwzx39I1usw",
   "metadata": {
    "colab": {
     "base_uri": "https://localhost:8080/"
    },
    "executionInfo": {
     "elapsed": 68,
     "status": "ok",
     "timestamp": 1739448168862,
     "user": {
      "displayName": "Rooldy Alphonse",
      "userId": "16715067766107628705"
     },
     "user_tz": -60
    },
    "id": "Dlwzx39I1usw",
    "outputId": "5409a96d-8a51-445c-e9ca-6dd778a78ed9"
   },
   "outputs": [
    {
     "name": "stdout",
     "output_type": "stream",
     "text": [
      "Hello world\n"
     ]
    }
   ],
   "source": [
    "# Replace \"insert code here\" with \"Hello, World!\":\n",
    "\n",
    "print(\"Hello world\")"
   ]
  },
  {
   "cell_type": "code",
   "execution_count": null,
   "id": "AHmdlJyFMKfP",
   "metadata": {
    "id": "AHmdlJyFMKfP"
   },
   "outputs": [],
   "source": [
    "import numpy as np"
   ]
  },
  {
   "cell_type": "code",
   "execution_count": null,
   "id": "weEM1MmtMRda",
   "metadata": {
    "colab": {
     "base_uri": "https://localhost:8080/"
    },
    "executionInfo": {
     "elapsed": 26,
     "status": "ok",
     "timestamp": 1739448242651,
     "user": {
      "displayName": "Rooldy Alphonse",
      "userId": "16715067766107628705"
     },
     "user_tz": -60
    },
    "id": "weEM1MmtMRda",
    "outputId": "b59241a9-4432-42fb-bfec-282b1bf30d4e"
   },
   "outputs": [
    {
     "name": "stdout",
     "output_type": "stream",
     "text": [
      "The average of the numbers is: 3.8\n"
     ]
    }
   ],
   "source": [
    "# Create an array of numbers\n",
    "numbers = np.array([1, 5, 3, 8, 2])\n",
    "\n",
    "# Calculate the average\n",
    "average = np.mean(numbers)\n",
    "\n",
    "# Display the result\n",
    "print(\"The average of the numbers is:\", average)\n"
   ]
  },
  {
   "cell_type": "code",
   "execution_count": null,
   "id": "bdCrog4kMdDC",
   "metadata": {
    "colab": {
     "base_uri": "https://localhost:8080/",
     "height": 382
    },
    "executionInfo": {
     "elapsed": 91,
     "status": "error",
     "timestamp": 1739448522084,
     "user": {
      "displayName": "Rooldy Alphonse",
      "userId": "16715067766107628705"
     },
     "user_tz": -60
    },
    "id": "bdCrog4kMdDC",
    "outputId": "2d30ba3b-7758-421b-b421-ab416cdbabdf"
   },
   "outputs": [
    {
     "ename": "FileNotFoundError",
     "evalue": "[Errno 2] No such file or directory: 'planets_with_moons_all.csv'",
     "output_type": "error",
     "traceback": [
      "\u001b[0;31m---------------------------------------------------------------------------\u001b[0m",
      "\u001b[0;31mFileNotFoundError\u001b[0m                         Traceback (most recent call last)",
      "\u001b[0;32m<ipython-input-6-038786ffa331>\u001b[0m in \u001b[0;36m<cell line: 0>\u001b[0;34m()\u001b[0m\n\u001b[1;32m      2\u001b[0m \u001b[0;34m\u001b[0m\u001b[0m\n\u001b[1;32m      3\u001b[0m \u001b[0;31m# Read the CSV file into a DataFrame\u001b[0m\u001b[0;34m\u001b[0m\u001b[0;34m\u001b[0m\u001b[0m\n\u001b[0;32m----> 4\u001b[0;31m \u001b[0mplanets_df\u001b[0m \u001b[0;34m=\u001b[0m \u001b[0mpd\u001b[0m\u001b[0;34m.\u001b[0m\u001b[0mread_csv\u001b[0m\u001b[0;34m(\u001b[0m\u001b[0;34m'planets_with_moons_all.csv'\u001b[0m\u001b[0;34m)\u001b[0m\u001b[0;34m\u001b[0m\u001b[0;34m\u001b[0m\u001b[0m\n\u001b[0m\u001b[1;32m      5\u001b[0m \u001b[0;34m\u001b[0m\u001b[0m\n\u001b[1;32m      6\u001b[0m \u001b[0;31m# Display the first 5 rows\u001b[0m\u001b[0;34m\u001b[0m\u001b[0;34m\u001b[0m\u001b[0m\n",
      "\u001b[0;32m/usr/local/lib/python3.11/dist-packages/pandas/io/parsers/readers.py\u001b[0m in \u001b[0;36mread_csv\u001b[0;34m(filepath_or_buffer, sep, delimiter, header, names, index_col, usecols, dtype, engine, converters, true_values, false_values, skipinitialspace, skiprows, skipfooter, nrows, na_values, keep_default_na, na_filter, verbose, skip_blank_lines, parse_dates, infer_datetime_format, keep_date_col, date_parser, date_format, dayfirst, cache_dates, iterator, chunksize, compression, thousands, decimal, lineterminator, quotechar, quoting, doublequote, escapechar, comment, encoding, encoding_errors, dialect, on_bad_lines, delim_whitespace, low_memory, memory_map, float_precision, storage_options, dtype_backend)\u001b[0m\n\u001b[1;32m   1024\u001b[0m     \u001b[0mkwds\u001b[0m\u001b[0;34m.\u001b[0m\u001b[0mupdate\u001b[0m\u001b[0;34m(\u001b[0m\u001b[0mkwds_defaults\u001b[0m\u001b[0;34m)\u001b[0m\u001b[0;34m\u001b[0m\u001b[0;34m\u001b[0m\u001b[0m\n\u001b[1;32m   1025\u001b[0m \u001b[0;34m\u001b[0m\u001b[0m\n\u001b[0;32m-> 1026\u001b[0;31m     \u001b[0;32mreturn\u001b[0m \u001b[0m_read\u001b[0m\u001b[0;34m(\u001b[0m\u001b[0mfilepath_or_buffer\u001b[0m\u001b[0;34m,\u001b[0m \u001b[0mkwds\u001b[0m\u001b[0;34m)\u001b[0m\u001b[0;34m\u001b[0m\u001b[0;34m\u001b[0m\u001b[0m\n\u001b[0m\u001b[1;32m   1027\u001b[0m \u001b[0;34m\u001b[0m\u001b[0m\n\u001b[1;32m   1028\u001b[0m \u001b[0;34m\u001b[0m\u001b[0m\n",
      "\u001b[0;32m/usr/local/lib/python3.11/dist-packages/pandas/io/parsers/readers.py\u001b[0m in \u001b[0;36m_read\u001b[0;34m(filepath_or_buffer, kwds)\u001b[0m\n\u001b[1;32m    618\u001b[0m \u001b[0;34m\u001b[0m\u001b[0m\n\u001b[1;32m    619\u001b[0m     \u001b[0;31m# Create the parser.\u001b[0m\u001b[0;34m\u001b[0m\u001b[0;34m\u001b[0m\u001b[0m\n\u001b[0;32m--> 620\u001b[0;31m     \u001b[0mparser\u001b[0m \u001b[0;34m=\u001b[0m \u001b[0mTextFileReader\u001b[0m\u001b[0;34m(\u001b[0m\u001b[0mfilepath_or_buffer\u001b[0m\u001b[0;34m,\u001b[0m \u001b[0;34m**\u001b[0m\u001b[0mkwds\u001b[0m\u001b[0;34m)\u001b[0m\u001b[0;34m\u001b[0m\u001b[0;34m\u001b[0m\u001b[0m\n\u001b[0m\u001b[1;32m    621\u001b[0m \u001b[0;34m\u001b[0m\u001b[0m\n\u001b[1;32m    622\u001b[0m     \u001b[0;32mif\u001b[0m \u001b[0mchunksize\u001b[0m \u001b[0;32mor\u001b[0m \u001b[0miterator\u001b[0m\u001b[0;34m:\u001b[0m\u001b[0;34m\u001b[0m\u001b[0;34m\u001b[0m\u001b[0m\n",
      "\u001b[0;32m/usr/local/lib/python3.11/dist-packages/pandas/io/parsers/readers.py\u001b[0m in \u001b[0;36m__init__\u001b[0;34m(self, f, engine, **kwds)\u001b[0m\n\u001b[1;32m   1618\u001b[0m \u001b[0;34m\u001b[0m\u001b[0m\n\u001b[1;32m   1619\u001b[0m         \u001b[0mself\u001b[0m\u001b[0;34m.\u001b[0m\u001b[0mhandles\u001b[0m\u001b[0;34m:\u001b[0m \u001b[0mIOHandles\u001b[0m \u001b[0;34m|\u001b[0m \u001b[0;32mNone\u001b[0m \u001b[0;34m=\u001b[0m \u001b[0;32mNone\u001b[0m\u001b[0;34m\u001b[0m\u001b[0;34m\u001b[0m\u001b[0m\n\u001b[0;32m-> 1620\u001b[0;31m         \u001b[0mself\u001b[0m\u001b[0;34m.\u001b[0m\u001b[0m_engine\u001b[0m \u001b[0;34m=\u001b[0m \u001b[0mself\u001b[0m\u001b[0;34m.\u001b[0m\u001b[0m_make_engine\u001b[0m\u001b[0;34m(\u001b[0m\u001b[0mf\u001b[0m\u001b[0;34m,\u001b[0m \u001b[0mself\u001b[0m\u001b[0;34m.\u001b[0m\u001b[0mengine\u001b[0m\u001b[0;34m)\u001b[0m\u001b[0;34m\u001b[0m\u001b[0;34m\u001b[0m\u001b[0m\n\u001b[0m\u001b[1;32m   1621\u001b[0m \u001b[0;34m\u001b[0m\u001b[0m\n\u001b[1;32m   1622\u001b[0m     \u001b[0;32mdef\u001b[0m \u001b[0mclose\u001b[0m\u001b[0;34m(\u001b[0m\u001b[0mself\u001b[0m\u001b[0;34m)\u001b[0m \u001b[0;34m->\u001b[0m \u001b[0;32mNone\u001b[0m\u001b[0;34m:\u001b[0m\u001b[0;34m\u001b[0m\u001b[0;34m\u001b[0m\u001b[0m\n",
      "\u001b[0;32m/usr/local/lib/python3.11/dist-packages/pandas/io/parsers/readers.py\u001b[0m in \u001b[0;36m_make_engine\u001b[0;34m(self, f, engine)\u001b[0m\n\u001b[1;32m   1878\u001b[0m                 \u001b[0;32mif\u001b[0m \u001b[0;34m\"b\"\u001b[0m \u001b[0;32mnot\u001b[0m \u001b[0;32min\u001b[0m \u001b[0mmode\u001b[0m\u001b[0;34m:\u001b[0m\u001b[0;34m\u001b[0m\u001b[0;34m\u001b[0m\u001b[0m\n\u001b[1;32m   1879\u001b[0m                     \u001b[0mmode\u001b[0m \u001b[0;34m+=\u001b[0m \u001b[0;34m\"b\"\u001b[0m\u001b[0;34m\u001b[0m\u001b[0;34m\u001b[0m\u001b[0m\n\u001b[0;32m-> 1880\u001b[0;31m             self.handles = get_handle(\n\u001b[0m\u001b[1;32m   1881\u001b[0m                 \u001b[0mf\u001b[0m\u001b[0;34m,\u001b[0m\u001b[0;34m\u001b[0m\u001b[0;34m\u001b[0m\u001b[0m\n\u001b[1;32m   1882\u001b[0m                 \u001b[0mmode\u001b[0m\u001b[0;34m,\u001b[0m\u001b[0;34m\u001b[0m\u001b[0;34m\u001b[0m\u001b[0m\n",
      "\u001b[0;32m/usr/local/lib/python3.11/dist-packages/pandas/io/common.py\u001b[0m in \u001b[0;36mget_handle\u001b[0;34m(path_or_buf, mode, encoding, compression, memory_map, is_text, errors, storage_options)\u001b[0m\n\u001b[1;32m    871\u001b[0m         \u001b[0;32mif\u001b[0m \u001b[0mioargs\u001b[0m\u001b[0;34m.\u001b[0m\u001b[0mencoding\u001b[0m \u001b[0;32mand\u001b[0m \u001b[0;34m\"b\"\u001b[0m \u001b[0;32mnot\u001b[0m \u001b[0;32min\u001b[0m \u001b[0mioargs\u001b[0m\u001b[0;34m.\u001b[0m\u001b[0mmode\u001b[0m\u001b[0;34m:\u001b[0m\u001b[0;34m\u001b[0m\u001b[0;34m\u001b[0m\u001b[0m\n\u001b[1;32m    872\u001b[0m             \u001b[0;31m# Encoding\u001b[0m\u001b[0;34m\u001b[0m\u001b[0;34m\u001b[0m\u001b[0m\n\u001b[0;32m--> 873\u001b[0;31m             handle = open(\n\u001b[0m\u001b[1;32m    874\u001b[0m                 \u001b[0mhandle\u001b[0m\u001b[0;34m,\u001b[0m\u001b[0;34m\u001b[0m\u001b[0;34m\u001b[0m\u001b[0m\n\u001b[1;32m    875\u001b[0m                 \u001b[0mioargs\u001b[0m\u001b[0;34m.\u001b[0m\u001b[0mmode\u001b[0m\u001b[0;34m,\u001b[0m\u001b[0;34m\u001b[0m\u001b[0;34m\u001b[0m\u001b[0m\n",
      "\u001b[0;31mFileNotFoundError\u001b[0m: [Errno 2] No such file or directory: 'planets_with_moons_all.csv'"
     ]
    }
   ],
   "source": [
    "import pandas as pd\n",
    "\n",
    "# Read the CSV file into a DataFrame\n",
    "planets_df = pd.read_csv('planets_with_moons_all.csv')\n",
    "\n",
    "# Display the first 5 rows\n",
    "print(planets_df.head())\n",
    "\n",
    "# Print information about the DataFrame\n",
    "print(planets_df.info())"
   ]
  },
  {
   "cell_type": "code",
   "execution_count": null,
   "id": "175pqZwZMpLy",
   "metadata": {
    "id": "175pqZwZMpLy"
   },
   "outputs": [],
   "source": [
    "import numpy as np\n",
    "\n",
    "# Extract the 'Diameter (km)' and 'Number of Moons' columns as numpy arrays\n",
    "diameters = planets_df['Diameter (km)'].values\n",
    "num_moons = planets_df['Number of Moons'].values\n",
    "\n",
    "# Calculate the mean and median\n",
    "mean_diameter = np.mean(diameters)\n",
    "median_diameter = np.median(diameters)\n",
    "mean_moons = np.mean(num_moons)\n",
    "median_moons = np.median(num_moons)\n",
    "\n",
    "# Display the results\n",
    "print(\"\\nDescriptive Statistics:\")\n",
    "print(f\"Mean Diameter: {mean_diameter:.2f} km\")\n",
    "print(f\"Median Diameter: {median_diameter} km\")\n",
    "print(f\"Mean Number of Moons: {mean_moons:.2f}\")\n",
    "print(f\"Median Number of Moons: {median_moons}\\n\")"
   ]
  },
  {
   "cell_type": "code",
   "execution_count": null,
   "id": "OmWr5A2SM_5R",
   "metadata": {
    "id": "OmWr5A2SM_5R"
   },
   "outputs": [],
   "source": [
    "import seaborn as sns\n",
    "import matplotlib.pyplot as plt\n",
    "\n",
    "# Create the scatter plot\n",
    "sns.scatterplot(x='Diameter (km)', y='Number of Moons', data=planets_df)\n",
    "\n",
    "# Add labels and a title\n",
    "plt.title('Relationship between Diameter and Number of Moons')\n",
    "plt.xlabel('Diameter (km)')\n",
    "plt.ylabel('Number of Moons')\n",
    "\n",
    "# Display the plot\n",
    "plt.show()"
   ]
  },
  {
   "cell_type": "code",
   "execution_count": null,
   "id": "ZXPWS-Y6NDcx",
   "metadata": {
    "id": "ZXPWS-Y6NDcx"
   },
   "outputs": [],
   "source": [
    "import numpy as np\n",
    "\n",
    "prices = np.array([100, 105, 112, 98])\n",
    "percentage_change = (prices[1:] - prices[:-1]) / prices[:-1] * 100"
   ]
  },
  {
   "cell_type": "code",
   "execution_count": null,
   "id": "Zth428lPOCGb",
   "metadata": {
    "id": "Zth428lPOCGb"
   },
   "outputs": [],
   "source": [
    "df[(df['membership_level'] == 'Platinum') & (df['number_of_purchases'] > 10)]"
   ]
  },
  {
   "cell_type": "code",
   "execution_count": null,
   "id": "gEdyD6_kWcI1",
   "metadata": {
    "id": "gEdyD6_kWcI1"
   },
   "outputs": [],
   "source": [
    "total_sales = df.loc[(df['Product'] == 'Product A') & (df['Region'] == 'North'), 'Sales'].sum()"
   ]
  },
  {
   "cell_type": "code",
   "execution_count": null,
   "id": "IOpS3pd7Wm0Z",
   "metadata": {
    "id": "IOpS3pd7Wm0Z"
   },
   "outputs": [],
   "source": [
    "# Import the pandas library with the alias 'pd'\n",
    "\n",
    "# insert code here\n",
    "import pandas as pd\n",
    "\n",
    "# Load the CSV file 'customer_data_50.csv' into a DataFrame\n",
    "\n",
    "# insert code here\n",
    "customer_data = pd.read_csv('customer_data_50.csv')"
   ]
  },
  {
   "cell_type": "code",
   "execution_count": null,
   "id": "8yLtAy6hXSTi",
   "metadata": {
    "id": "8yLtAy6hXSTi"
   },
   "outputs": [],
   "source": [
    "# Display the shape of the DataFrame (rows, columns)\n",
    "print(\"\\nShape of the DataFrame (rows, columns):\", customer_data.shape)"
   ]
  },
  {
   "cell_type": "code",
   "execution_count": null,
   "id": "lLluvwrGXXfV",
   "metadata": {
    "id": "lLluvwrGXXfV"
   },
   "outputs": [],
   "source": [
    "# Display the first 5 rows\n",
    "print(\"First 5 rows:\\n\")\n",
    "\n",
    "# insert code here\n",
    "print(customer_data.head())"
   ]
  },
  {
   "cell_type": "code",
   "execution_count": null,
   "id": "bxFkNjlhXaY9",
   "metadata": {
    "id": "bxFkNjlhXaY9"
   },
   "outputs": [],
   "source": [
    "# Print the column names and their data types\n",
    "print(\"\\nColumn names and their data types:\\n\")\n",
    "\n",
    "# insert code here\n",
    "print(customer_data.info())"
   ]
  },
  {
   "cell_type": "code",
   "execution_count": null,
   "id": "y7MhHHDEXg_r",
   "metadata": {
    "id": "y7MhHHDEXg_r"
   },
   "outputs": [],
   "source": [
    "# Display descriptive statistics for numerical columns\n",
    "print(\"\\nDescriptive statistics for numerical columns:\\n\")\n",
    "\n",
    "# insert code here\n",
    "print(customer_data.describe())"
   ]
  },
  {
   "cell_type": "code",
   "execution_count": null,
   "id": "gE4SKK0lXlMY",
   "metadata": {
    "id": "gE4SKK0lXlMY"
   },
   "outputs": [],
   "source": [
    "# Calculate the mean of the 'age' column\n",
    "mean_age = customer_data['age'].mean() # insert code here\n",
    "\n",
    "\n",
    "# Print the mean age\n",
    "print(\"\\nMean Age:\", mean_age)\n",
    "\n",
    "# Calculate the median of the 'age' column\n",
    "median_age = customer_data['age'].median() # insert code here\n",
    "\n",
    "# Print the median age\n",
    "print(\"\\nMedian Age:\", median_age)"
   ]
  },
  {
   "cell_type": "code",
   "execution_count": null,
   "id": "1GHCno2yXo7r",
   "metadata": {
    "id": "1GHCno2yXo7r"
   },
   "outputs": [],
   "source": [
    "import pandas as pd\n",
    "\n",
    "data = {'Name': ['Alice', 'Bob', 'Charlie'], 'Age': [25, 30, 28]}\n",
    "\n",
    "df = pd.DataFrame(data)"
   ]
  },
  {
   "cell_type": "code",
   "execution_count": null,
   "id": "QWIl0xUEYOV9",
   "metadata": {
    "id": "QWIl0xUEYOV9"
   },
   "outputs": [],
   "source": [
    "data = [['Alice', 25], ['Bob', 30], ['Charlie', 28]]\n",
    "\n",
    "df = pd.DataFrame(data, columns=['Name', 'Age'])"
   ]
  },
  {
   "cell_type": "code",
   "execution_count": null,
   "id": "Cu-25tmoYTFP",
   "metadata": {
    "id": "Cu-25tmoYTFP"
   },
   "outputs": [],
   "source": [
    "#CSV files give pandas the ability to seamlessly load data from them into DataFrames using the read_csv function. This function handles parsing and structuring. CSV files are a common format for storing and exchanging data, and pandas makes it effortless to import them into your Python environment for analysis.\n",
    "\n",
    "#df = pd.read_csv('data.csv')\n",
    "\n",
    "#pandas also provides similar functions like read_excel, read_json, and read_sql for importing data from other popular formats, making it adaptable to your specific data sources.\n",
    "\n",
    "#Inspecting a DataFrame\n",
    "#Once you have your DataFrame ready, pandas provides a suite of functions to explore and understand its structure and content:\n",
    "\n",
    "#df.head(): Displays the first few rows (default 5) for a quick overview of the data's nature, including column names, data types, and a sample of values. It's like taking a peek at the beginning of a dataset to get a feel for what it contains.\n",
    "\n",
    "#df.tail(): Similarly, displays the last few rows (default 5), aiding in identifying patterns or anomalies towards the end. This can be helpful in spotting any unexpected values or trends that might require further investigation.\n",
    "\n",
    "#df.shape: Returns a tuple representing the dimensions of the DataFrame (number of rows and columns). This is crucial for understanding the scale of your data and planning your analysis strategy accordingly.\n",
    "\n",
    "#df.info(): Generates a concise summary of the DataFrame, encompassing column names, data types (essential for knowing how to work with each column), and the presence of missing values. This summary provides a quick health check of your data, highlighting potential areas for cleaning or preprocessing.\n",
    "\n",
    "#df.describe(): Computes descriptive statistics for numerical columns, offering insights into data distribution and central tendencies. This includes metrics like count, mean, standard deviation, minimum, maximum, and quartiles, which help you understand the characteristics of your numerical data.\n",
    "\n",
    "#Selecting and filtering data\n",
    "#The true power of pandas lies in its ability to precisely select and filter data, allowing you to focus your analysis on specific subsets of interest. This capability is fundamental for extracting meaningful information from large and complex datasets. pandas provides intuitive syntax for column selection.\n",
    "\n",
    "#Single column selection retrieves a single column by its name using square brackets. The result is a pandas Series, a one-dimensional labeled array capable of holding any data type. Series objects inherit many of the DataFrame's functionalities, enabling further manipulation and analysis on a single column.\n",
    "\n",
    "#df['Age']\n",
    "\n",
    "#Multiple column selection extracts multiple columns by passing a list of column names within double square brackets. The output is a new DataFrame containing only the selected columns, effectively creating a focused subset of the original data. This is useful when you want to work with a specific group of variables or features.\n",
    "\n",
    "#df[['Name', 'Age']]\n",
    "\n",
    "#pandas offers two primary methods for row selection, each tailored to specific indexing needs.\n",
    "\n",
    "#df.loc[] employs label-based indexing, allowing you to select rows based on their index labels, which can be strings, integers, or even dates. This is particularly helpful when your DataFrame has meaningful index labels that you want to use for selection.\n",
    "\n",
    "#df.loc[0]       # Select the row with index label 0\n",
    "\n",
    "#df.iloc[] leverages integer-based indexing, enabling row selection based on their integer positions (starting from 0). This is useful when you want to select rows based on their order in the DataFrame, regardless of their index labels.\n",
    "\n",
    "#df.iloc[0]      # Select the first row (position 0)\n",
    "\n",
    "#Filtering data is done with Boolean indexing and serves as a powerful tool for filtering rows based on specific conditions. It involves creating a boolean mask (a Series of True/False values) by applying comparison operators or logical conditions to one or more columns. This mask is then used to select only the rows where the condition evaluates to True, effectively filtering the DataFrame based on your criteria. This allows you to extract subsets of data that meet specific requirements, facilitating targeted analysis.\n",
    "\n",
    "#df[df['Age'] > 25]  # Filter rows where 'Age' is greater than 25\n",
    "\n",
    "#Querying data is for more complex filtering scenarios involving multiple conditions or intricate logic. The query method offers a SQL-like syntax. This enhances readability and expressiveness, allowing you to construct queries that resemble natural language expressions, making your code more intuitive and maintainable. It's particularly beneficial when dealing with intricate filtering criteria that would be cumbersome to express using traditional boolean indexing.\n",
    "\n",
    "#df.query('Age > 25 and Name == \"Bob\"') # Filter rows based on multiple conditions\n",
    "\n",
    "#Handling missing data\n",
    "#Real-world datasets are rarely perfect; missing values, denoted as NaN, are common to find. These missing values can come from various sources, such as data entry errors, sensor malfunctions, or incomplete surveys. pandas provides robust mechanisms for identifying and addressing these missing values, ensuring the integrity of your analysis and preventing potential errors or biases that can skew your results.\n",
    "\n",
    "#df.isnull() generates a boolean DataFrame mirroring the original, where True indicates a missing value and False represents a non-missing value. This provides a comprehensive overview of the missing data landscape within your DataFrame, allowing you to quickly assess the extent of what is missing and identify columns or rows that require attention.\n",
    "\n",
    "#df['Age'].isnull() applies the same logic to a specific column, returning a boolean series highlighting missing values within that column. This allows you to focus your attention on specific variables and assess for their completeness, which is important for deciding on appropriate imputation strategies.\n",
    "\n",
    "#pandas offers a spectrum of strategies for handling missing data, each tailored to specific scenarios and analytical objectives:\n",
    "\n",
    "#df.dropna() removes rows containing any missing values, effectively shrinking the DataFrame but ensuring data completeness. This approach is suitable when missing values are relatively sparse and their removal doesn't significantly impact the representativeness of the data. However, it's important to exercise caution, as dropping rows can lead to loss of valuable information if not done judiciously.\n",
    "\n",
    "#df.fillna(0) replaces missing values with a specified value (e.g., 0), a simple imputation technique suitable for certain cases. This can be useful when you have a reasonable assumption about the likely value of missing data or when you want to avoid discarding rows altogether. However, it's important to consider the potential implications of this imputation on your analysis, as it might introduce bias or distort the underlying patterns in the data.\n",
    "\n",
    "#df['Age'].fillna(df['Age'].mean(), inplace=True) is a more sophisticated approach, imputing missing values in a column with its mean. The inplace=True argument modifies the DataFrame directly, conserving memory. This method is often preferred when missing values are assumed to be randomly distributed and you want to maintain the overall statistical properties of the data\n",
    "\n"
   ]
  },
  {
   "cell_type": "markdown",
   "id": "9zTwJAg1hXoc",
   "metadata": {
    "id": "9zTwJAg1hXoc"
   },
   "source": [
    "Data cleaning and preprocessing\n",
    "Data cleaning and preprocessing are often the first and most important steps in any data manipulation workflow. Real-world data is rarely perfect. Often, the data contains missing values, inconsistencies, outliers, and errors that can make analysis and modeling difficult. Missing values can come from various sources, such as data entry errors, sensor malfunctions, or incomplete surveys. pandas provides functions like fillna to fill missing values with specified values like the mean or median of the column. Or you can use dropna to remove rows or columns containing missing values. The choice of handling method depends on the nature of the data and the specific analysis goals.\n",
    "\n",
    "Inconsistencies may occur in various forms. These include things like different date formats, varying units of measurement. or inconsistent capitalization in the data. pandas allows you to convert data types using astype, making all values in a column the same type. Regular expressions can be employed to standardize date formats or extract specific patterns from text data, promoting uniformity and allowing  subsequent analysis.\n",
    "\n",
    "Duplicate entries can skew analysis results and lead to inaccurate conclusions. pandas' drop_duplicates function quickly identifies and removes duplicate rows based on specified columns or the entire DataFrame, providing data integrity.\n",
    "\n",
    "Outliers are extreme values that are different from the rest of the data. They can come from measurement errors, data entry mistakes, or genuine anomalies. Identifying and handling outliers is crucial to prevent them from unduly influencing statistical analysis or machine learning models. pandas provides statistical functions and visualization tools to help you with outlier detection. Various techniques, such as transformation, can be used to treat outliers appropriately.  \n",
    "\n",
    "Data reshaping and transformation\n",
    "Data reshaping and transformation involve rearranging and modifying the structure of your data to conduct analysis or meet specific requirements. The pivot_table function in pandas allows you to create pivot tables, summarizing data based on one or more index columns. This is particularly useful when you want to aggregate data across multiple dimensions, and to gain insights into relationships between different variables.\n",
    "\n",
    "The melt function unpivots a DataFrame, converting columns into rows. This can be helpful when you have data in a wide format, where each column represents a different attribute or measurement, and you want to convert it into a long format, where each row represents a single observation with multiple attributes.\n",
    "\n",
    "The stack and unstack functions are used to convert between wide and long formats. Stacking converts column labels into row labels, creating a multi-index DataFrame. Unstacking performs the reverse operation, converting row labels into column labels. These functions are useful when you need to reorganize your data to align with specific analysis or visualization requirements.\n",
    "\n",
    "Filtering and subsetting\n",
    "Filtering and subsetting involve selecting specific portions of your data based on certain conditions or criteria. pandas allows you to use boolean indexing to select rows based on conditions. You can create boolean masks using comparison operators, logical operators, and other functions, and then apply these masks to the DataFrame to filter rows that meet the specified conditions.\n",
    "\n",
    "The loc and iloc indexers give you ways to access specific rows and columns by label or position. loc is used for label-based indexing, allowing you to select rows and columns based on their index labels or column names. iloc is used for position-based indexing, enabling you to select rows and columns based on their integer positions.\n",
    "\n",
    "The query method provides a concise\\way to filter data using SQL-like syntax. You can express complex filtering conditions using familiar SQL keywords and operators, making it easier to select subsets of data that meet specific criteria.\n",
    "\n",
    "Aggregation and summarization\n",
    "Aggregation and summarization involve condensing your data by applying calculations or statistical functions to groups of rows or columns. The groupby function in pandas groups data based on one or more columns, creating a GroupBy object. You can then apply aggregation functions like sum, mean, count, min, max, and others to each group, generating summary statistics or aggregated values.\n",
    "\n",
    "pandas offers a wide range of aggregation functions to perform various calculations on grouped data. These functions can be used to calculate sums, averages, counts, minimums, maximums, standard deviations, and other statistical measures, providing valuable insights into the characteristics of your data.\n",
    "\n",
    "In addition to built-in aggregation functions, pandas allows you to define custom aggregation functions using lambda functions or user-defined functions. This flexibility enables you to perform complex calculations or apply domain-specific logic during the aggregation process.\n",
    "\n",
    "Joining and merging\n",
    "Joining and merging involve combining data from multiple DataFrames based on common columns or indices. The merge function in pandas combines DataFrames based on common columns or indices. It supports various types of joins, including inner joins, outer joins, left joins, and right joins, allowing you to control how the data is combined and which rows are included in the resulting DataFrame.\n",
    "\n",
    "The join function is similar to merge, but it combines DataFrames based on their indices. It is particularly useful when you have DataFrames with hierarchical indices or when you want to combine DataFrames based on their row labels.\n",
    "\n",
    "When joining or merging DataFrames, it's important to consider the type of join, the columns or indices used for joining, and how to handle duplicate column names or conflicting values. Careful consideration of these factors ensures that the resulting DataFrame accurately reflects the combined data and avoids unintended data loss or duplication.\n",
    "\n",
    "Advanced techniques\n",
    "Time series analysis can be used if  you're working with data that has a temporal component like stock prices, sales data, sensor readings. pandas provides specialized tools for handling time series data, including date/time indexing, resampling, and rolling window calculations. Date/time indexing allows you to efficiently access and manipulate data based on timestamps. Resampling lets you change the frequency of your time series data, for example, converting daily data to monthly data. Rolling window calculations allow you to perform calculations on a moving window of data, facilitating trend analysis and identifying patterns over time."
   ]
  },
  {
   "cell_type": "code",
   "execution_count": null,
   "id": "yUo2r4TtZGtS",
   "metadata": {
    "colab": {
     "base_uri": "https://localhost:8080/"
    },
    "executionInfo": {
     "elapsed": 92,
     "status": "ok",
     "timestamp": 1739453824191,
     "user": {
      "displayName": "Rooldy Alphonse",
      "userId": "16715067766107628705"
     },
     "user_tz": -60
    },
    "id": "yUo2r4TtZGtS",
    "outputId": "9e1556e8-9452-433e-8dfe-6d00246c22b6"
   },
   "outputs": [
    {
     "name": "stdout",
     "output_type": "stream",
     "text": [
      "Missing value counts per column:\n",
      " Name    1\n",
      "Age     1\n",
      "City    1\n",
      "dtype: int64\n",
      "\n",
      "DataFrame after dropping rows with any missing value:\n",
      "     Name   Age      City\n",
      "0  Alice  25.0  New York\n",
      "3  David  35.0     Paris\n",
      "\n",
      "DataFrame after filling missing 'Age' with mean:\n",
      "     Name   Age      City\n",
      "0  Alice  25.0  New York\n",
      "1    Bob  30.0       NaN\n",
      "2    NaN  30.0    London\n",
      "3  David  35.0     Paris\n",
      "\n",
      "DataFrame after filling missing 'Age' with median:\n",
      "     Name   Age      City\n",
      "0  Alice  25.0  New York\n",
      "1    Bob  30.0       NaN\n",
      "2    NaN  30.0    London\n",
      "3  David  35.0     Paris\n",
      "\n",
      "DataFrame with 'Age' capped at 40:\n",
      "     Name   Age      City  Age_capped\n",
      "0  Alice  25.0  New York        25.0\n",
      "1    Bob  30.0       NaN        30.0\n",
      "2    NaN   NaN    London         NaN\n",
      "3  David  35.0     Paris        35.0\n",
      "\n",
      "Data types after conversion:\n",
      " Name           object\n",
      "Age           float64\n",
      "City           object\n",
      "Age_capped    float64\n",
      "dtype: object\n",
      "\n",
      "Descriptive statistics:\n",
      "         Age  Age_capped\n",
      "count   3.0         3.0\n",
      "mean   30.0        30.0\n",
      "std     5.0         5.0\n",
      "min    25.0        25.0\n",
      "25%    27.5        27.5\n",
      "50%    30.0        30.0\n",
      "75%    32.5        32.5\n",
      "max    35.0        35.0\n",
      "\n",
      "Average Age by City:\n",
      " City\n",
      "London       NaN\n",
      "New York    25.0\n",
      "Paris       35.0\n",
      "Name: Age, dtype: float64\n"
     ]
    }
   ],
   "source": [
    "import pandas as pd\n",
    "import numpy as np\n",
    "\n",
    "# Sample DataFrame with missing values\n",
    "data = {'Name': ['Alice', 'Bob', np.nan, 'David'],\n",
    "        'Age': [25, 30, np.nan, 35],\n",
    "        'City': ['New York', np.nan, 'London', 'Paris']}\n",
    "df = pd.DataFrame(data)\n",
    "\n",
    "# 1. Identifying missing values\n",
    "print(\"Missing value counts per column:\\n\", df.isnull().sum())\n",
    "\n",
    "# 2. Removing missing values (dropna)\n",
    "df_dropped = df.dropna()\n",
    "print(\"\\nDataFrame after dropping rows with any missing value:\\n\", df_dropped)\n",
    "\n",
    "# 3. Imputing with mean (for numerical columns)\n",
    "df_filled_mean = df.fillna(df.mean(numeric_only=True))\n",
    "print(\"\\nDataFrame after filling missing 'Age' with mean:\\n\", df_filled_mean)\n",
    "\n",
    "# 3. Imputing with median (for numerical columns)\n",
    "df_filled_median = df.fillna(df.median(numeric_only=True))\n",
    "print(\"\\nDataFrame after filling missing 'Age' with median:\\n\", df_filled_median)\n",
    "\n",
    "# 4. Handling outliers (demonstration with 'Age')\n",
    "# Assuming we identify 40 as an outlier based on domain knowledge or visualization\n",
    "df['Age_capped'] = df['Age'].clip(upper=40)  # Cap values at 28\n",
    "print(\"\\nDataFrame with 'Age' capped at 40:\\n\", df)\n",
    "\n",
    "# 5. Data type conversion\n",
    "df['Age'] = pd.to_numeric(df['Age'], errors='coerce')  # Convert to numeric, handling errors\n",
    "print(\"\\nData types after conversion:\\n\", df.dtypes)\n",
    "\n",
    "# 6. Exploratory Data Analysis\n",
    "print(\"\\nDescriptive statistics:\\n\", df.describe())\n",
    "\n",
    "# Group by and aggregate\n",
    "grouped_data = df.groupby('City')['Age'].mean()\n",
    "print(\"\\nAverage Age by City:\\n\", grouped_data)"
   ]
  },
  {
   "cell_type": "markdown",
   "id": "CRWKiS5UnyuH",
   "metadata": {
    "id": "CRWKiS5UnyuH"
   },
   "source": [
    "Mastering missing data with pandas\n",
    "Missing data is an unavoidable reality in data analysis. Whether that missing data stems from incomplete surveys, sensor malfunctions, or human error, missing values can significantly impact the accuracy and reliability of your analysis. pandas gives you a large toolkit to identify, handle, and fill missing values. This toolkit is used to maintain data integrity and conduct meaningful analysis.\n",
    "\n",
    "Two of pandas' missing data handling capabilities are the isnull() and notnull() functions. These functions act as a magnifying glass, pinpointing the presence or absence of null values within your dataset. This targeted identification streamlines your data cleaning process, allowing you to focus your efforts on areas that require attention. By quickly identifying missing values, you can make informed decisions about how to handle them, ensuring that your analysis is based on reliable and complete information.\n",
    "\n",
    "Once you've identified the missing data, pandas gives you the tools to take action. The dropna() function acts as a broom, sweeping away rows or columns that contain missing values. This approach is particularly useful when you want to focus on complete data records and avoid the complexities of imputation. By removing incomplete data, you can ensure that your analysis is based on reliable information.\n",
    "\n",
    "Alternatively, if you prefer to retain all your data, the fillna() function steps in as a versatile repair tool. It allows you to fill missing values with specified values or strategies, ensuring that your dataset remains complete and suitable for analysis. For numerical data, you could fill missing values with the mean or median of the existing data, maintaining the overall distribution and preventing biases. For categorical data, you could use the most frequent category or a specific placeholder value. The fillna() function's flexibility allows you to tailor your imputation strategy to the specific characteristics of your data, ensuring that your analysis remains accurate and meaningful.\n",
    "\n",
    "For instance, imagine you're analyzing customer data for an e-commerce platform. You notice that some customers have missing information for their age or income level. Using pandas, you could employ the fillna() function to impute these missing values with the median age or income of other customers in the dataset, ensuring that your analysis is not skewed by incomplete records.\n",
    "\n",
    "Taming outliers with pandas\n",
    "Outliers, data points that significantly deviate from the norm, can distort statistical analysis and lead to inaccurate conclusions. Think of outliers as noisy distractions within data. pandas provides the tools to identify and manage these outliers, making sure that your analysis remains clear and insightful.\n",
    "\n",
    "The describe() function gives you a bird's-eye view of your dataset, offering summary statistics that can help identify potential outliers. By examining quartiles and ranges, you can spot data points that lie far outside the expected distribution, signaling potential anomalies or errors in your data. This high-level overview allows you to quickly assess the overall health of your dataset and identify areas that require further investigation.\n",
    "\n",
    "For a more precise identification of outliers, the quantile() function allows you to calculate specific quantiles of your dataset. This enables you to define thresholds based on your domain knowledge and flag any data points that fall beyond those boundaries. This systematic approach to outlier detection helps you identify data points that might skew your analysis or represent unusual events that warrant further investigation.\n",
    "\n",
    "Once you've identified the outliers, the clip() function limits the values of your dataset to a specified range. This effectively \"clips\" outliers to stop them from overly influencing your analysis. By controlling these extreme values, you ensure that your conclusions are based on the typical behavior of your data, not on exceptional cases, leading to stronger and more reliable insights.\n",
    "\n",
    "Seamless data type conversions with pandas\n",
    "Data often arrives in a variety of formats and data types, much like a collection of mismatched puzzle pieces. To fit these pieces together so you can conduct a meaningful analysis, it's important to convert them into suitable types. pandas streamlines this process with intuitive functions. These functions make data type conversions a breeze, making sure your data is ready for analysis.\n",
    "\n",
    "The astype() function acts as a universal adapter, allowing you to convert a pandas Series or DataFrame to a specified data type. This adheres to compatibility with various analytical operations and prevents errors caused by incompatible data types, saving you time and frustration. For example, you might convert a column of strings representing numerical values to a numeric data type, allowing you to perform mathematical operations on the data.\n",
    "\n",
    "For more specialized conversions, pandas offers functions like to_numeric(), to_datetime(), and to_categorical(). These functions are for specific data types, and allow you to perform calculations, time-series analysis, or categorical comparisons with ease. For instance, converting dates stored as strings to datetime objects using to_datetime() unlocks time-based analysis capabilities within pandas, such as calculating time intervals or resampling data at different frequencies.\n",
    "\n",
    "Consider a scenario where you're working with a dataset containing dates stored as strings in various formats. pandas' to_datetime() function handles these inconsistencies, parsing the strings and converting them into a standardized datetime format, allowing you to easily perform time-based analysis.\n",
    "\n",
    "Unveiling insights through exploratory data analysis\n",
    "Exploratory Data Analysis (EDA) is the process of summarizing and visualizing data to gain insights, identify patterns, and formulate hypotheses. It's like going on a treasure hunt, where pandas provides the treasure map and tools to navigate the landscape of your data.\n",
    "\n",
    "The head() and tail() functions offer a quick look into the beginning and end of your dataset, providing a sense of its structure and content within. This initial exploration helps you familiarize yourself with the data and identify any potential issues or areas of interest. This sets the stage for further analysis.\n",
    "\n",
    "The describe() function generates summary statistics, offering a condensed overview of your data's central tendency, dispersion, and distribution. This gives you a quantitative understanding of your data and highlights key characteristics and potential outliers. These statistics can guide your subsequent analysis, helping you choose appropriate statistical tests or identify areas that require further investigation. For example, a large standard deviation might indicate high variability in your data, prompting you to explore the underlying causes.\n",
    "\n",
    "The info() function in pandas is used to get a concise summary of a DataFrame, including the column names, their data types (non-null values), and the number of non-null values in each column. It is similar in some ways to  describe(), but it is focused more on the metadata. This provides a quick overview of the structure and content of the DataFrame, allowing you to identify potential issues or areas of interest. By examining the data types, you can ensure compatibility with various analytical operations and prevent errors caused by incompatible data. Additionally, checking for null values using `info()` can help you decide how to handle missing data, which is crucial for accurate and reliable analysis.\n",
    "\n",
    "The groupby() function acts as a powerful sorting tool, grouping your data based on specified criteria. This lets you perform aggregate calculations and comparisons across different groups, uncovering trends and relationships that might not be apparent in the raw data. For instance, you could group sales data by product category and calculate the average sales for each category, revealing which products are performing well and which ones might need attention. This powerful function allows you to slice and dice your data in countless ways, revealing valuable insights that can inform your decision-making.\n",
    "\n",
    "Finally, the plot() function, in conjunction with Matplotlib, allows you to create a wide range of visualizations, such as histograms, scatter plots, and line charts. These visualizations bring your data to life, making it easier to grasp complex patterns and communicate your findings effectively. They transform raw data into actionable insights, empowering you to make informed decisions. A well-crafted visualization can tell a story more powerfully than a thousand words, revealing trends, outliers, and relationships that might otherwise go unnoticed.\n"
   ]
  },
  {
   "cell_type": "code",
   "execution_count": null,
   "id": "PsYUklQHhvuX",
   "metadata": {
    "colab": {
     "base_uri": "https://localhost:8080/",
     "height": 35
    },
    "executionInfo": {
     "elapsed": 46,
     "status": "ok",
     "timestamp": 1739457054992,
     "user": {
      "displayName": "Rooldy Alphonse",
      "userId": "16715067766107628705"
     },
     "user_tz": -60
    },
    "id": "PsYUklQHhvuX",
    "outputId": "b2e712ef-eaf6-4f06-a85f-e732ae89a45f"
   },
   "outputs": [
    {
     "data": {
      "text/plain": [
       "<Figure size 1000x600 with 0 Axes>"
      ]
     },
     "metadata": {},
     "output_type": "display_data"
    }
   ],
   "source": [
    "import matplotlib.pyplot as plt\n",
    "\n",
    "# Create a figure with a specific size\n",
    "fig = plt.figure(figsize=(10, 6))  # Width: 10 inches, Height: 6 inches"
   ]
  },
  {
   "cell_type": "code",
   "execution_count": null,
   "id": "ij48oDPpuEe7",
   "metadata": {
    "colab": {
     "base_uri": "https://localhost:8080/",
     "height": 430
    },
    "executionInfo": {
     "elapsed": 990,
     "status": "ok",
     "timestamp": 1739457075991,
     "user": {
      "displayName": "Rooldy Alphonse",
      "userId": "16715067766107628705"
     },
     "user_tz": -60
    },
    "id": "ij48oDPpuEe7",
    "outputId": "a018ca9e-633d-4b10-9aad-7a5dfa7bc839"
   },
   "outputs": [
    {
     "data": {
      "image/png": "[encoded data removed]",
      "text/plain": [
       "<Figure size 640x480 with 4 Axes>"
      ]
     },
     "metadata": {},
     "output_type": "display_data"
    }
   ],
   "source": [
    "import matplotlib.pyplot as plt\n",
    "\n",
    "# Create a figure with 2 rows and 2 columns of subplots\n",
    "fig, ax = plt.subplots(2, 2)\n",
    "\n",
    "# Access individual subplots using indexing\n",
    "ax[0, 0].plot([1, 2, 3], [4, 5, 6])  # Top-left subplot\n",
    "ax[0, 1].bar(['A', 'B', 'C'], [7, 8, 9])  # Top-right subplot\n",
    "ax[1, 0].scatter([10, 20, 30], [11, 12, 13])  # Bottom-left subplot\n",
    "ax[1, 1].hist([1, 1, 2, 3, 3, 3])  # Bottom-right subplot\n",
    "\n",
    "plt.show()"
   ]
  },
  {
   "cell_type": "code",
   "execution_count": null,
   "id": "zZC1s31MuJYi",
   "metadata": {
    "colab": {
     "base_uri": "https://localhost:8080/",
     "height": 472
    },
    "executionInfo": {
     "elapsed": 359,
     "status": "ok",
     "timestamp": 1739457092359,
     "user": {
      "displayName": "Rooldy Alphonse",
      "userId": "16715067766107628705"
     },
     "user_tz": -60
    },
    "id": "zZC1s31MuJYi",
    "outputId": "1e0cb8ed-c1bb-4d64-ce92-bbef2d27d5bb"
   },
   "outputs": [
    {
     "data": {
      "image/png": "[encoded data removed]",
      "text/plain": [
       "<Figure size 640x480 with 1 Axes>"
      ]
     },
     "metadata": {},
     "output_type": "display_data"
    }
   ],
   "source": [
    "import matplotlib.pyplot as plt\n",
    "\n",
    "x = [1, 2, 3]\n",
    "y = [4, 5, 6]\n",
    "\n",
    "plt.plot(x, y)\n",
    "plt.xlabel('X-axis Label')\n",
    "plt.ylabel('Y-axis Label')\n",
    "plt.title('Plot Title')\n",
    "plt.show()"
   ]
  },
  {
   "cell_type": "code",
   "execution_count": null,
   "id": "s0jr8OnLuNh3",
   "metadata": {
    "colab": {
     "base_uri": "https://localhost:8080/",
     "height": 438
    },
    "executionInfo": {
     "elapsed": 349,
     "status": "ok",
     "timestamp": 1739457107004,
     "user": {
      "displayName": "Rooldy Alphonse",
      "userId": "16715067766107628705"
     },
     "user_tz": -60
    },
    "id": "s0jr8OnLuNh3",
    "outputId": "16eb4292-521e-42b8-bf94-55f2ad41ca69"
   },
   "outputs": [
    {
     "data": {
      "image/png": "[encoded data removed]",
      "text/plain": [
       "<Figure size 640x480 with 1 Axes>"
      ]
     },
     "metadata": {},
     "output_type": "display_data"
    }
   ],
   "source": [
    "import matplotlib.pyplot as plt\n",
    "import numpy as np\n",
    "\n",
    "x = np.linspace(0, 10, 100)\n",
    "y = np.sin(x)\n",
    "\n",
    "plt.plot(x, y)\n",
    "\n",
    "# Set tick locations and labels for the x-axis\n",
    "plt.xticks(np.arange(0, 11, 2), ['0', '2', '4', '6', '8', '10'])\n",
    "\n",
    "# Rotate x-axis labels for better readability\n",
    "plt.xticks(rotation=45)\n",
    "\n",
    "plt.show()"
   ]
  },
  {
   "cell_type": "code",
   "execution_count": null,
   "id": "75DSAOEduRHT",
   "metadata": {
    "colab": {
     "base_uri": "https://localhost:8080/",
     "height": 430
    },
    "executionInfo": {
     "elapsed": 409,
     "status": "ok",
     "timestamp": 1739457122157,
     "user": {
      "displayName": "Rooldy Alphonse",
      "userId": "16715067766107628705"
     },
     "user_tz": -60
    },
    "id": "75DSAOEduRHT",
    "outputId": "ac6fcab1-5fd8-43bb-fd00-61292b65892d"
   },
   "outputs": [
    {
     "data": {
      "image/png": "[encoded data removed]",
      "text/plain": [
       "<Figure size 640x480 with 1 Axes>"
      ]
     },
     "metadata": {},
     "output_type": "display_data"
    }
   ],
   "source": [
    "import matplotlib.pyplot as plt\n",
    "\n",
    "x = [1, 2, 3]\n",
    "y1 = [4, 5, 6]\n",
    "y2 = [7, 8, 9]\n",
    "\n",
    "plt.plot(x, y1, label='Data Series 1')\n",
    "plt.plot(x, y2, label='Data Series 2')\n",
    "\n",
    "plt.legend()  # Automatically creates a legend based on labels\n",
    "plt.show()"
   ]
  },
  {
   "cell_type": "code",
   "execution_count": null,
   "id": "5xch9h1fuUxv",
   "metadata": {
    "colab": {
     "base_uri": "https://localhost:8080/",
     "height": 472
    },
    "executionInfo": {
     "elapsed": 384,
     "status": "ok",
     "timestamp": 1739457142676,
     "user": {
      "displayName": "Rooldy Alphonse",
      "userId": "16715067766107628705"
     },
     "user_tz": -60
    },
    "id": "5xch9h1fuUxv",
    "outputId": "7a28c3bf-6643-4246-e1bf-a213efd671fe"
   },
   "outputs": [
    {
     "data": {
      "image/png": "[encoded data removed]",
      "text/plain": [
       "<Figure size 640x480 with 1 Axes>"
      ]
     },
     "metadata": {},
     "output_type": "display_data"
    }
   ],
   "source": [
    "import matplotlib.pyplot as plt\n",
    "import numpy as np\n",
    "\n",
    "x = np.linspace(0, 10, 100)  # Generate 100 evenly spaced points from 0 to 10\n",
    "y = np.sin(x)  # Compute the sine of each x value\n",
    "\n",
    "plt.plot(x, y)\n",
    "plt.xlabel('Time (days)')  # Label the x-axis\n",
    "plt.ylabel('Stock Price ($)')  # Label the y-axis\n",
    "plt.title('Stock Price Trend')  # Add a title\n",
    "plt.show()  # Display the plot"
   ]
  },
  {
   "cell_type": "code",
   "execution_count": null,
   "id": "Jgm2XgeauZ0h",
   "metadata": {
    "colab": {
     "base_uri": "https://localhost:8080/",
     "height": 472
    },
    "executionInfo": {
     "elapsed": 337,
     "status": "ok",
     "timestamp": 1739457156301,
     "user": {
      "displayName": "Rooldy Alphonse",
      "userId": "16715067766107628705"
     },
     "user_tz": -60
    },
    "id": "Jgm2XgeauZ0h",
    "outputId": "9948588e-b626-4c6a-84b6-66b8b517f5af"
   },
   "outputs": [
    {
     "data": {
      "image/png": "[encoded data removed]",
      "text/plain": [
       "<Figure size 640x480 with 1 Axes>"
      ]
     },
     "metadata": {},
     "output_type": "display_data"
    }
   ],
   "source": [
    "import matplotlib.pyplot as plt\n",
    "import numpy as np\n",
    "\n",
    "ages = np.linspace(20, 60, 100)  # Ages ranging from 20 to 60\n",
    "income = ages * 500 + np.random.normal(0, 10000, 100)  # Simulating a positive correlation with some noise\n",
    "\n",
    "plt.scatter(ages, income)\n",
    "plt.xlabel('Age')\n",
    "plt.ylabel('Income')\n",
    "plt.title('Age vs. Income')\n",
    "plt.show()"
   ]
  },
  {
   "cell_type": "code",
   "execution_count": null,
   "id": "MXa2VX-IudKS",
   "metadata": {
    "colab": {
     "base_uri": "https://localhost:8080/",
     "height": 472
    },
    "executionInfo": {
     "elapsed": 186,
     "status": "ok",
     "timestamp": 1739457179276,
     "user": {
      "displayName": "Rooldy Alphonse",
      "userId": "16715067766107628705"
     },
     "user_tz": -60
    },
    "id": "MXa2VX-IudKS",
    "outputId": "d69c5eed-db6a-48de-f000-82e70122acb5"
   },
   "outputs": [
    {
     "data": {
      "image/png": "[encoded data removed]",
      "text/plain": [
       "<Figure size 640x480 with 1 Axes>"
      ]
     },
     "metadata": {},
     "output_type": "display_data"
    }
   ],
   "source": [
    "import matplotlib.pyplot as plt\n",
    "\n",
    "categories = ['Product A', 'Product B', 'Product C', 'Product D']\n",
    "values = [1500, 2300, 1200, 3000]\n",
    "\n",
    "plt.bar(categories, values)\n",
    "plt.xlabel('Products')\n",
    "plt.ylabel('Sales')\n",
    "plt.title('Product Sales Comparison')\n",
    "plt.show()"
   ]
  },
  {
   "cell_type": "code",
   "execution_count": null,
   "id": "C8XPdHSmuiz1",
   "metadata": {
    "colab": {
     "base_uri": "https://localhost:8080/",
     "height": 472
    },
    "executionInfo": {
     "elapsed": 351,
     "status": "ok",
     "timestamp": 1739457192885,
     "user": {
      "displayName": "Rooldy Alphonse",
      "userId": "16715067766107628705"
     },
     "user_tz": -60
    },
    "id": "C8XPdHSmuiz1",
    "outputId": "eadd9ef7-5138-4f5b-bffb-645406825049"
   },
   "outputs": [
    {
     "data": {
      "image/png": "[encoded data removed]",
      "text/plain": [
       "<Figure size 640x480 with 1 Axes>"
      ]
     },
     "metadata": {},
     "output_type": "display_data"
    }
   ],
   "source": [
    "import matplotlib.pyplot as plt\n",
    "import numpy as np\n",
    "\n",
    "data = np.random.randn(1000)  # Generate 1000 random numbers from a standard normal distribution\n",
    "\n",
    "plt.hist(data, bins=30)  # Create a histogram with 30 bins\n",
    "plt.xlabel('Exam Score')\n",
    "plt.ylabel('Number of Students')\n",
    "plt.title('Distribution of Exam Scores')\n",
    "plt.show()"
   ]
  },
  {
   "cell_type": "code",
   "execution_count": null,
   "id": "2KQxDIO_umGJ",
   "metadata": {
    "colab": {
     "base_uri": "https://localhost:8080/",
     "height": 428
    },
    "executionInfo": {
     "elapsed": 262,
     "status": "ok",
     "timestamp": 1739457205969,
     "user": {
      "displayName": "Rooldy Alphonse",
      "userId": "16715067766107628705"
     },
     "user_tz": -60
    },
    "id": "2KQxDIO_umGJ",
    "outputId": "1ebdd7ca-371c-40cd-f2b3-f93b63d904b5"
   },
   "outputs": [
    {
     "data": {
      "image/png": "[encoded data removed]",
      "text/plain": [
       "<Figure size 640x480 with 1 Axes>"
      ]
     },
     "metadata": {},
     "output_type": "display_data"
    }
   ],
   "source": [
    "import matplotlib.pyplot as plt\n",
    "\n",
    "labels = ['Windows', 'macOS', 'Linux', 'Other']\n",
    "sizes = [70, 20, 5, 5]\n",
    "\n",
    "plt.pie(sizes, labels=labels, autopct='%1.1f%%')  # Display percentages on each slice\n",
    "plt.title('Market Share of Operating Systems')\n",
    "plt.show()"
   ]
  },
  {
   "cell_type": "code",
   "execution_count": null,
   "id": "BwNMp_M4upTu",
   "metadata": {
    "colab": {
     "base_uri": "https://localhost:8080/"
    },
    "executionInfo": {
     "elapsed": 9808,
     "status": "ok",
     "timestamp": 1739485416487,
     "user": {
      "displayName": "Rooldy Alphonse",
      "userId": "16715067766107628705"
     },
     "user_tz": -60
    },
    "id": "BwNMp_M4upTu",
    "outputId": "5a5c5973-8e18-4dc6-e5ad-808b7b4b8a86"
   },
   "outputs": [
    {
     "name": "stdout",
     "output_type": "stream",
     "text": [
      "Requirement already satisfied: pandas in /usr/local/lib/python3.11/dist-packages (2.2.2)\n",
      "Requirement already satisfied: matplotlib in /usr/local/lib/python3.11/dist-packages (3.10.0)\n",
      "Collecting plotly.express\n",
      "  Downloading plotly_express-0.4.1-py2.py3-none-any.whl.metadata (1.7 kB)\n",
      "Requirement already satisfied: numpy>=1.23.2 in /usr/local/lib/python3.11/dist-packages (from pandas) (1.26.4)\n",
      "Requirement already satisfied: python-dateutil>=2.8.2 in /usr/local/lib/python3.11/dist-packages (from pandas) (2.8.2)\n",
      "Requirement already satisfied: pytz>=2020.1 in /usr/local/lib/python3.11/dist-packages (from pandas) (2025.1)\n",
      "Requirement already satisfied: tzdata>=2022.7 in /usr/local/lib/python3.11/dist-packages (from pandas) (2025.1)\n",
      "Requirement already satisfied: contourpy>=1.0.1 in /usr/local/lib/python3.11/dist-packages (from matplotlib) (1.3.1)\n",
      "Requirement already satisfied: cycler>=0.10 in /usr/local/lib/python3.11/dist-packages (from matplotlib) (0.12.1)\n",
      "Requirement already satisfied: fonttools>=4.22.0 in /usr/local/lib/python3.11/dist-packages (from matplotlib) (4.55.8)\n",
      "Requirement already satisfied: kiwisolver>=1.3.1 in /usr/local/lib/python3.11/dist-packages (from matplotlib) (1.4.8)\n",
      "Requirement already satisfied: packaging>=20.0 in /usr/local/lib/python3.11/dist-packages (from matplotlib) (24.2)\n",
      "Requirement already satisfied: pillow>=8 in /usr/local/lib/python3.11/dist-packages (from matplotlib) (11.1.0)\n",
      "Requirement already satisfied: pyparsing>=2.3.1 in /usr/local/lib/python3.11/dist-packages (from matplotlib) (3.2.1)\n",
      "Requirement already satisfied: plotly>=4.1.0 in /usr/local/lib/python3.11/dist-packages (from plotly.express) (5.24.1)\n",
      "Requirement already satisfied: statsmodels>=0.9.0 in /usr/local/lib/python3.11/dist-packages (from plotly.express) (0.14.4)\n",
      "Requirement already satisfied: scipy>=0.18 in /usr/local/lib/python3.11/dist-packages (from plotly.express) (1.13.1)\n",
      "Requirement already satisfied: patsy>=0.5 in /usr/local/lib/python3.11/dist-packages (from plotly.express) (1.0.1)\n",
      "Requirement already satisfied: tenacity>=6.2.0 in /usr/local/lib/python3.11/dist-packages (from plotly>=4.1.0->plotly.express) (9.0.0)\n",
      "Requirement already satisfied: six>=1.5 in /usr/local/lib/python3.11/dist-packages (from python-dateutil>=2.8.2->pandas) (1.17.0)\n",
      "Downloading plotly_express-0.4.1-py2.py3-none-any.whl (2.9 kB)\n",
      "Installing collected packages: plotly.express\n",
      "Successfully installed plotly.express-0.4.1\n"
     ]
    }
   ],
   "source": [
    "!pip install pandas matplotlib plotly.express"
   ]
  },
  {
   "cell_type": "code",
   "execution_count": null,
   "id": "tKzijhEhaKiT",
   "metadata": {
    "colab": {
     "base_uri": "https://localhost:8080/",
     "height": 382
    },
    "executionInfo": {
     "elapsed": 1695,
     "status": "error",
     "timestamp": 1739485427049,
     "user": {
      "displayName": "Rooldy Alphonse",
      "userId": "16715067766107628705"
     },
     "user_tz": -60
    },
    "id": "tKzijhEhaKiT",
    "outputId": "a71a1cb9-2c58-40f4-9ee0-d35a9857e50d"
   },
   "outputs": [
    {
     "ename": "FileNotFoundError",
     "evalue": "[Errno 2] No such file or directory: 'music_data.csv'",
     "output_type": "error",
     "traceback": [
      "\u001b[0;31m---------------------------------------------------------------------------\u001b[0m",
      "\u001b[0;31mFileNotFoundError\u001b[0m                         Traceback (most recent call last)",
      "\u001b[0;32m<ipython-input-2-81b32aab4318>\u001b[0m in \u001b[0;36m<cell line: 0>\u001b[0;34m()\u001b[0m\n\u001b[1;32m      3\u001b[0m \u001b[0;34m\u001b[0m\u001b[0m\n\u001b[1;32m      4\u001b[0m \u001b[0;31m# Load the dataset\u001b[0m\u001b[0;34m\u001b[0m\u001b[0;34m\u001b[0m\u001b[0m\n\u001b[0;32m----> 5\u001b[0;31m \u001b[0mmusic_data\u001b[0m \u001b[0;34m=\u001b[0m \u001b[0mpd\u001b[0m\u001b[0;34m.\u001b[0m\u001b[0mread_csv\u001b[0m\u001b[0;34m(\u001b[0m\u001b[0;34m'music_data.csv'\u001b[0m\u001b[0;34m)\u001b[0m\u001b[0;34m\u001b[0m\u001b[0;34m\u001b[0m\u001b[0m\n\u001b[0m\u001b[1;32m      6\u001b[0m \u001b[0;34m\u001b[0m\u001b[0m\n\u001b[1;32m      7\u001b[0m \u001b[0;31m# Display the first 5 rows\u001b[0m\u001b[0;34m\u001b[0m\u001b[0;34m\u001b[0m\u001b[0m\n",
      "\u001b[0;32m/usr/local/lib/python3.11/dist-packages/pandas/io/parsers/readers.py\u001b[0m in \u001b[0;36mread_csv\u001b[0;34m(filepath_or_buffer, sep, delimiter, header, names, index_col, usecols, dtype, engine, converters, true_values, false_values, skipinitialspace, skiprows, skipfooter, nrows, na_values, keep_default_na, na_filter, verbose, skip_blank_lines, parse_dates, infer_datetime_format, keep_date_col, date_parser, date_format, dayfirst, cache_dates, iterator, chunksize, compression, thousands, decimal, lineterminator, quotechar, quoting, doublequote, escapechar, comment, encoding, encoding_errors, dialect, on_bad_lines, delim_whitespace, low_memory, memory_map, float_precision, storage_options, dtype_backend)\u001b[0m\n\u001b[1;32m   1024\u001b[0m     \u001b[0mkwds\u001b[0m\u001b[0;34m.\u001b[0m\u001b[0mupdate\u001b[0m\u001b[0;34m(\u001b[0m\u001b[0mkwds_defaults\u001b[0m\u001b[0;34m)\u001b[0m\u001b[0;34m\u001b[0m\u001b[0;34m\u001b[0m\u001b[0m\n\u001b[1;32m   1025\u001b[0m \u001b[0;34m\u001b[0m\u001b[0m\n\u001b[0;32m-> 1026\u001b[0;31m     \u001b[0;32mreturn\u001b[0m \u001b[0m_read\u001b[0m\u001b[0;34m(\u001b[0m\u001b[0mfilepath_or_buffer\u001b[0m\u001b[0;34m,\u001b[0m \u001b[0mkwds\u001b[0m\u001b[0;34m)\u001b[0m\u001b[0;34m\u001b[0m\u001b[0;34m\u001b[0m\u001b[0m\n\u001b[0m\u001b[1;32m   1027\u001b[0m \u001b[0;34m\u001b[0m\u001b[0m\n\u001b[1;32m   1028\u001b[0m \u001b[0;34m\u001b[0m\u001b[0m\n",
      "\u001b[0;32m/usr/local/lib/python3.11/dist-packages/pandas/io/parsers/readers.py\u001b[0m in \u001b[0;36m_read\u001b[0;34m(filepath_or_buffer, kwds)\u001b[0m\n\u001b[1;32m    618\u001b[0m \u001b[0;34m\u001b[0m\u001b[0m\n\u001b[1;32m    619\u001b[0m     \u001b[0;31m# Create the parser.\u001b[0m\u001b[0;34m\u001b[0m\u001b[0;34m\u001b[0m\u001b[0m\n\u001b[0;32m--> 620\u001b[0;31m     \u001b[0mparser\u001b[0m \u001b[0;34m=\u001b[0m \u001b[0mTextFileReader\u001b[0m\u001b[0;34m(\u001b[0m\u001b[0mfilepath_or_buffer\u001b[0m\u001b[0;34m,\u001b[0m \u001b[0;34m**\u001b[0m\u001b[0mkwds\u001b[0m\u001b[0;34m)\u001b[0m\u001b[0;34m\u001b[0m\u001b[0;34m\u001b[0m\u001b[0m\n\u001b[0m\u001b[1;32m    621\u001b[0m \u001b[0;34m\u001b[0m\u001b[0m\n\u001b[1;32m    622\u001b[0m     \u001b[0;32mif\u001b[0m \u001b[0mchunksize\u001b[0m \u001b[0;32mor\u001b[0m \u001b[0miterator\u001b[0m\u001b[0;34m:\u001b[0m\u001b[0;34m\u001b[0m\u001b[0;34m\u001b[0m\u001b[0m\n",
      "\u001b[0;32m/usr/local/lib/python3.11/dist-packages/pandas/io/parsers/readers.py\u001b[0m in \u001b[0;36m__init__\u001b[0;34m(self, f, engine, **kwds)\u001b[0m\n\u001b[1;32m   1618\u001b[0m \u001b[0;34m\u001b[0m\u001b[0m\n\u001b[1;32m   1619\u001b[0m         \u001b[0mself\u001b[0m\u001b[0;34m.\u001b[0m\u001b[0mhandles\u001b[0m\u001b[0;34m:\u001b[0m \u001b[0mIOHandles\u001b[0m \u001b[0;34m|\u001b[0m \u001b[0;32mNone\u001b[0m \u001b[0;34m=\u001b[0m \u001b[0;32mNone\u001b[0m\u001b[0;34m\u001b[0m\u001b[0;34m\u001b[0m\u001b[0m\n\u001b[0;32m-> 1620\u001b[0;31m         \u001b[0mself\u001b[0m\u001b[0;34m.\u001b[0m\u001b[0m_engine\u001b[0m \u001b[0;34m=\u001b[0m \u001b[0mself\u001b[0m\u001b[0;34m.\u001b[0m\u001b[0m_make_engine\u001b[0m\u001b[0;34m(\u001b[0m\u001b[0mf\u001b[0m\u001b[0;34m,\u001b[0m \u001b[0mself\u001b[0m\u001b[0;34m.\u001b[0m\u001b[0mengine\u001b[0m\u001b[0;34m)\u001b[0m\u001b[0;34m\u001b[0m\u001b[0;34m\u001b[0m\u001b[0m\n\u001b[0m\u001b[1;32m   1621\u001b[0m \u001b[0;34m\u001b[0m\u001b[0m\n\u001b[1;32m   1622\u001b[0m     \u001b[0;32mdef\u001b[0m \u001b[0mclose\u001b[0m\u001b[0;34m(\u001b[0m\u001b[0mself\u001b[0m\u001b[0;34m)\u001b[0m \u001b[0;34m->\u001b[0m \u001b[0;32mNone\u001b[0m\u001b[0;34m:\u001b[0m\u001b[0;34m\u001b[0m\u001b[0;34m\u001b[0m\u001b[0m\n",
      "\u001b[0;32m/usr/local/lib/python3.11/dist-packages/pandas/io/parsers/readers.py\u001b[0m in \u001b[0;36m_make_engine\u001b[0;34m(self, f, engine)\u001b[0m\n\u001b[1;32m   1878\u001b[0m                 \u001b[0;32mif\u001b[0m \u001b[0;34m\"b\"\u001b[0m \u001b[0;32mnot\u001b[0m \u001b[0;32min\u001b[0m \u001b[0mmode\u001b[0m\u001b[0;34m:\u001b[0m\u001b[0;34m\u001b[0m\u001b[0;34m\u001b[0m\u001b[0m\n\u001b[1;32m   1879\u001b[0m                     \u001b[0mmode\u001b[0m \u001b[0;34m+=\u001b[0m \u001b[0;34m\"b\"\u001b[0m\u001b[0;34m\u001b[0m\u001b[0;34m\u001b[0m\u001b[0m\n\u001b[0;32m-> 1880\u001b[0;31m             self.handles = get_handle(\n\u001b[0m\u001b[1;32m   1881\u001b[0m                 \u001b[0mf\u001b[0m\u001b[0;34m,\u001b[0m\u001b[0;34m\u001b[0m\u001b[0;34m\u001b[0m\u001b[0m\n\u001b[1;32m   1882\u001b[0m                 \u001b[0mmode\u001b[0m\u001b[0;34m,\u001b[0m\u001b[0;34m\u001b[0m\u001b[0;34m\u001b[0m\u001b[0m\n",
      "\u001b[0;32m/usr/local/lib/python3.11/dist-packages/pandas/io/common.py\u001b[0m in \u001b[0;36mget_handle\u001b[0;34m(path_or_buf, mode, encoding, compression, memory_map, is_text, errors, storage_options)\u001b[0m\n\u001b[1;32m    871\u001b[0m         \u001b[0;32mif\u001b[0m \u001b[0mioargs\u001b[0m\u001b[0;34m.\u001b[0m\u001b[0mencoding\u001b[0m \u001b[0;32mand\u001b[0m \u001b[0;34m\"b\"\u001b[0m \u001b[0;32mnot\u001b[0m \u001b[0;32min\u001b[0m \u001b[0mioargs\u001b[0m\u001b[0;34m.\u001b[0m\u001b[0mmode\u001b[0m\u001b[0;34m:\u001b[0m\u001b[0;34m\u001b[0m\u001b[0;34m\u001b[0m\u001b[0m\n\u001b[1;32m    872\u001b[0m             \u001b[0;31m# Encoding\u001b[0m\u001b[0;34m\u001b[0m\u001b[0;34m\u001b[0m\u001b[0m\n\u001b[0;32m--> 873\u001b[0;31m             handle = open(\n\u001b[0m\u001b[1;32m    874\u001b[0m                 \u001b[0mhandle\u001b[0m\u001b[0;34m,\u001b[0m\u001b[0;34m\u001b[0m\u001b[0;34m\u001b[0m\u001b[0m\n\u001b[1;32m    875\u001b[0m                 \u001b[0mioargs\u001b[0m\u001b[0;34m.\u001b[0m\u001b[0mmode\u001b[0m\u001b[0;34m,\u001b[0m\u001b[0;34m\u001b[0m\u001b[0;34m\u001b[0m\u001b[0m\n",
      "\u001b[0;31mFileNotFoundError\u001b[0m: [Errno 2] No such file or directory: 'music_data.csv'"
     ]
    }
   ],
   "source": [
    "import pandas as pd\n",
    "import matplotlib.pyplot as plt\n",
    "\n",
    "# Load the dataset\n",
    "music_data = pd.read_csv('music_data.csv')\n",
    "\n",
    "# Display the first 5 rows\n",
    "print(\"First 5 rows of the dataset:\")\n",
    "print(music_data.head())\n",
    "\n",
    "# Get information about the columns (data types and non-null values)\n",
    "print(\"\\nColumn information:\")\n",
    "print(music_data.info())"
   ]
  },
  {
   "cell_type": "code",
   "execution_count": null,
   "id": "a_FPkaV6aS3v",
   "metadata": {
    "id": "a_FPkaV6aS3v"
   },
   "outputs": [],
   "source": [
    "# Count the occurrences of each unique value in the `genre` column\n",
    "genre_counts = music_data['genre'].value_counts()\n",
    "\n",
    "# Sort the genres by frequency in descending order and select the top 10 genres\n",
    "top_10_genres = genre_counts.head(10)\n",
    "\n",
    "# Create a bar chart to display the top 10 genres by frequency\n",
    "plt.figure(figsize=(10, 6))\n",
    "top_10_genres.plot(kind='bar')\n",
    "\n",
    "# Add title and labels\n",
    "plt.title('Top 10 Genres by Frequency')\n",
    "plt.xlabel('Genre')\n",
    "plt.ylabel('Number of Songs')\n",
    "\n",
    "# Display the plot using plt.show()\n",
    "plt.show()"
   ]
  },
  {
   "cell_type": "code",
   "execution_count": null,
   "id": "CUZggdg_aYaq",
   "metadata": {
    "id": "CUZggdg_aYaq"
   },
   "outputs": [],
   "source": [
    "# Extract the duration_seconds column\n",
    "duration_seconds = music_data['duration_seconds']\n",
    "\n",
    "# Create a histogram to display the distribution of `duration_seconds`\n",
    "plt.figure(figsize = (8,5))\n",
    "plt.hist(duration_seconds, bins=20, color='skyblue', edgecolor='black')\n",
    "\n",
    "# Add title and labels\n",
    "plt.title('Distribution of Song Durations')\n",
    "plt.xlabel('Duration (seconds)')\n",
    "plt.ylabel('Frequency')\n",
    "\n",
    "# Display the plot using plt.show()\n",
    "plt.show()"
   ]
  },
  {
   "cell_type": "code",
   "execution_count": null,
   "id": "OqXmODFUab37",
   "metadata": {
    "id": "OqXmODFUab37"
   },
   "outputs": [],
   "source": [
    "# Extract the popularity column\n",
    "popularity = music_data['popularity']\n",
    "\n",
    "# Create a histogram to display the distribution of popularity\n",
    "plt.figure(figsize=(8, 5))  # Set the figure size for better readability\n",
    "\n",
    "# Plot the histogram with customized bins and colors\n",
    "plt.hist(popularity, bins=10, color='green', edgecolor='black')\n",
    "\n",
    "# Add title and labels\n",
    "plt.title('Distribution of Song Popularity')\n",
    "plt.xlabel('Popularity')\n",
    "plt.ylabel('Frequency')\n",
    "\n",
    "# Display the plot using plt.show()\n",
    "plt.show()"
   ]
  },
  {
   "cell_type": "code",
   "execution_count": null,
   "id": "lArWaOKdafRD",
   "metadata": {
    "id": "lArWaOKdafRD"
   },
   "outputs": [],
   "source": [
    "import plotly.express as px\n",
    "\n",
    "# Create a new dataframe numeric_features containing only the\n",
    "# numeric columns we want to analyze\n",
    "numeric_features = music_data[['tempo', 'energy', 'danceability',\n",
    "                               'valence', 'acousticness', 'popularity']]\n",
    "\n",
    "# Compute the correlation matrix\n",
    "correlation_matrix = numeric_features.corr()\n",
    "\n",
    "# Create and display a heatmap using Plotly\n",
    "plt = px.imshow(correlation_matrix,\n",
    "                x=correlation_matrix.columns,\n",
    "                y=correlation_matrix.columns,\n",
    "                color_continuous_scale=\"RdBu\",  # Use a built-in Plotly colorscale\n",
    "                text_auto=\".2f\",\n",
    "                title=\"Correlation Matrix of Music Features\"\n",
    "               )\n",
    "\n",
    "plt.show()"
   ]
  },
  {
   "cell_type": "code",
   "execution_count": null,
   "id": "ljJ2mELXaioI",
   "metadata": {
    "id": "ljJ2mELXaioI"
   },
   "outputs": [],
   "source": [
    "import plotly.express as px\n",
    "\n",
    "plt = px.violin(music_data,\n",
    "                x='genre',\n",
    "                y='popularity',\n",
    "                box=True,\n",
    "                title=\"Popularity Distribution Across Genres\")\n",
    "\n",
    "plt.show()"
   ]
  },
  {
   "cell_type": "code",
   "execution_count": null,
   "id": "yLFUx9ztamFw",
   "metadata": {
    "id": "yLFUx9ztamFw"
   },
   "outputs": [],
   "source": [
    "from sklearn.datasets import load_iris\n",
    "from sklearn.tree import DecisionTreeClassifier\n",
    "from sklearn.model_selection import train_test_split\n",
    "from sklearn.metrics import accuracy_score"
   ]
  },
  {
   "cell_type": "code",
   "execution_count": null,
   "id": "wgLyqSGp5f-_",
   "metadata": {
    "id": "wgLyqSGp5f-_"
   },
   "outputs": [],
   "source": [
    "# Load the Iris dataset\n",
    "iris = load_iris()\n",
    "x = iris.data\n",
    "y = iris.target"
   ]
  },
  {
   "cell_type": "code",
   "execution_count": null,
   "id": "7ADk58Wr5oK0",
   "metadata": {
    "id": "7ADk58Wr5oK0"
   },
   "outputs": [],
   "source": [
    "# Split the data into training and testing sets\n",
    "x_train, x_test, y_train, y_test = train_test_split(x, y, test_size=0.2, random_state=42)"
   ]
  },
  {
   "cell_type": "code",
   "execution_count": null,
   "id": "3LzrGpiH5p0i",
   "metadata": {
    "id": "3LzrGpiH5p0i"
   },
   "outputs": [],
   "source": [
    "# Create a decision tree classifier\n",
    "clf = DecisionTreeClassifier()\n",
    "\n",
    "# Train the classifier\n",
    "clf.fit(x_train, y_train)\n",
    "\n",
    "# Make predictions on the test set\n",
    "y_pred = clf.predict(x_test)"
   ]
  },
  {
   "cell_type": "code",
   "execution_count": null,
   "id": "mTvD4t3b5tKo",
   "metadata": {
    "id": "mTvD4t3b5tKo"
   },
   "outputs": [],
   "source": [
    "# Evaluate the model's accuracy\n",
    "accuracy = accuracy_score(y_test, y_pred)\n",
    "print(\"Accuracy:\", accuracy)"
   ]
  },
  {
   "cell_type": "code",
   "execution_count": null,
   "id": "C4qy0Krz5v3V",
   "metadata": {
    "id": "C4qy0Krz5v3V"
   },
   "outputs": [],
   "source": [
    "import pandas as pd\n",
    "df = pd.read_csv(\"house_prices.csv\")"
   ]
  },
  {
   "cell_type": "code",
   "execution_count": null,
   "id": "ntnG7sGt8ehU",
   "metadata": {
    "id": "ntnG7sGt8ehU"
   },
   "outputs": [],
   "source": [
    "# Display the first 5 rows of the dataframe\n",
    "df.head()"
   ]
  },
  {
   "cell_type": "code",
   "execution_count": null,
   "id": "xApNhfhp8hWg",
   "metadata": {
    "id": "xApNhfhp8hWg"
   },
   "outputs": [],
   "source": [
    "# Display column names and data types\n",
    "df.info()"
   ]
  },
  {
   "cell_type": "code",
   "execution_count": null,
   "id": "8hhUEuhf8keD",
   "metadata": {
    "id": "8hhUEuhf8keD"
   },
   "outputs": [],
   "source": [
    "# Summary statistics of numerical columns\n",
    "df.describe()\n",
    "\n",
    "# Observe data types of df\n",
    "df.dtypes"
   ]
  },
  {
   "cell_type": "code",
   "execution_count": null,
   "id": "4ER4BYsb8n6g",
   "metadata": {
    "id": "4ER4BYsb8n6g"
   },
   "outputs": [],
   "source": [
    "#Show where and how many missing values are in data set\n",
    "print(\"Valeurs manquantes avant traitement :\\n\", df.isnull().sum())"
   ]
  },
  {
   "cell_type": "code",
   "execution_count": null,
   "id": "DjIIJCXJ8ruQ",
   "metadata": {
    "id": "DjIIJCXJ8ruQ"
   },
   "outputs": [],
   "source": [
    "# Fill missing values in “condition” with median\n",
    "df[\"condition\"].fillna(df[\"condition\"].median(), inplace=True)\n",
    "\n",
    "# Show dataframe with filled values in “condition”\n",
    "print(df)"
   ]
  },
  {
   "cell_type": "code",
   "execution_count": null,
   "id": "AFbhgo8C8u6c",
   "metadata": {
    "id": "AFbhgo8C8u6c"
   },
   "outputs": [],
   "source": [
    "# Select relevant features and target variable\n",
    "# Sélectionner les caractéristiques pertinentes et la variable cible\n",
    "features = ['sqft_living', 'bedrooms', 'bathrooms', 'condition', 'floors']\n",
    "target = 'price'\n",
    "\n",
    "# Créer un DataFrame avec les caractéristiques et la cible\n",
    "df_selected = df[features + [target]]\n",
    "\n",
    "# Afficher le DataFrame sélectionné\n",
    "print(df_selected.head())"
   ]
  },
  {
   "cell_type": "code",
   "execution_count": null,
   "id": "2_1Irxn28yQW",
   "metadata": {
    "id": "2_1Irxn28yQW"
   },
   "outputs": [],
   "source": [
    "# One-hot encoding pour la caractéristique 'condition'\n",
    "df_encoded = pd.get_dummies(df_selected, columns=['condition'], drop_first=True)\n",
    "\n",
    "# Afficher le DataFrame après l'encodage\n",
    "print(df_encoded.head())"
   ]
  },
  {
   "cell_type": "code",
   "execution_count": null,
   "id": "f25XrDwn82nq",
   "metadata": {
    "id": "f25XrDwn82nq"
   },
   "outputs": [],
   "source": [
    "from sklearn.model_selection import train_test_split\n",
    "\n",
    "# Diviser les données (80% entraînement, 20% test)\n",
    "X = df_encoded.drop(columns=[target])\n",
    "y = df_encoded[target]\n",
    "\n",
    "# Splitter les données avec random_state pour assurer la reproductibilité\n",
    "X_train, X_test, y_train, y_test = train_test_split(X, y, test_size=0.2, random_state=42)\n",
    "\n",
    "# Afficher les dimensions des ensembles d'entraînement et de test\n",
    "print(f\"Train features: {X_train.shape}, Test features: {X_test.shape}\")\n"
   ]
  },
  {
   "cell_type": "code",
   "execution_count": null,
   "id": "imycmH0o86MA",
   "metadata": {
    "id": "imycmH0o86MA"
   },
   "outputs": [],
   "source": [
    "from sklearn.linear_model import LinearRegression"
   ]
  },
  {
   "cell_type": "code",
   "execution_count": null,
   "id": "9IhWFmt488-R",
   "metadata": {
    "id": "9IhWFmt488-R"
   },
   "outputs": [],
   "source": [
    "# Create an instance of the LinearRegression model\n",
    "model = LinearRegression()"
   ]
  },
  {
   "cell_type": "code",
   "execution_count": null,
   "id": "cr7xq-789A1p",
   "metadata": {
    "id": "cr7xq-789A1p"
   },
   "outputs": [],
   "source": [
    "# Fit the model\n",
    "model.fit(X_train, y_train)\n"
   ]
  },
  {
   "cell_type": "code",
   "execution_count": null,
   "id": "4FjJ_3V19D9r",
   "metadata": {
    "id": "4FjJ_3V19D9r"
   },
   "outputs": [],
   "source": [
    "# Make predictions on the test set\n",
    "\n",
    "y_pred = model.predict(X_test)"
   ]
  },
  {
   "cell_type": "code",
   "execution_count": null,
   "id": "r5bAcclh9G-z",
   "metadata": {
    "id": "r5bAcclh9G-z"
   },
   "outputs": [],
   "source": [
    "from sklearn.metrics import mean_squared_error, r2_score\n",
    "\n",
    "# Calculer MSE et R-squared\n",
    "mse = mean_squared_error(y_test, y_pred)\n",
    "r_squared = r2_score(y_test, y_pred)"
   ]
  },
  {
   "cell_type": "code",
   "execution_count": null,
   "id": "d03QfKY_9KCr",
   "metadata": {
    "id": "d03QfKY_9KCr"
   },
   "outputs": [],
   "source": [
    "# Print to check results\n",
    "print(f\"Mean Squared Error (MSE): {mse}\")\n",
    "print(f\"R-squared: {r_squared}\")\n"
   ]
  },
  {
   "cell_type": "code",
   "execution_count": null,
   "id": "sEA3TDYg9NNe",
   "metadata": {
    "id": "sEA3TDYg9NNe"
   },
   "outputs": [],
   "source": [
    "from sklearn.tree import DecisionTreeRegressor\n",
    "\n",
    "# Créer et entraîner un modèle DecisionTreeRegressor\n",
    "tree_model = DecisionTreeRegressor(random_state=42)\n",
    "tree_model.fit(X_train, y_train)\n",
    "\n",
    "# Faire des prédictions\n",
    "tree_y_pred = tree_model.predict(X_test)\n",
    "\n",
    "# Évaluer le modèle\n",
    "tree_mse = mean_squared_error(y_test, tree_y_pred)\n",
    "tree_r2 = r2_score(y_test, tree_y_pred)\n",
    "\n",
    "# Afficher les résultats\n",
    "print(f\"DecisionTreeRegressor Mean Squared Error (MSE): {tree_mse}\")\n",
    "print(f\"DecisionTreeRegressor R-squared: {tree_r2}\")"
   ]
  },
  {
   "cell_type": "code",
   "execution_count": null,
   "id": "uzzSMDO89QgO",
   "metadata": {
    "id": "uzzSMDO89QgO"
   },
   "outputs": [],
   "source": [
    "from sklearn.ensemble import RandomForestRegressor\n",
    "\n",
    "# Créer et entraîner un modèle RandomForestRegressor\n",
    "forest_model = RandomForestRegressor(random_state=42)\n",
    "forest_model.fit(X_train, y_train)\n",
    "\n",
    "# Faire des prédictions\n",
    "forest_y_pred = forest_model.predict(X_test)\n",
    "\n",
    "# Évaluer le modèle\n",
    "forest_mse = mean_squared_error(y_test, forest_y_pred)\n",
    "forest_r2 = r2_score(y_test, forest_y_pred)\n",
    "\n",
    "# Afficher les résultats\n",
    "print(f\"RandomForestRegressor Mean Squared Error (MSE): {forest_mse}\")\n",
    "print(f\"RandomForestRegressor R-squared: {forest_r2}\")\n"
   ]
  },
  {
   "cell_type": "markdown",
   "id": "bMdGsGFsDibp",
   "metadata": {
    "id": "bMdGsGFsDibp"
   },
   "source": [
    "Open the folder, which contains the following files:\n",
    "\n",
    "a Jupyter Notebook file named “Project_Synthetic Data Generation.ipynb”.\n",
    "\n",
    "a Comma-separated value (CSV) dataset named “diabetes.csv”.\n",
    "\n",
    "Step 1: Importing libraries\n",
    "\n",
    "Set the stage for your analysis by importing all necessary libraries. The code to import the required libraries (pandas, Matplotlib, scikit-learn components, and imbalanced-learn's SMOTE) is already provided for you.\n",
    "\n",
    "Run the cell.\n",
    "\n",
    "Step 2: Load the dataset into a pandas Dataframe\n",
    "\n",
    "Next, you will load the Pima Indians Diabetes Dataset into a pandas DataFrame. This real-world dataset is a valuable resource for exploring the factors associated with diabetes for female patients of Pima Indian heritage. It includes various health indicators like glucose levels, blood pressure, BMI, and more, along with the crucial 'Outcome' column indicating whether the patient has diabetes (1) or not (0).\n",
    "\n",
    "Import pandas with the alias pd.\n",
    "\n",
    "Use .read_csv() to load the 'diabetes.csv' file into a DataFrame named diabetes_data.\n",
    "\n",
    "Run the cell. There will be no output.\n",
    "\n",
    "Step 3: Check the data’s dimensions\n",
    "\n",
    "Now that you have your data loaded, you should get a quick overview of its size. The code to determine the number of rows and columns in your DataFrame using the .shape attribute has been provided for you.\n",
    "\n",
    "Run the cell to see the number of rows and columns in your data. The sample data set should have 768 rows and 9 columns.\n",
    "\n",
    "Step 4: Preview the data\n",
    "\n",
    "As noticed in the previous step, the dataset has a large number of rows. Instead of viewing all of them, you'll take a peek at your DataFrame using the head() function, which will display the first five rows, allowing you to see the column names and the types of values they contain. This initial glimpse will help you get familiar with the data's structure and content.\n",
    "\n",
    "Use the head() method to preview the diabetes_data DataFrame.\n",
    "\n",
    "Run the cell and observe the output to get familiar with your data.\n",
    "\n",
    "Step 5: Get a summary of the data\n",
    "\n",
    "In this step, you'll examine the data's structure in more detail using another function, info(). This function provides a concise summary of each column, including its name and the type of data it holds (e.g., numbers, text). This information is crucial for understanding how to work with each column effectively and spotting any potential data quality issues.\n",
    "\n",
    "Use the info() method to see detailed information about the diabetes_data DataFrame.\n",
    "\n",
    "Run the cell to see the detailed information about your DataFrame's columns.\n",
    "\n",
    "Step 6: Check for missing values\n",
    "\n",
    "Now that you have a better idea of the structure of your data, you need to check if any values are missing from your dataset. Missing values can affect your analysis and modeling, so it's crucial to identify them early on. You'll use the isnull().sum() combination to systematically check each column for missing values and provide a count of how many are present in each.\n",
    "\n",
    "Use .isnull() and .sum() on the diabetes_data DataFrame to check for missing values in a single line of code.\n",
    "\n",
    "Run the cell to see if any columns have missing values.\n",
    "\n",
    "If the output shows zeros for all columns, it means your dataset is complete and has no missing values. If you see non-zero counts, it indicates the presence of missing data, which you might need to address in subsequent steps.\n",
    "\n",
    "Step 7: Analyzing the class distribution for imbalance\n",
    "\n",
    "Now that the data is cleaned and organized, you can analyze the class distribution for imbalance. For example, you can check how many instances belong to each class (diabetic or non-diabetic) in your dataset. This is crucial because a significant imbalance between the classes can hinder your model's ability to learn effectively, potentially leading to biased predictions.\n",
    "\n",
    "To do this, you will focus on the 'Outcome' column, which is the target variable, as it directly indicates whether a patient has diabetes or not. The code to count the occurrences of each class is partially provided for you: class_counts = diabetes_data['Outcome'].\n",
    "\n",
    "Add the .value_counts() method to the end of the code above to calculate how many times each unique value (0 and 1) appears in the 'Outcome' column.\n",
    "\n",
    "The code to visualize the plot has been provided for you.\n",
    "\n",
    "Use plt.title() to give your chart this meaningful title: \"Class Distribution\".\n",
    "\n",
    "Use plt.show() and run the cell to display the plot.\n",
    "\n",
    "Step 8: Separating features and target\n",
    "\n",
    "As you can see from the plot, the dataset is imbalanced, with more negative cases (Outcome = 0) than positive cases (Outcome = 1). This imbalance can lead to a biased model. For example, since you'll be using a logistic regression model to predict whether a patient has diabetes or not, the imbalance can negatively impact its predictive performance in accurately identifying patients with diabetes.\n",
    "\n",
    "To ensure the logistic regression model learns effectively from both the majority (non-diabetic) and minority (diabetic) classes, you will use a technique called SMOTE (Synthetic Minority Over-sampling Technique) in the upcoming steps.\n",
    "\n",
    "However, you first need to prepare and preprocess your data for SMOTE by splitting the data into features (training) and target (test) sets and then standardize the features (feature scaling).\n",
    "\n",
    "In this step, you’ll begin data preprocessing by separating the features (the information you'll use to make predictions) from the target variable (what you want to predict). Think of the features as the clues, and the target as the answer you're trying to find. In your dataset, the 'Outcome' column tells you whether a patient has diabetes or not. This is what you want to predict, so it's your target variable.\n",
    "\n",
    "The code to create a new DataFrame called x using the drop() function that contains all the columns from diabetes_data except for the 'Outcome' column has been provided for you. These remaining columns are your features - the health indicators you'll use to make predictions.\n",
    "\n",
    "With your features ready, it’s time to define your target variable:\n",
    "\n",
    "Use square brackets [] to assign the 'Outcome' column of the diabetes_data DataFrame to a variable y, which represents the target variable.\n",
    "\n",
    "The code to split your features (x) and target variable (y) into training and testing sets using train_test_split has been provided for you. This ensures that your model learns from one portion of the data (training set) and is evaluated on a separate, unseen portion (testing set), preventing overfitting and providing a more realistic assessment of its performance.\n",
    "\n",
    "Run the cell. There will be no output.\n",
    "\n",
    "Step 9: Standardize features (feature scaling)\n",
    "\n",
    "To finish up preprocessing the data, you'll need to ensure that all your features (health indicators) are on a similar scale. This is important because some features might have much larger values than others (e.g., glucose levels compared to the diabetes pedigree function). This is the purpose of feature scaling, it brings all these features onto a similar scale, preventing any one feature from dominating the model's learning process. It's like making sure everyone has an equal voice in a group discussion.\n",
    "\n",
    "The code to standardize features using StandardScaler has been provided for you. Note that it has been applied to the training set and to the testing set. This is important because you want to evaluate the model on data that has been preprocessed in the same way as the training data.\n",
    "\n",
    "Run the cell. There will be no output.\n",
    "\n",
    "Step 10: Apply SMOTE to the training data\n",
    "\n",
    "You now have standardized data with all features on a similar scale! In this step, you will finally use this data to train and evaluate your machine learning model, potentially leading to improved performance and fairer predictions.\n",
    "\n",
    "You will use SMOTE to help in addressing the class imbalance from earlier, which showed that there were significantly more non-diabetic patients than diabetic patients in the dataset. SMOTE, or Synthetic Minority Over-sampling Technique, generates new, synthetic examples of the minority class (diabetic patients) based on the existing ones. It does this by carefully analyzing the features of the existing diabetic patients and then creating new, similar but slightly different, examples. This helps balance the dataset, giving our model a fairer chance to learn the patterns associated with diabetes.\n",
    "\n",
    "To start using SMOTE, you will first apply it to your training data to balance the class distribution. This involves fitting SMOTE to your scaled training data to learn the patterns of both the majority and minority classes. Then, SMOTE will generate synthetic samples for the minority class, strategically placing them in the feature space to create a more balanced dataset.\n",
    "\n",
    "The first line of code that has been provided for you imports the SMOTE class from the imblearn.over_sampling module, creates a smote object with a random_state of 42 for reproducibility.\n",
    "\n",
    "The next line of code to apply SMOTE to the training data is partially provided for you: x_train_smote, y_train_smote = smote.\n",
    "\n",
    "Complete the code by adding .fit_resample(x_train_scaled, y_train) to the end of the partially provided line above. This will instruct SMOTE to fit (i.e., learn the patterns in your training data x_train_scaled and y_train) and resample (i.e., generate synthetic samples for the minority class to balance the dataset).\n",
    "\n",
    "Run the cell. There will be no output.\n",
    "\n",
    "Step 11: Visualizing class distribution after SMOTE\n",
    "\n",
    "You've successfully applied SMOTE to your training data. In this step, you’ll finally get to see its impact by comparing the class distribution before and after SMOTE, both numerically and visually. This will highlight how SMOTE has increased the number of examples for the minority class (diabetic patients).\n",
    "\n",
    "The provided code displays the class distribution before and after applying SMOTE, and then visualizes the balanced distribution using a count plot. This allows you to observe how SMOTE has effectively addressed the class imbalance by generating synthetic samples for the minority class (patients with diabetes).\n",
    "\n",
    "Run the cell to display the plot.\n",
    "\n",
    "Step 12: Initialize the logistic regression models\n",
    "\n",
    "The visualization shows SMOTE has successfully balanced your training data. You now have an equal number of examples for both the 'no diabetes' (0) and 'diabetes' (1) classes. With this balanced dataset, it's time to train the logistic regression model, which will learn from both classes more effectively, reducing the bias towards the majority class that we observed earlier.\n",
    "\n",
    "Logistic regression is a popular algorithm for classification tasks like predicting whether a patient has diabetes or not. It weighs the evidence from different factors (health indicators) and then calculates the probability of an event occurring (in this case, the patient having diabetes) and classifies the patient based on whether this probability is above or below a certain threshold.\n",
    "\n",
    "In this step, you will initialize the logistic regression models, one to be trained on the original, imbalanced data and the other that to be trained on the balanced data generated by SMOTE.\n",
    "\n",
    "The first line of code that initializes the first original model has been provided for you.\n",
    "\n",
    "The second line of code that initializes the SMOTE-balanced data is partially provided for you. To complete this line of code:\n",
    "\n",
    "Add LogisticRegression(solver='liblinear', max_iter=200) to model_smote =.\n",
    "\n",
    "Run the cell. There will be no output.\n",
    "\n",
    "Step 13: Train the models\n",
    "\n",
    "With your models initialized, it's time to train your logistic regression models! You'll use the fit method to teach each model the patterns and relationships in its respective dataset. Then, you'll compare their performance to see how SMOTE impacts your ability to predict diabetes accurately, especially for the minority class (patients with diabetes).\n",
    "\n",
    "The first line of code that trains the model on the original dataset has been provided for you.\n",
    "\n",
    "The second line of code that trains the second model on the SMOTE-balanced data is partially provided for you. To complete this line of code:\n",
    "\n",
    "Add .fit(x_train_smote, y_train_smote) to model_smote .\n",
    "\n",
    "Run the cell.\n",
    "\n",
    "Step 14: Make predictions and prepare to evaluate models\n",
    "\n",
    "The provided code puts your trained models to the test by making predictions on the unseen testing set. It calculates not only the predicted labels (diabetic or not) but also the probability of each prediction. Then, it defines a handy evaluate_model function to assess the performance of each model using key metrics like accuracy, precision, recall, and ROC-AUC. This function also generates a detailed classification report, providing a comprehensive overview of how well each model is classifying both diabetic and non-diabetic patients.\n",
    "\n",
    "Run the cell. There will be no output.\n",
    "\n",
    "Step 15: Evaluate the model on original data\n",
    "\n",
    "In this step, you'll see how the model you trained on the original, imbalanced data performs.\n",
    "\n",
    "The provided code will use the evaluate_model function you defined earlier to calculate and print various performance metrics for this model. It will give you insights into how well the model predicts diabetes on the imbalanced dataset, serving as a baseline for comparison with the model trained on the SMOTE-balanced data.\n",
    "\n",
    "Run the cell.\n",
    "\n",
    "Step 16: Evaluate the model on SMOTE-augmented data\n",
    "\n",
    "You’ll also want to see how the model you trained on the balanced data using SMOTE performs.\n",
    "\n",
    "The provided code will again utilize the evaluate_model function to calculate and print the performance metrics for this model. This evaluation will reveal how effectively SMOTE has addressed the class imbalance and improved the model's ability to predict diabetes, particularly for the minority class (patients with diabetes).\n",
    "\n",
    "Run the cell.\n",
    "\n",
    "Step 17: Visualize and compare model performance\n",
    "\n",
    "Although you have two evaluations in numerical form, it will be helpful to visualize the performance of both models using ROC curves so that it’s easy to communicate this data to others. ROC curves plot the true positive rate (sensitivity) against the false positive rate (1-specificity) for different classification thresholds. They  help you understand how well each model distinguishes between the two classes (diabetic and non-diabetic) across various levels of sensitivity and specificity.\n",
    "\n",
    "The provided code generates ROC curves for both the original and SMOTE-augmented models, allowing you to visually compare their performance and assess the impact of SMOTE on the model's ability to discriminate between the classes.\n",
    "\n",
    "Run the cell to display the plot.\n",
    "\n",
    "ROC curves visually illustrate the diagnostic ability of your models. The closer the curve is to the top-left corner, the higher its Area Under the Curve (AUC), and the better the model's overall performance. A higher AUC means the model is more effective at distinguishing between patients with and without diabetes.\n",
    "\n",
    "The blue curve, representing the model trained on the imbalanced dataset, shows decent performance, performing better than random guessing (the diagonal line). However, it could be improved in its ability to accurately identify diabetic patients.\n",
    "\n",
    "The orange curve, generated from the model trained on the balanced dataset after applying SMOTE, is closer to the top-left corner. This suggests that balancing the dataset improved the model's capacity to correctly classify positive cases (patients with diabetes).\n",
    "\n",
    "Project Recap: Synthetic Data Generation\n",
    "\n",
    "Congratulations! In this project, you successfully used SMOTE to address class imbalance in the Pima Indians Diabetes Dataset. By generating synthetic samples of the minority class (patients with diabetes), SMOTE improved the performance of your logistic regression model. The ROC curve analysis visually demonstrated this improvement, showing a higher true positive rate (sensitivity) for the model trained on the balanced dataset. This highlights the value of SMOTE in enhancing the accuracy of medical diagnoses, particularly in critical scenarios where identifying positive cases is crucial. Remember, while SMOTE is a powerful tool, careful consideration of potential trade-offs, such as an increase in false positives, is essential in real-world healthcare applications. Through this project, you've gained practical experience in handling imbalanced data and evaluating model performance, equipping you with valuable skills for building effective and fair machine learning models in the healthcare domain.\n",
    "\n",
    "1.\n",
    "Question 1\n"
   ]
  },
  {
   "cell_type": "code",
   "execution_count": null,
   "id": "HUVCSv6YC47M",
   "metadata": {
    "colab": {
     "base_uri": "https://localhost:8080/"
    },
    "executionInfo": {
     "elapsed": 9351,
     "status": "ok",
     "timestamp": 1739529636720,
     "user": {
      "displayName": "Rooldy Alphonse",
      "userId": "16715067766107628705"
     },
     "user_tz": -60
    },
    "id": "HUVCSv6YC47M",
    "outputId": "6fa47bb7-af76-473d-e2eb-7950a5633440"
   },
   "outputs": [
    {
     "name": "stdout",
     "output_type": "stream",
     "text": [
      "Requirement already satisfied: imbalanced-learn in /usr/local/lib/python3.11/dist-packages (0.13.0)\n",
      "Requirement already satisfied: numpy<3,>=1.24.3 in /usr/local/lib/python3.11/dist-packages (from imbalanced-learn) (1.26.4)\n",
      "Requirement already satisfied: scipy<2,>=1.10.1 in /usr/local/lib/python3.11/dist-packages (from imbalanced-learn) (1.13.1)\n",
      "Requirement already satisfied: scikit-learn<2,>=1.3.2 in /usr/local/lib/python3.11/dist-packages (from imbalanced-learn) (1.6.1)\n",
      "Requirement already satisfied: sklearn-compat<1,>=0.1 in /usr/local/lib/python3.11/dist-packages (from imbalanced-learn) (0.1.3)\n",
      "Requirement already satisfied: joblib<2,>=1.1.1 in /usr/local/lib/python3.11/dist-packages (from imbalanced-learn) (1.4.2)\n",
      "Requirement already satisfied: threadpoolctl<4,>=2.0.0 in /usr/local/lib/python3.11/dist-packages (from imbalanced-learn) (3.5.0)\n"
     ]
    }
   ],
   "source": [
    "# Import necessary libraries\n",
    "import numpy as np\n",
    "import pandas as pd\n",
    "import matplotlib.pyplot as plt\n",
    "%matplotlib inline\n",
    "\n",
    "from sklearn.model_selection import train_test_split\n",
    "from sklearn.linear_model import LogisticRegression\n",
    "from sklearn.metrics import (\n",
    "    accuracy_score,\n",
    "    precision_score,\n",
    "    recall_score,\n",
    "    roc_auc_score,\n",
    "    classification_report,\n",
    "    roc_curve,\n",
    ")\n",
    "\n",
    "# Import SMOTE\n",
    "!pip install imbalanced-learn\n",
    "from imblearn.over_sampling import SMOTE"
   ]
  },
  {
   "cell_type": "code",
   "execution_count": null,
   "id": "oW79XJ6iC6Wp",
   "metadata": {
    "colab": {
     "base_uri": "https://localhost:8080/",
     "height": 382
    },
    "executionInfo": {
     "elapsed": 986,
     "status": "error",
     "timestamp": 1739536667580,
     "user": {
      "displayName": "Rooldy Alphonse",
      "userId": "16715067766107628705"
     },
     "user_tz": -60
    },
    "id": "oW79XJ6iC6Wp",
    "outputId": "fec1d27f-33cf-437b-f085-689ede7bd740"
   },
   "outputs": [
    {
     "ename": "FileNotFoundError",
     "evalue": "[Errno 2] No such file or directory: 'sales_data.csv'",
     "output_type": "error",
     "traceback": [
      "\u001b[0;31m---------------------------------------------------------------------------\u001b[0m",
      "\u001b[0;31mFileNotFoundError\u001b[0m                         Traceback (most recent call last)",
      "\u001b[0;32m<ipython-input-3-2ce63ef96497>\u001b[0m in \u001b[0;36m<cell line: 0>\u001b[0;34m()\u001b[0m\n\u001b[1;32m     54\u001b[0m \u001b[0;34m\u001b[0m\u001b[0m\n\u001b[1;32m     55\u001b[0m \u001b[0;31m# Main Automation Flow\u001b[0m\u001b[0;34m\u001b[0m\u001b[0;34m\u001b[0m\u001b[0m\n\u001b[0;32m---> 56\u001b[0;31m \u001b[0mraw_data\u001b[0m \u001b[0;34m=\u001b[0m \u001b[0mgather_data_from_sources\u001b[0m\u001b[0;34m(\u001b[0m\u001b[0;34m)\u001b[0m\u001b[0;34m\u001b[0m\u001b[0;34m\u001b[0m\u001b[0m\n\u001b[0m\u001b[1;32m     57\u001b[0m \u001b[0mprocessed_data\u001b[0m \u001b[0;34m=\u001b[0m \u001b[0mprocess_and_format_data\u001b[0m\u001b[0;34m(\u001b[0m\u001b[0mraw_data\u001b[0m\u001b[0;34m)\u001b[0m\u001b[0;34m\u001b[0m\u001b[0;34m\u001b[0m\u001b[0m\n\u001b[1;32m     58\u001b[0m \u001b[0mgenerate_report\u001b[0m\u001b[0;34m(\u001b[0m\u001b[0mprocessed_data\u001b[0m\u001b[0;34m)\u001b[0m\u001b[0;34m\u001b[0m\u001b[0;34m\u001b[0m\u001b[0m\n",
      "\u001b[0;32m<ipython-input-3-2ce63ef96497>\u001b[0m in \u001b[0;36mgather_data_from_sources\u001b[0;34m()\u001b[0m\n\u001b[1;32m     36\u001b[0m \u001b[0;34m\u001b[0m\u001b[0m\n\u001b[1;32m     37\u001b[0m \u001b[0;32mdef\u001b[0m \u001b[0mgather_data_from_sources\u001b[0m\u001b[0;34m(\u001b[0m\u001b[0;34m)\u001b[0m\u001b[0;34m:\u001b[0m\u001b[0;34m\u001b[0m\u001b[0;34m\u001b[0m\u001b[0m\n\u001b[0;32m---> 38\u001b[0;31m   \u001b[0mdata_from_csv\u001b[0m \u001b[0;34m=\u001b[0m \u001b[0mpd\u001b[0m\u001b[0;34m.\u001b[0m\u001b[0mread_csv\u001b[0m\u001b[0;34m(\u001b[0m\u001b[0;34m'sales_data.csv'\u001b[0m\u001b[0;34m)\u001b[0m\u001b[0;34m\u001b[0m\u001b[0;34m\u001b[0m\u001b[0m\n\u001b[0m\u001b[1;32m     39\u001b[0m   \u001b[0;31m# Example: Fetching data from a website using requests & BeautifulSoup\u001b[0m\u001b[0;34m\u001b[0m\u001b[0;34m\u001b[0m\u001b[0m\n\u001b[1;32m     40\u001b[0m   \u001b[0mweb_data_url\u001b[0m \u001b[0;34m=\u001b[0m \u001b[0;34m'https://example.com/marketing_data'\u001b[0m\u001b[0;34m\u001b[0m\u001b[0;34m\u001b[0m\u001b[0m\n",
      "\u001b[0;32m/usr/local/lib/python3.11/dist-packages/pandas/io/parsers/readers.py\u001b[0m in \u001b[0;36mread_csv\u001b[0;34m(filepath_or_buffer, sep, delimiter, header, names, index_col, usecols, dtype, engine, converters, true_values, false_values, skipinitialspace, skiprows, skipfooter, nrows, na_values, keep_default_na, na_filter, verbose, skip_blank_lines, parse_dates, infer_datetime_format, keep_date_col, date_parser, date_format, dayfirst, cache_dates, iterator, chunksize, compression, thousands, decimal, lineterminator, quotechar, quoting, doublequote, escapechar, comment, encoding, encoding_errors, dialect, on_bad_lines, delim_whitespace, low_memory, memory_map, float_precision, storage_options, dtype_backend)\u001b[0m\n\u001b[1;32m   1024\u001b[0m     \u001b[0mkwds\u001b[0m\u001b[0;34m.\u001b[0m\u001b[0mupdate\u001b[0m\u001b[0;34m(\u001b[0m\u001b[0mkwds_defaults\u001b[0m\u001b[0;34m)\u001b[0m\u001b[0;34m\u001b[0m\u001b[0;34m\u001b[0m\u001b[0m\n\u001b[1;32m   1025\u001b[0m \u001b[0;34m\u001b[0m\u001b[0m\n\u001b[0;32m-> 1026\u001b[0;31m     \u001b[0;32mreturn\u001b[0m \u001b[0m_read\u001b[0m\u001b[0;34m(\u001b[0m\u001b[0mfilepath_or_buffer\u001b[0m\u001b[0;34m,\u001b[0m \u001b[0mkwds\u001b[0m\u001b[0;34m)\u001b[0m\u001b[0;34m\u001b[0m\u001b[0;34m\u001b[0m\u001b[0m\n\u001b[0m\u001b[1;32m   1027\u001b[0m \u001b[0;34m\u001b[0m\u001b[0m\n\u001b[1;32m   1028\u001b[0m \u001b[0;34m\u001b[0m\u001b[0m\n",
      "\u001b[0;32m/usr/local/lib/python3.11/dist-packages/pandas/io/parsers/readers.py\u001b[0m in \u001b[0;36m_read\u001b[0;34m(filepath_or_buffer, kwds)\u001b[0m\n\u001b[1;32m    618\u001b[0m \u001b[0;34m\u001b[0m\u001b[0m\n\u001b[1;32m    619\u001b[0m     \u001b[0;31m# Create the parser.\u001b[0m\u001b[0;34m\u001b[0m\u001b[0;34m\u001b[0m\u001b[0m\n\u001b[0;32m--> 620\u001b[0;31m     \u001b[0mparser\u001b[0m \u001b[0;34m=\u001b[0m \u001b[0mTextFileReader\u001b[0m\u001b[0;34m(\u001b[0m\u001b[0mfilepath_or_buffer\u001b[0m\u001b[0;34m,\u001b[0m \u001b[0;34m**\u001b[0m\u001b[0mkwds\u001b[0m\u001b[0;34m)\u001b[0m\u001b[0;34m\u001b[0m\u001b[0;34m\u001b[0m\u001b[0m\n\u001b[0m\u001b[1;32m    621\u001b[0m \u001b[0;34m\u001b[0m\u001b[0m\n\u001b[1;32m    622\u001b[0m     \u001b[0;32mif\u001b[0m \u001b[0mchunksize\u001b[0m \u001b[0;32mor\u001b[0m \u001b[0miterator\u001b[0m\u001b[0;34m:\u001b[0m\u001b[0;34m\u001b[0m\u001b[0;34m\u001b[0m\u001b[0m\n",
      "\u001b[0;32m/usr/local/lib/python3.11/dist-packages/pandas/io/parsers/readers.py\u001b[0m in \u001b[0;36m__init__\u001b[0;34m(self, f, engine, **kwds)\u001b[0m\n\u001b[1;32m   1618\u001b[0m \u001b[0;34m\u001b[0m\u001b[0m\n\u001b[1;32m   1619\u001b[0m         \u001b[0mself\u001b[0m\u001b[0;34m.\u001b[0m\u001b[0mhandles\u001b[0m\u001b[0;34m:\u001b[0m \u001b[0mIOHandles\u001b[0m \u001b[0;34m|\u001b[0m \u001b[0;32mNone\u001b[0m \u001b[0;34m=\u001b[0m \u001b[0;32mNone\u001b[0m\u001b[0;34m\u001b[0m\u001b[0;34m\u001b[0m\u001b[0m\n\u001b[0;32m-> 1620\u001b[0;31m         \u001b[0mself\u001b[0m\u001b[0;34m.\u001b[0m\u001b[0m_engine\u001b[0m \u001b[0;34m=\u001b[0m \u001b[0mself\u001b[0m\u001b[0;34m.\u001b[0m\u001b[0m_make_engine\u001b[0m\u001b[0;34m(\u001b[0m\u001b[0mf\u001b[0m\u001b[0;34m,\u001b[0m \u001b[0mself\u001b[0m\u001b[0;34m.\u001b[0m\u001b[0mengine\u001b[0m\u001b[0;34m)\u001b[0m\u001b[0;34m\u001b[0m\u001b[0;34m\u001b[0m\u001b[0m\n\u001b[0m\u001b[1;32m   1621\u001b[0m \u001b[0;34m\u001b[0m\u001b[0m\n\u001b[1;32m   1622\u001b[0m     \u001b[0;32mdef\u001b[0m \u001b[0mclose\u001b[0m\u001b[0;34m(\u001b[0m\u001b[0mself\u001b[0m\u001b[0;34m)\u001b[0m \u001b[0;34m->\u001b[0m \u001b[0;32mNone\u001b[0m\u001b[0;34m:\u001b[0m\u001b[0;34m\u001b[0m\u001b[0;34m\u001b[0m\u001b[0m\n",
      "\u001b[0;32m/usr/local/lib/python3.11/dist-packages/pandas/io/parsers/readers.py\u001b[0m in \u001b[0;36m_make_engine\u001b[0;34m(self, f, engine)\u001b[0m\n\u001b[1;32m   1878\u001b[0m                 \u001b[0;32mif\u001b[0m \u001b[0;34m\"b\"\u001b[0m \u001b[0;32mnot\u001b[0m \u001b[0;32min\u001b[0m \u001b[0mmode\u001b[0m\u001b[0;34m:\u001b[0m\u001b[0;34m\u001b[0m\u001b[0;34m\u001b[0m\u001b[0m\n\u001b[1;32m   1879\u001b[0m                     \u001b[0mmode\u001b[0m \u001b[0;34m+=\u001b[0m \u001b[0;34m\"b\"\u001b[0m\u001b[0;34m\u001b[0m\u001b[0;34m\u001b[0m\u001b[0m\n\u001b[0;32m-> 1880\u001b[0;31m             self.handles = get_handle(\n\u001b[0m\u001b[1;32m   1881\u001b[0m                 \u001b[0mf\u001b[0m\u001b[0;34m,\u001b[0m\u001b[0;34m\u001b[0m\u001b[0;34m\u001b[0m\u001b[0m\n\u001b[1;32m   1882\u001b[0m                 \u001b[0mmode\u001b[0m\u001b[0;34m,\u001b[0m\u001b[0;34m\u001b[0m\u001b[0;34m\u001b[0m\u001b[0m\n",
      "\u001b[0;32m/usr/local/lib/python3.11/dist-packages/pandas/io/common.py\u001b[0m in \u001b[0;36mget_handle\u001b[0;34m(path_or_buf, mode, encoding, compression, memory_map, is_text, errors, storage_options)\u001b[0m\n\u001b[1;32m    871\u001b[0m         \u001b[0;32mif\u001b[0m \u001b[0mioargs\u001b[0m\u001b[0;34m.\u001b[0m\u001b[0mencoding\u001b[0m \u001b[0;32mand\u001b[0m \u001b[0;34m\"b\"\u001b[0m \u001b[0;32mnot\u001b[0m \u001b[0;32min\u001b[0m \u001b[0mioargs\u001b[0m\u001b[0;34m.\u001b[0m\u001b[0mmode\u001b[0m\u001b[0;34m:\u001b[0m\u001b[0;34m\u001b[0m\u001b[0;34m\u001b[0m\u001b[0m\n\u001b[1;32m    872\u001b[0m             \u001b[0;31m# Encoding\u001b[0m\u001b[0;34m\u001b[0m\u001b[0;34m\u001b[0m\u001b[0m\n\u001b[0;32m--> 873\u001b[0;31m             handle = open(\n\u001b[0m\u001b[1;32m    874\u001b[0m                 \u001b[0mhandle\u001b[0m\u001b[0;34m,\u001b[0m\u001b[0;34m\u001b[0m\u001b[0;34m\u001b[0m\u001b[0m\n\u001b[1;32m    875\u001b[0m                 \u001b[0mioargs\u001b[0m\u001b[0;34m.\u001b[0m\u001b[0mmode\u001b[0m\u001b[0;34m,\u001b[0m\u001b[0;34m\u001b[0m\u001b[0;34m\u001b[0m\u001b[0m\n",
      "\u001b[0;31mFileNotFoundError\u001b[0m: [Errno 2] No such file or directory: 'sales_data.csv'"
     ]
    }
   ],
   "source": [
    "import pandas as pd\n",
    "import requests\n",
    "from bs4 import BeautifulSoup\n",
    "\n",
    "# Generate an automation workflow for data collection from csv and website\n",
    "\n",
    "def extract_from_website(url):\n",
    "    # Function to extract data from html website\n",
    "    try:\n",
    "        response = requests.get(url)\n",
    "        response.raise_for_status()\n",
    "\n",
    "        soup = BeautifulSoup(response.text, 'html.parser')\n",
    "\n",
    "        # Find a table element\n",
    "        table = soup.find('table')\n",
    "\n",
    "        # If a table is found, extract the data\n",
    "        if table:\n",
    "            headers = [th.text for th in table.find('tr').find_all('th')]\n",
    "            data = []\n",
    "\t\t  # The loop will find all tr tags (table rows)\n",
    "            for row in table.find_all('tr')[1:]:\n",
    "\t\t\t# Within each table row, select all td (table data)\n",
    "                row_data = [td.text for td in row.find_all('td')]\n",
    "\t\t\t# Appends the value from the td to the data array\n",
    "                data.append(dict(zip(headers, row_data)))\n",
    "\n",
    "            return pd.DataFrame(data)\n",
    "        else:\n",
    "            print(\"No table found on the page.\")\n",
    "            return None\n",
    "    except Exception as e:\n",
    "        print(f\"Error fetching URL: {e}\")\n",
    "        return None\n",
    "\n",
    "def gather_data_from_sources():\n",
    "  data_from_csv = pd.read_csv('sales_data.csv')\n",
    "  # Example: Fetching data from a website using requests & BeautifulSoup\n",
    "  web_data_url = 'https://example.com/marketing_data'\n",
    "  data_from_website = extract_from_website(web_data_url)\n",
    "  return pd.concat([data_from_csv, data_from_website], axis=1) # Combine data\n",
    "\n",
    "def process_and_format_data(data):\n",
    "  # ... Process data to create Price Per Unit column.\n",
    "  formatted_data = data[['Total Order Price', 'Number of Units']]\n",
    "  formatted_data['Price Per Unit'] = formatted_data['Total Order Price'] / formatted_data['Number of Units']\n",
    "  return formatted_data\n",
    "\n",
    "def generate_report(data):\n",
    "  # Generate final report (could use pandas' to_excel, or libraries like ReportLab, matplotlib, etc).\n",
    "  data.to_excel('marketing_report.xlsx')\n",
    "  print(\"Report generated successfully!\")\n",
    "\n",
    "# Main Automation Flow\n",
    "raw_data = gather_data_from_sources()\n",
    "processed_data = process_and_format_data(raw_data)\n",
    "generate_report(processed_data)"
   ]
  },
  {
   "cell_type": "code",
   "execution_count": null,
   "id": "FdiIrDlMdw8V",
   "metadata": {
    "colab": {
     "base_uri": "https://localhost:8080/",
     "height": 108
    },
    "executionInfo": {
     "elapsed": 8,
     "status": "error",
     "timestamp": 1739536700260,
     "user": {
      "displayName": "Rooldy Alphonse",
      "userId": "16715067766107628705"
     },
     "user_tz": -60
    },
    "id": "FdiIrDlMdw8V",
    "outputId": "477de7de-d839-4457-9765-843caa37ea35"
   },
   "outputs": [
    {
     "ename": "SyntaxError",
     "evalue": "invalid syntax (<ipython-input-4-b10a33dda1b6>, line 9)",
     "output_type": "error",
     "traceback": [
      "\u001b[0;36m  File \u001b[0;32m\"<ipython-input-4-b10a33dda1b6>\"\u001b[0;36m, line \u001b[0;32m9\u001b[0m\n\u001b[0;31m    Return simple_task_function()\u001b[0m\n\u001b[0m           ^\u001b[0m\n\u001b[0;31mSyntaxError\u001b[0m\u001b[0;31m:\u001b[0m invalid syntax\n"
     ]
    }
   ],
   "source": [
    "# Illustrative Python code showcasing tool selection for automation\n",
    "# Scenario 1: Python-Powered Automation\n",
    "import pandas as pd\n",
    "# ... other potential libraries based on task: os, requests, BeautifulSoup, etc.\n",
    "def automate_with_python(task_complexity):\n",
    "  if task_complexity == \"simple\":\n",
    "    # ... Code for simple file operations, basic data handling, etc.\n",
    "    print(\"Python automating simple tasks!\")\n",
    "    Return simple_task_function()\n",
    "  elif task_complexity == \"complex\":\n",
    "    # ... Code leveraging pandas for data analysis, web scraping, etc.\n",
    "    print(\"Python handling complex automation with its powerful libraries!\")\n",
    "    return complex_task_function()\n",
    "\n",
    "# Scenario 2: No-Code Automation (Conceptual)\n",
    "def automate_with_no_code(platform):\n",
    "  if platform == \"Zapier\":\n",
    "    # ... Conceptual representation of Zapier automation setup\n",
    "    print(\"Zapier automating tasks with its visual interface!\")\n",
    "  # ... other no-code platforms could be added here\n",
    "# User's Choice & Task Complexity\n",
    "comfortable_with_coding = True  # Or False\n",
    "task_complexity = \"complex\"     # Or \"simple\"\n",
    "if comfortable_with_coding:\n",
    "  automate_with_python(task_complexity)\n",
    "else:\n",
    "  automate_with_no_code(\"Zapier\")\n",
    "print(\"Automation in action! Choose the tools that empower you.\")"
   ]
  },
  {
   "cell_type": "code",
   "execution_count": null,
   "id": "IFGkhKqfd5Ko",
   "metadata": {
    "colab": {
     "base_uri": "https://localhost:8080/",
     "height": 182
    },
    "executionInfo": {
     "elapsed": 17,
     "status": "error",
     "timestamp": 1739549068607,
     "user": {
      "displayName": "Rooldy Alphonse",
      "userId": "16715067766107628705"
     },
     "user_tz": -60
    },
    "id": "IFGkhKqfd5Ko",
    "outputId": "ba8f92f9-c1b2-4da2-c6ab-aa58a90b7759"
   },
   "outputs": [
    {
     "name": "stderr",
     "output_type": "stream",
     "text": [
      "usage: colab_kernel_launcher.py [-h] name\n",
      "colab_kernel_launcher.py: error: unrecognized arguments: -f\n"
     ]
    },
    {
     "ename": "SystemExit",
     "evalue": "2",
     "output_type": "error",
     "traceback": [
      "An exception has occurred, use %tb to see the full traceback.\n",
      "\u001b[0;31mSystemExit\u001b[0m\u001b[0;31m:\u001b[0m 2\n"
     ]
    },
    {
     "name": "stderr",
     "output_type": "stream",
     "text": [
      "/usr/local/lib/python3.11/dist-packages/IPython/core/interactiveshell.py:3561: UserWarning: To exit: use 'exit', 'quit', or Ctrl-D.\n",
      "  warn(\"To exit: use 'exit', 'quit', or Ctrl-D.\", stacklevel=1)\n"
     ]
    }
   ],
   "source": [
    "import argparse\n",
    "parser = argparse.ArgumentParser(description='A friendly greeting script.')\n",
    "parser.add_argument('name', help='The name of the person to greet.')\n",
    "args = parser.parse_args()\n",
    "print(f\"Hello, {args.name}!\")"
   ]
  },
  {
   "cell_type": "code",
   "execution_count": null,
   "id": "Lrvo-JxhNExu",
   "metadata": {
    "colab": {
     "base_uri": "https://localhost:8080/"
    },
    "executionInfo": {
     "elapsed": 41,
     "status": "ok",
     "timestamp": 1739549087179,
     "user": {
      "displayName": "Rooldy Alphonse",
      "userId": "16715067766107628705"
     },
     "user_tz": -60
    },
    "id": "Lrvo-JxhNExu",
    "outputId": "8ac54aaf-1ff8-44c6-b1e9-7bbdb0bb9c72"
   },
   "outputs": [
    {
     "name": "stdout",
     "output_type": "stream",
     "text": [
      "Hello, -f!\n"
     ]
    }
   ],
   "source": [
    "import sys\n",
    "if len(sys.argv) > 1:\n",
    "    name = sys.argv[1]\n",
    "    print(f\"Hello, {name}!\")\n",
    "else:\n",
    "    print(\"Hello, there!\")"
   ]
  },
  {
   "cell_type": "code",
   "execution_count": null,
   "id": "m3vdfEoDNJTq",
   "metadata": {
    "colab": {
     "base_uri": "https://localhost:8080/"
    },
    "executionInfo": {
     "elapsed": 86,
     "status": "ok",
     "timestamp": 1739549125239,
     "user": {
      "displayName": "Rooldy Alphonse",
      "userId": "16715067766107628705"
     },
     "user_tz": -60
    },
    "id": "m3vdfEoDNJTq",
    "outputId": "68f2bf16-5e4e-48f6-8aef-e845b395c503"
   },
   "outputs": [
    {
     "data": {
      "text/plain": [
       "2"
      ]
     },
     "execution_count": 7,
     "metadata": {},
     "output_type": "execute_result"
    }
   ],
   "source": [
    "#Python error_finder.py\n",
    "import subprocess\n",
    "\n",
    "# Use grep to find lines containing \"error\" in a log file\n",
    "grep_process = subprocess.Popen(['grep', 'error', 'logfile.txt'], stdout=subprocess.PIPE)\n",
    "\n",
    "# Pass the output of grep to a Python script for further analysis\n",
    "python_process = subprocess.Popen(['python', 'analyze_errors.py'], stdin=grep_process.stdout)\n",
    "\n",
    "# Wait for the Python script to finish\n",
    "python_process.wait()"
   ]
  },
  {
   "cell_type": "code",
   "execution_count": null,
   "id": "0BFE0cfqNSls",
   "metadata": {
    "colab": {
     "base_uri": "https://localhost:8080/"
    },
    "executionInfo": {
     "elapsed": 4,
     "status": "ok",
     "timestamp": 1739549139512,
     "user": {
      "displayName": "Rooldy Alphonse",
      "userId": "16715067766107628705"
     },
     "user_tz": -60
    },
    "id": "0BFE0cfqNSls",
    "outputId": "817a24fd-c186-4e1f-ca7e-3c0d9b2907b0"
   },
   "outputs": [
    {
     "name": "stdout",
     "output_type": "stream",
     "text": [
      "Finished analyzing errors.\n"
     ]
    }
   ],
   "source": [
    "# Python analyze_errors.py\n",
    "import sys\n",
    "\n",
    "# Read lines containing \"error\" from standard input (provided by subprocess)\n",
    "for line in sys.stdin:\n",
    "  # Process each error line\n",
    "  print(f\"Found: {line.strip()}\")\n",
    "\n",
    "print(\"Finished analyzing errors.\")"
   ]
  },
  {
   "cell_type": "code",
   "execution_count": null,
   "id": "ZgIK7B8nNWFu",
   "metadata": {
    "id": "ZgIK7B8nNWFu"
   },
   "outputs": [],
   "source": [
    "import os\n",
    "import subprocess\n",
    "for filename in os.listdir('data_directory'):\n",
    "    if filename.endswith('.csv'):\n",
    "        # Convert CSV files to Excel using a shell command\n",
    "        subprocess.call(['libreoffice', '--convert-to', 'xls', filename])"
   ]
  },
  {
   "cell_type": "code",
   "execution_count": null,
   "id": "IM-NzqR8Na2d",
   "metadata": {
    "id": "IM-NzqR8Na2d"
   },
   "outputs": [],
   "source": [
    "import subprocess\n",
    "\n",
    "try:\n",
    "    subprocess.run(['rm', 'important_file.txt'], check=True)  # Delete a file, raise an error if it fails\n",
    "except subprocess.CalledProcessError as e:\n",
    "    print(f\"Error deleting file: {e}\")"
   ]
  },
  {
   "cell_type": "code",
   "execution_count": null,
   "id": "r-6maoLLNfMm",
   "metadata": {
    "id": "r-6maoLLNfMm"
   },
   "outputs": [],
   "source": []
  }
 ],
 "metadata": {
  "colab": {
   "provenance": []
  },
  "kernelspec": {
   "display_name": "Python 3 (ipykernel)",
   "language": "python",
   "name": "python3"
  },
  "language_info": {
   "codemirror_mode": {
    "name": "ipython",
    "version": 3
   },
   "file_extension": ".py",
   "mimetype": "text/x-python",
   "name": "python",
   "nbconvert_exporter": "python",
   "pygments_lexer": "ipython3",
   "version": "3.12.7"
  }
 },
 "nbformat": 4,
 "nbformat_minor": 5
}
